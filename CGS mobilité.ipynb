{
 "cells": [
  {
   "cell_type": "code",
   "execution_count": 55,
   "metadata": {},
   "outputs": [],
   "source": [
    "import pandas as pd\n",
    "import numpy as np"
   ]
  },
  {
   "cell_type": "markdown",
   "metadata": {},
   "source": [
    "## Chargement des fichier de conso"
   ]
  },
  {
   "cell_type": "code",
   "execution_count": 56,
   "metadata": {},
   "outputs": [],
   "source": [
    "br_in = pd.read_excel(r\"C:\\Users\\sgasmi\\Desktop\\Dev\\Contrôle de gestion sociale\\CONSO BRIDGE IN _ CMO.xlsx\", sheet_name=\"base IN CORRIGEE\")\n",
    "br_out = pd.read_excel(r\"C:\\Users\\sgasmi\\Desktop\\Dev\\Contrôle de gestion sociale\\CONSO BRIDGE OUT _ CMO.xlsx\", sheet_name=\"base OUT corrigée\")"
   ]
  },
  {
   "cell_type": "markdown",
   "metadata": {},
   "source": [
    "## Préparation des colonnes"
   ]
  },
  {
   "cell_type": "code",
   "execution_count": 57,
   "metadata": {},
   "outputs": [
    {
     "name": "stdout",
     "output_type": "stream",
     "text": [
      "Le nombre de lignes total est de 3248. \n"
     ]
    }
   ],
   "source": [
    "# Choix des colonnes à fusionner\n",
    "Conso_in = br_in[[ \"Local payroll  Id\",\"MOIS\", \"Category\", \"Contract end Date\", \"Country\", \"Legal entity\", \"Establishment\", \"Site\",\n",
    "                 \"Last name\", \"First name\", \"Contract type\", \"Contract status\", \"Reason for entry\", \"Contract start Date\"]].copy()\n",
    "\n",
    "\n",
    "# Ajout des colonnes spécifiques de Conso_Out\n",
    "Conso_in[[\"reason for leaving\"]] = \"\"\n",
    "Conso_in[\"Mouvement\"] = \"In\" \n",
    "\n",
    "# Choix des colonnes à fusionner\n",
    "Conso_out = br_out[[ \"Local payroll  Id\", \"MOIS\", \"Cat.\", \"Contract start Date\", \"Contract end Date\", \"Country\", \"Company\", \"Establishment\", \"Site\", \"Last name\", \"First name\", \"Contract type\", \"Contract status\", \"reason for leaving\"]].copy()\n",
    "Conso_out.columns=  [\"Local payroll  Id\", \"MOIS\", \"Category\",  \"Contract start Date\",\"Contract end Date\", \"Country\", \"Legal entity\", \"Establishment\", \"Site\", \"Last name\", \"First name\", \"Contract type\", \"Contract status\", \"reason for leaving\"] \n",
    "\n",
    "# Ajout des colonnes spécifiques de Conso_in\n",
    "Conso_out[[\"Reason for entry\"]] = \"\"\n",
    "\n",
    "#Legal entity\n",
    "Conso_out[\"Mouvement\"] = \"Out\"\n",
    "\n",
    "# Remise en ordre des colonnes\n",
    "l_in = list(Conso_in.columns)\n",
    "l_in.sort()\n",
    "\n",
    "Conso_in = Conso_in[l_in]\n",
    "\n",
    "Conso_out = Conso_out[l_in]\n",
    "\n",
    "print(f\"Le nombre de lignes total est de {len(Conso_in) + len(Conso_out)}. \")"
   ]
  },
  {
   "cell_type": "markdown",
   "metadata": {},
   "source": [
    "## Fusion des 2 fichiers"
   ]
  },
  {
   "cell_type": "code",
   "execution_count": 58,
   "metadata": {},
   "outputs": [
    {
     "name": "stdout",
     "output_type": "stream",
     "text": [
      "Le nombre de lignes total est de 3248.\n"
     ]
    }
   ],
   "source": [
    "Conso = Conso_in.append(Conso_out)\n",
    "Conso = Conso.reset_index(drop=True)\n",
    "print(f\"Le nombre de lignes total est de {len(Conso)}.\")"
   ]
  },
  {
   "cell_type": "markdown",
   "metadata": {},
   "source": [
    "## Controle des sorties/entrées consécutive"
   ]
  },
  {
   "cell_type": "code",
   "execution_count": 59,
   "metadata": {},
   "outputs": [],
   "source": [
    "Conso = Conso.sort_values([\"Local payroll  Id\", \"MOIS\"], ascending=True)\n",
    "Conso.reset_index(drop=True, inplace=True)\n",
    "Conso[\"Anomalies\"] = \"\"\n",
    "Conso[\"chg_cat\"] = \"\""
   ]
  },
  {
   "cell_type": "code",
   "execution_count": 60,
   "metadata": {},
   "outputs": [],
   "source": [
    "for i, mat in enumerate(Conso.iterrows()):\n",
    "    \n",
    "    mat = Conso.at[i, \"Local payroll  Id\"]\n",
    "    mvp = Conso.at[i, \"Mouvement\"]\n",
    "    \n",
    "    if i != len(Conso)-1:\n",
    "        \n",
    "        if Conso.at[i+1, \"Local payroll  Id\"] == mat:\n",
    "            Conso.at[i+1, \"chg_cat\"] = Conso.at[i, \"Category\"] + \" => \" + Conso.at[i, \"Category\"]\n",
    "            \n",
    "            if mvp == Conso.at[i+1, \"Mouvement\"]:\n",
    "                Conso.at[i+1, \"Anomalies\"] = \"Incohérence mouvement\""
   ]
  },
  {
   "cell_type": "code",
   "execution_count": 61,
   "metadata": {},
   "outputs": [],
   "source": [
    "Conso_in = Conso.loc[Conso[\"Mouvement\"]==\"In\"]\n",
    "Conso_out = Conso.loc[Conso[\"Mouvement\"]==\"Out\"]"
   ]
  },
  {
   "cell_type": "code",
   "execution_count": 64,
   "metadata": {},
   "outputs": [
    {
     "name": "stdout",
     "output_type": "stream",
     "text": [
      "MOIS                   object\n",
      "Contract start Date    object\n",
      "Local payroll  Id      object\n",
      "Reason for entry       object\n",
      "Country                object\n",
      "Legal entity           object\n",
      "Establishment          object\n",
      "Contract end Date      object\n",
      "Last name              object\n",
      "First name             object\n",
      "Site                   object\n",
      "Category               object\n",
      "Contract type          object\n",
      "Contract status        object\n",
      "dtype: object\n"
     ]
    }
   ],
   "source": [
    "col_in =[\"MOIS\", \"Contract start Date\", \"Local payroll  Id\",  \"Reason for entry\", \"Country\", \"Legal entity\", \"Establishment\",  \"Contract end Date\", \"Last name\", \"First name\", \"Site\", \"Category\",\"Contract type\", \"Contract status\"]\n",
    "col_out= [ \"MOIS\", \"Contract start Date\", \"Local payroll  Id\", \"reason for leaving\", \"Contract end Date\",  \"Category\", \"Country\", \"Establishment\", \"Site\", \"Legal entity\",  \"Last name\", \"First name\", \"Contract type\", \"Contract status\"]\n",
    "col_conso = [ \"MOIS\", \"Contract start Date\", \"Local payroll  Id\", \"Mouvement\",   \"Reason for entry\",  \"reason for leaving\", \"Contract end Date\",  \"Category\", \"Country\", \"Establishment\", \"Site\", \"Legal entity\",  \"Last name\", \"First name\", \"Contract type\", \"Contract status\", \"Anomalies\"]\n",
    "\n",
    "Conso_in = Conso_in[col_in] \n",
    "Conso_out = Conso_out[col_out]\n",
    "Conso = Conso[conso]\n",
    "\n",
    "# Formatage des dates\n",
    "for col in [\"MOIS\", \"Contract start Date\",\"Contract end Date\"] :\n",
    "    Conso_in[col] = pd.to_datetime(Conso_in[col]).dt.date\n",
    "    Conso_out[col] = pd.to_datetime(Conso_out[col]).dt.date\n",
    "    Conso[col] = pd.to_datetime(Conso[col]).dt.date\n"
   ]
  },
  {
   "cell_type": "code",
   "execution_count": 72,
   "metadata": {},
   "outputs": [],
   "source": [
    "#Conso.to_excel(r'C:\\Users\\sgasmi\\Desktop\\Export Python\\Test mouvements.xlsx', index=False)\n",
    "\n",
    "\n",
    "\n",
    "with pd.ExcelWriter(r'C:\\Users\\sgasmi\\Desktop\\Export Python\\Conso Bridges.xlsx', date_format='dd/mm/yyyy') as writer:  \n",
    "    Conso.to_excel(writer, sheet_name='Conso', index=False)\n",
    "    Conso_in.to_excel(writer, sheet_name='Bridge_In', index=False)\n",
    "    Conso_out.to_excel(writer, sheet_name='Bridge_Out', index=False)"
   ]
  },
  {
   "cell_type": "code",
   "execution_count": null,
   "metadata": {},
   "outputs": [],
   "source": []
  }
 ],
 "metadata": {
  "kernelspec": {
   "display_name": "Python 3",
   "language": "python",
   "name": "python3"
  },
  "language_info": {
   "codemirror_mode": {
    "name": "ipython",
    "version": 3
   },
   "file_extension": ".py",
   "mimetype": "text/x-python",
   "name": "python",
   "nbconvert_exporter": "python",
   "pygments_lexer": "ipython3",
   "version": "3.8.3"
  }
 },
 "nbformat": 4,
 "nbformat_minor": 4
}
