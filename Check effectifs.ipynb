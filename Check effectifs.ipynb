{
 "cells": [
  {
   "cell_type": "code",
   "execution_count": 3,
   "metadata": {},
   "outputs": [],
   "source": [
    "import pandas as pd"
   ]
  },
  {
   "cell_type": "markdown",
   "metadata": {},
   "source": [
    "## Chargement des données"
   ]
  },
  {
   "cell_type": "code",
   "execution_count": 12,
   "metadata": {},
   "outputs": [],
   "source": [
    "fafr = pd.read_excel(r\"C:\\Users\\sgasmi\\Desktop\\Extractions\\Query_poly_20201211153346.xlsx\", converters={'Matricule':str}) # effectif présent\n",
    "infoc = pd.read_excel(r\"C:\\Users\\sgasmi\\Desktop\\Extractions\\Individus_liste_info_complementaires.xlsx\", converters={'Code de la ressource':str}) # données extenes"
   ]
  },
  {
   "cell_type": "markdown",
   "metadata": {},
   "source": [
    "## Contrôle des données"
   ]
  },
  {
   "cell_type": "markdown",
   "metadata": {},
   "source": [
    "### Contrôle login SAP"
   ]
  },
  {
   "cell_type": "code",
   "execution_count": 14,
   "metadata": {},
   "outputs": [],
   "source": [
    "fafr = fafr.merge(infoc[[\"Code de la ressource\", \"Login SAP\"]], left_on=[\"Matricule\"], right_on=[\"Code de la ressource\"], how='left')"
   ]
  },
  {
   "cell_type": "code",
   "execution_count": 24,
   "metadata": {},
   "outputs": [],
   "source": [
    "fafr[\"Login SAP vide\"] = \"\"\n",
    "fafr.loc[fafr[\"Login SAP\"].isna()==True, \"Login SAP vide\"] = \"Oui\"\n",
    "fafr_sap_ko = fafr.loc[fafr[\"Login SAP vide\"]==\"Oui\"]"
   ]
  },
  {
   "cell_type": "markdown",
   "metadata": {},
   "source": [
    "## Export"
   ]
  },
  {
   "cell_type": "markdown",
   "metadata": {},
   "source": [
    "### Export login SAP KO"
   ]
  },
  {
   "cell_type": "code",
   "execution_count": 26,
   "metadata": {},
   "outputs": [],
   "source": [
    "fafr_sap_ko[[\"Matricule\",\"Nom\", \"Prénom\", \"Etablissement\", \"Login SAP\"]].to_excel(r'C:\\Users\\sgasmi\\Desktop\\Export Python\\SAP_KO.xlsx', index=False)"
   ]
  },
  {
   "cell_type": "code",
   "execution_count": null,
   "metadata": {},
   "outputs": [],
   "source": []
  }
 ],
 "metadata": {
  "kernelspec": {
   "display_name": "Python 3",
   "language": "python",
   "name": "python3"
  },
  "language_info": {
   "codemirror_mode": {
    "name": "ipython",
    "version": 3
   },
   "file_extension": ".py",
   "mimetype": "text/x-python",
   "name": "python",
   "nbconvert_exporter": "python",
   "pygments_lexer": "ipython3",
   "version": "3.8.3"
  }
 },
 "nbformat": 4,
 "nbformat_minor": 4
}
