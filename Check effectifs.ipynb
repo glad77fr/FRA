{
 "cells": [
  {
   "cell_type": "code",
   "execution_count": 128,
   "metadata": {},
   "outputs": [],
   "source": [
    "import pandas as pd\n",
    "import matplotlib.pyplot as plt"
   ]
  },
  {
   "cell_type": "markdown",
   "metadata": {},
   "source": [
    "## Chargement des données"
   ]
  },
  {
   "cell_type": "code",
   "execution_count": 129,
   "metadata": {},
   "outputs": [],
   "source": [
    "fafr = pd.read_excel(r\"C:\\Users\\sgasmi\\Desktop\\Extractions\\Query_poly_20210125174741.xlsx\", converters={'Matricule':str}) # effectif présent\n",
    "infoc = pd.read_excel(r\"C:\\Users\\sgasmi\\Desktop\\Extractions\\individus_liste_info_complementaires_20210125175440.xlsx\", converters={'Code de la ressource':str}) # données extenes\n",
    "annuaire = pd.read_csv(r\"C:\\Users\\sgasmi\\Desktop\\Extractions\\Annuaire_20210122.csv\", sep=\";\", encoding =\"ANSI\", low_memory=False, error_bad_lines=False) # Extraction de l'annuaire\n",
    "indentité = pd.read_excel(r\"C:\\Users\\sgasmi\\Desktop\\Interlocuteurs\\Gestionnaires d'identité.xlsx\")\n",
    "excl_sal = pd.read_excel(r\"C:\\Users\\sgasmi\\Desktop\\Interlocuteurs\\Salariés à exclure.xlsx\")"
   ]
  },
  {
   "cell_type": "code",
   "execution_count": 130,
   "metadata": {
    "collapsed": true,
    "jupyter": {
     "outputs_hidden": true
    }
   },
   "outputs": [
    {
     "name": "stdout",
     "output_type": "stream",
     "text": [
      "(10693, 107)\n",
      "0          80857\n",
      "1         sansSI\n",
      "2        A525446\n",
      "3          31540\n",
      "4          30332\n",
      "          ...   \n",
      "10688      79564\n",
      "10689      79605\n",
      "10690      79602\n",
      "10691      79612\n",
      "10692      79600\n",
      "Name: employeeNumber, Length: 10693, dtype: object\n"
     ]
    }
   ],
   "source": [
    "print(annuaire.shape)\n",
    "print(annuaire[\"employeeNumber\"])"
   ]
  },
  {
   "cell_type": "code",
   "execution_count": 131,
   "metadata": {},
   "outputs": [
    {
     "name": "stdout",
     "output_type": "stream",
     "text": [
      "(10560, 107)\n"
     ]
    }
   ],
   "source": [
    "## Annuaire, transformation de clé \"employeeNumber\" en int\n",
    "\n",
    "def to_int(x):\n",
    "    try:\n",
    "        x = int(x)\n",
    "    except:\n",
    "        x = 0    \n",
    "    return x\n",
    "    \n",
    "\n",
    "annuaire[\"employeeNumber\"] = annuaire[\"employeeNumber\"].apply(lambda x: to_int(x))\n",
    "annuaire = annuaire.loc[annuaire[\"employeeNumber\"]!=0]\n",
    "\n",
    "print(annuaire.shape)"
   ]
  },
  {
   "cell_type": "code",
   "execution_count": 132,
   "metadata": {},
   "outputs": [],
   "source": [
    "excl_sal[\"Matricule\"] = excl_sal[\"Matricule\"].astype(\"int64\")"
   ]
  },
  {
   "cell_type": "markdown",
   "metadata": {},
   "source": [
    "## Contrôle des données"
   ]
  },
  {
   "cell_type": "markdown",
   "metadata": {},
   "source": [
    "### Contrôle login SAP"
   ]
  },
  {
   "cell_type": "code",
   "execution_count": 133,
   "metadata": {},
   "outputs": [],
   "source": [
    "fafr = fafr.merge(infoc[[\"Code de la ressource\", \"Login SAP\"]], left_on=[\"Matricule\"], right_on=[\"Code de la ressource\"], how='left')"
   ]
  },
  {
   "cell_type": "code",
   "execution_count": 134,
   "metadata": {},
   "outputs": [],
   "source": [
    "fafr[\"Login SAP vide\"] = \"\"\n",
    "fafr.loc[fafr[\"Login SAP\"].isna()==True, \"Login SAP vide\"] = \"Oui\"\n",
    "fafr_sap_ko = fafr.loc[fafr[\"Login SAP vide\"]==\"Oui\"]\n",
    "fafr_sap_ko = fafr_sap_ko.merge(indentité, on=\"Etablissement\", how=\"left\")\n",
    "fafr_sap_ko = fafr_sap_ko.sort_values(by=[\"Etablissement\"])\n",
    "fafr_sap_ko[\"Matricule\"] =fafr_sap_ko[\"Matricule\"].astype(\"int64\")"
   ]
  },
  {
   "cell_type": "code",
   "execution_count": 135,
   "metadata": {},
   "outputs": [],
   "source": [
    "fafr_sap_ko = fafr_sap_ko.merge(annuaire[[\"employeeNumber\", \"saplogon\"]],left_on=\"Matricule\", right_on=\"employeeNumber\", how=\"left\")"
   ]
  },
  {
   "cell_type": "code",
   "execution_count": 136,
   "metadata": {},
   "outputs": [],
   "source": [
    "fafr_sap_ko = fafr_sap_ko[[\"Matricule\",\"Nom\", \"Prénom\", \"Etablissement\",\"Gestionnaire d'identité\", \"employeeNumber\", \"saplogon\"]]\n",
    "fafr_sap_ko = fafr_sap_ko.loc[fafr_sap_ko[\"Matricule\"].isin(excl_sal[\"Matricule\"])==False]\n",
    "sap_ko_annuaire = fafr_sap_ko.loc[fafr_sap_ko[\"saplogon\"].isna()]"
   ]
  },
  {
   "cell_type": "markdown",
   "metadata": {},
   "source": [
    "## Export"
   ]
  },
  {
   "cell_type": "markdown",
   "metadata": {},
   "source": [
    "### Export login SAP KO"
   ]
  },
  {
   "cell_type": "code",
   "execution_count": 137,
   "metadata": {},
   "outputs": [],
   "source": [
    "with pd.ExcelWriter(r'C:\\Users\\sgasmi\\Desktop\\Export Python\\SAP_KO.xlsx') as writer:  \n",
    "    fafr_sap_ko.to_excel(writer, sheet_name='Conso globale', index=False)\n",
    "    sap_ko_annuaire.to_excel(writer, sheet_name='SAP Manquant dans annuaire', index=False)\n",
    "\n",
    "\n"
   ]
  }
 ],
 "metadata": {
  "kernelspec": {
   "display_name": "Python 3",
   "language": "python",
   "name": "python3"
  },
  "language_info": {
   "codemirror_mode": {
    "name": "ipython",
    "version": 3
   },
   "file_extension": ".py",
   "mimetype": "text/x-python",
   "name": "python",
   "nbconvert_exporter": "python",
   "pygments_lexer": "ipython3",
   "version": "3.8.3"
  }
 },
 "nbformat": 4,
 "nbformat_minor": 4
}
