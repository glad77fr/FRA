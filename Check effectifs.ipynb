{
 "cells": [
  {
   "cell_type": "code",
   "execution_count": 1,
   "metadata": {},
   "outputs": [],
   "source": [
    "import pandas as pd\n",
    "import matplotlib.pyplot as plt"
   ]
  },
  {
   "cell_type": "markdown",
   "metadata": {},
   "source": [
    "## Chargement des données"
   ]
  },
  {
   "cell_type": "code",
   "execution_count": 2,
   "metadata": {},
   "outputs": [],
   "source": [
    "fafr = pd.read_excel(r\"C:\\Users\\sgasmi\\Desktop\\Extractions\\Query_poly_20210222091846.xlsx\", converters={'Matricule':str}) # effectif présent\n",
    "infoc = pd.read_excel(r\"C:\\Users\\sgasmi\\Desktop\\Extractions\\individus_liste_info_complementaires_20210222093217.xlsx\", converters={'Code de la ressource':str}) # données extenes\n",
    "annuaire = pd.read_csv(r\"C:\\Users\\sgasmi\\Desktop\\Extractions\\Export_annuaire_20210222.csv\", sep=\";\", encoding =\"ANSI\", low_memory=False, error_bad_lines=False) # Extraction de l'annuaire\n",
    "indentité = pd.read_excel(r\"C:\\Users\\sgasmi\\Desktop\\Interlocuteurs\\Gestionnaires d'identité.xlsx\")\n",
    "excl_sal = pd.read_excel(r\"C:\\Users\\sgasmi\\Desktop\\Interlocuteurs\\Salariés à exclure.xlsx\")"
   ]
  },
  {
   "cell_type": "code",
   "execution_count": 3,
   "metadata": {},
   "outputs": [
    {
     "name": "stdout",
     "output_type": "stream",
     "text": [
      "(10676, 107)\n"
     ]
    }
   ],
   "source": [
    "## Annuaire, transformation de clé \"employeeNumber\" en int\n",
    "\n",
    "def to_int(x):\n",
    "    try:\n",
    "        x = int(x)\n",
    "    except:\n",
    "        x = 0    \n",
    "    return x\n",
    "    \n",
    "\n",
    "annuaire[\"employeeNumber\"] = annuaire[\"employeeNumber\"].apply(lambda x: to_int(x))\n",
    "annuaire = annuaire.loc[annuaire[\"employeeNumber\"]!=0]\n",
    "\n",
    "print(annuaire.shape)"
   ]
  },
  {
   "cell_type": "code",
   "execution_count": 4,
   "metadata": {},
   "outputs": [],
   "source": [
    "excl_sal[\"Matricule\"] = excl_sal[\"Matricule\"].astype(\"int64\")"
   ]
  },
  {
   "cell_type": "markdown",
   "metadata": {},
   "source": [
    "## Contrôle des données"
   ]
  },
  {
   "cell_type": "markdown",
   "metadata": {},
   "source": [
    "### Contrôle login SAP"
   ]
  },
  {
   "cell_type": "code",
   "execution_count": 5,
   "metadata": {},
   "outputs": [],
   "source": [
    "fafr = fafr.merge(infoc[[\"Code de la ressource\", \"Login SAP\"]], left_on=[\"Matricule\"], right_on=[\"Code de la ressource\"], how='left')"
   ]
  },
  {
   "cell_type": "code",
   "execution_count": 6,
   "metadata": {},
   "outputs": [],
   "source": [
    "fafr[\"Login SAP vide\"] = \"\"\n",
    "fafr.loc[fafr[\"Login SAP\"].isna()==True, \"Login SAP vide\"] = \"Oui\"\n",
    "fafr_sap_ko = fafr.loc[fafr[\"Login SAP vide\"]==\"Oui\"]\n",
    "fafr_sap_ko = fafr_sap_ko.merge(indentité, on=\"Etablissement\", how=\"left\")\n",
    "fafr_sap_ko = fafr_sap_ko.sort_values(by=[\"Etablissement\"])\n",
    "fafr_sap_ko[\"Matricule\"] =fafr_sap_ko[\"Matricule\"].astype(\"int64\")"
   ]
  },
  {
   "cell_type": "code",
   "execution_count": 7,
   "metadata": {},
   "outputs": [],
   "source": [
    "fafr_sap_ko = fafr_sap_ko.merge(annuaire[[\"employeeNumber\", \"saplogon\"]],left_on=\"Matricule\", right_on=\"employeeNumber\", how=\"left\")"
   ]
  },
  {
   "cell_type": "code",
   "execution_count": 8,
   "metadata": {},
   "outputs": [],
   "source": [
    "fafr_sap_ko = fafr_sap_ko[[\"Matricule\",\"Nom\", \"Prénom\", \"Etablissement\",\"Gestionnaire d'identité\", \"employeeNumber\", \"saplogon\"]]\n",
    "fafr_sap_ko = fafr_sap_ko.loc[fafr_sap_ko[\"Matricule\"].isin(excl_sal[\"Matricule\"])==False]\n",
    "sap_ko_annuaire = fafr_sap_ko.loc[fafr_sap_ko[\"saplogon\"].isna()]"
   ]
  },
  {
   "cell_type": "code",
   "execution_count": 9,
   "metadata": {},
   "outputs": [
    {
     "name": "stderr",
     "output_type": "stream",
     "text": [
      "C:\\Users\\sgasmi\\Miniconda3\\lib\\site-packages\\pandas\\core\\indexing.py:1596: SettingWithCopyWarning: \n",
      "A value is trying to be set on a copy of a slice from a DataFrame.\n",
      "Try using .loc[row_indexer,col_indexer] = value instead\n",
      "\n",
      "See the caveats in the documentation: https://pandas.pydata.org/pandas-docs/stable/user_guide/indexing.html#returning-a-view-versus-a-copy\n",
      "  self.obj[key] = _infer_fill_value(value)\n",
      "C:\\Users\\sgasmi\\Miniconda3\\lib\\site-packages\\pandas\\core\\indexing.py:1765: SettingWithCopyWarning: \n",
      "A value is trying to be set on a copy of a slice from a DataFrame.\n",
      "Try using .loc[row_indexer,col_indexer] = value instead\n",
      "\n",
      "See the caveats in the documentation: https://pandas.pydata.org/pandas-docs/stable/user_guide/indexing.html#returning-a-view-versus-a-copy\n",
      "  isetter(loc, value)\n",
      "C:\\Users\\sgasmi\\Miniconda3\\lib\\site-packages\\pandas\\core\\indexing.py:1765: SettingWithCopyWarning: \n",
      "A value is trying to be set on a copy of a slice from a DataFrame.\n",
      "Try using .loc[row_indexer,col_indexer] = value instead\n",
      "\n",
      "See the caveats in the documentation: https://pandas.pydata.org/pandas-docs/stable/user_guide/indexing.html#returning-a-view-versus-a-copy\n",
      "  isetter(loc, value)\n"
     ]
    }
   ],
   "source": [
    "sap_ko_annuaire.loc[sap_ko_annuaire[\"employeeNumber\"].isna()==True, \"Causes possibles\"] = \"Matricule différent de celui du fichier/ Salarié Tiers au lieu d'agent/ Salarié non rattaché à Framatome\"\n",
    "sap_ko_annuaire.loc[sap_ko_annuaire[\"employeeNumber\"].isna()==False, \"Causes possibles\"] = \"Login SAP du compte Agent non renseigné/ Salarié non rattaché à FRAMATOME\""
   ]
  },
  {
   "cell_type": "markdown",
   "metadata": {},
   "source": [
    "## Export"
   ]
  },
  {
   "cell_type": "markdown",
   "metadata": {},
   "source": [
    "### Export login SAP KO"
   ]
  },
  {
   "cell_type": "code",
   "execution_count": 10,
   "metadata": {},
   "outputs": [],
   "source": [
    "with pd.ExcelWriter(r'C:\\Users\\sgasmi\\Desktop\\Export Python\\SAP_KO.xlsx') as writer:  \n",
    "    fafr_sap_ko.to_excel(writer, sheet_name='Conso globale', index=False)\n",
    "    sap_ko_annuaire.to_excel(writer, sheet_name='SAP Manquant dans annuaire', index=False)"
   ]
  }
 ],
 "metadata": {
  "kernelspec": {
   "display_name": "Python 3",
   "language": "python",
   "name": "python3"
  },
  "language_info": {
   "codemirror_mode": {
    "name": "ipython",
    "version": 3
   },
   "file_extension": ".py",
   "mimetype": "text/x-python",
   "name": "python",
   "nbconvert_exporter": "python",
   "pygments_lexer": "ipython3",
   "version": "3.8.3"
  }
 },
 "nbformat": 4,
 "nbformat_minor": 4
}
