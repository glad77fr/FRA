{
 "cells": [
  {
   "cell_type": "code",
   "execution_count": 431,
   "metadata": {},
   "outputs": [],
   "source": [
    "import pandas as pd\n",
    "import matplotlib.pyplot as plt\n",
    "import datetime as dt\n",
    "%run ./Column_autosize.ipynb\n",
    "import win32com.client as win32\n",
    "from jinja2 import Template\n",
    "import sqlite3\n",
    "import datetime"
   ]
  },
  {
   "cell_type": "markdown",
   "metadata": {},
   "source": [
    "## Chargement des données"
   ]
  },
  {
   "cell_type": "code",
   "execution_count": 432,
   "metadata": {},
   "outputs": [],
   "source": [
    "fafr = pd.read_excel(r\"C:\\Users\\sgasmi\\Desktop\\Extractions\\Effectif_Data_Quality.xlsx\", converters={'Matricule':str}) # effectif présent\n",
    "infoc = pd.read_excel(r\"C:\\Users\\sgasmi\\Desktop\\Extractions\\individus_liste_info_complementaires.xlsx\", converters={'Code de la ressource':str}) # données extenes\n",
    "annuaire = pd.read_csv(r\"C:\\Users\\sgasmi\\Desktop\\Extractions\\Export_Annuaire.csv\", sep=\";\", encoding =\"ANSI\", low_memory=False, error_bad_lines=False) # Extraction de l'annuaire\n",
    "indentité = pd.read_excel(r\"C:\\Users\\sgasmi\\Desktop\\Interlocuteurs\\Gestionnaires d'identité.xlsx\")\n",
    "excl_sal = pd.read_excel(r\"C:\\Users\\sgasmi\\Desktop\\Interlocuteurs\\Salariés à exclure.xlsx\")\n",
    "titre_sej = pd.read_excel(r\"C:\\Users\\sgasmi\\Desktop\\Extractions\\Titreséjour.xlsx\")\n",
    "nationality = pd.read_excel(r\"C:\\Users\\sgasmi\\Desktop\\Extractions\\Table_Nationalité.xlsx\")"
   ]
  },
  {
   "cell_type": "code",
   "execution_count": 433,
   "metadata": {},
   "outputs": [],
   "source": [
    "## Annuaire, transformation de clé \"employeeNumber\" en int\n",
    "\n",
    "def to_int(x):\n",
    "    try:\n",
    "        x = int(x)\n",
    "    except:\n",
    "        x = 0    \n",
    "    return x\n",
    "\n",
    "annuaire[\"employeeNumber\"] = annuaire[\"employeeNumber\"].apply(lambda x: to_int(x))\n",
    "annuaire = annuaire.loc[annuaire[\"employeeNumber\"]!=0]"
   ]
  },
  {
   "cell_type": "code",
   "execution_count": 434,
   "metadata": {},
   "outputs": [],
   "source": [
    "excl_sal[\"Matricule\"] = excl_sal[\"Matricule\"].astype(\"int64\")"
   ]
  },
  {
   "cell_type": "markdown",
   "metadata": {},
   "source": [
    "## Contrôle des données"
   ]
  },
  {
   "cell_type": "markdown",
   "metadata": {},
   "source": [
    "### Contrôle login SAP"
   ]
  },
  {
   "cell_type": "code",
   "execution_count": 435,
   "metadata": {},
   "outputs": [],
   "source": [
    "fafr = fafr.merge(infoc[[\"Code de la ressource\", \"Login SAP\"]], left_on=[\"Matricule\"], right_on=[\"Code de la ressource\"], how='left')"
   ]
  },
  {
   "cell_type": "code",
   "execution_count": 436,
   "metadata": {},
   "outputs": [],
   "source": [
    "fafr[\"Login SAP vide\"] = \"\"\n",
    "fafr.loc[fafr[\"Login SAP\"].isna()==True, \"Login SAP vide\"] = \"Oui\"\n",
    "fafr_sap_ko = fafr.loc[fafr[\"Login SAP vide\"]==\"Oui\"]\n",
    "fafr_sap_ko = fafr_sap_ko.merge(indentité, on=\"Etablissement\", how=\"left\")\n",
    "fafr_sap_ko = fafr_sap_ko.sort_values(by=[\"Etablissement\"])\n",
    "fafr_sap_ko[\"Matricule\"] =fafr_sap_ko[\"Matricule\"].astype(\"int64\")"
   ]
  },
  {
   "cell_type": "code",
   "execution_count": 437,
   "metadata": {},
   "outputs": [],
   "source": [
    "fafr_sap_ko = fafr_sap_ko.merge(annuaire[[\"employeeNumber\", \"saplogon\"]],left_on=\"Matricule\", right_on=\"employeeNumber\", how=\"left\")"
   ]
  },
  {
   "cell_type": "code",
   "execution_count": 438,
   "metadata": {},
   "outputs": [],
   "source": [
    "fafr_sap_ko = fafr_sap_ko[[\"Matricule\",\"Nom\", \"Prénom\", \"Etablissement\",\"Gestionnaire d'identité\", \"employeeNumber\", \"saplogon\"]]\n",
    "fafr_sap_ko = fafr_sap_ko.loc[fafr_sap_ko[\"Matricule\"].isin(excl_sal[\"Matricule\"])==False]\n",
    "sap_ko_annuaire = fafr_sap_ko.loc[fafr_sap_ko[\"saplogon\"].isna()]"
   ]
  },
  {
   "cell_type": "code",
   "execution_count": 439,
   "metadata": {},
   "outputs": [
    {
     "name": "stderr",
     "output_type": "stream",
     "text": [
      "C:\\Users\\sgasmi\\Miniconda3\\lib\\site-packages\\pandas\\core\\indexing.py:1596: SettingWithCopyWarning: \n",
      "A value is trying to be set on a copy of a slice from a DataFrame.\n",
      "Try using .loc[row_indexer,col_indexer] = value instead\n",
      "\n",
      "See the caveats in the documentation: https://pandas.pydata.org/pandas-docs/stable/user_guide/indexing.html#returning-a-view-versus-a-copy\n",
      "  self.obj[key] = _infer_fill_value(value)\n",
      "C:\\Users\\sgasmi\\Miniconda3\\lib\\site-packages\\pandas\\core\\indexing.py:1765: SettingWithCopyWarning: \n",
      "A value is trying to be set on a copy of a slice from a DataFrame.\n",
      "Try using .loc[row_indexer,col_indexer] = value instead\n",
      "\n",
      "See the caveats in the documentation: https://pandas.pydata.org/pandas-docs/stable/user_guide/indexing.html#returning-a-view-versus-a-copy\n",
      "  isetter(loc, value)\n",
      "C:\\Users\\sgasmi\\Miniconda3\\lib\\site-packages\\pandas\\core\\indexing.py:1765: SettingWithCopyWarning: \n",
      "A value is trying to be set on a copy of a slice from a DataFrame.\n",
      "Try using .loc[row_indexer,col_indexer] = value instead\n",
      "\n",
      "See the caveats in the documentation: https://pandas.pydata.org/pandas-docs/stable/user_guide/indexing.html#returning-a-view-versus-a-copy\n",
      "  isetter(loc, value)\n"
     ]
    }
   ],
   "source": [
    "sap_ko_annuaire.loc[sap_ko_annuaire[\"employeeNumber\"].isna()==True, \"Causes possibles\"] = \"Matricule différent de celui du fichier/ Salarié Tiers au lieu d'agent/ Salarié non rattaché à Framatome\"\n",
    "sap_ko_annuaire.loc[sap_ko_annuaire[\"employeeNumber\"].isna()==False, \"Causes possibles\"] = \"Login SAP du compte Agent non renseigné/ Salarié non rattaché à FRAMATOME\""
   ]
  },
  {
   "cell_type": "markdown",
   "metadata": {},
   "source": [
    "## Contrôle du fichier effectif (FAFR_35)"
   ]
  },
  {
   "cell_type": "code",
   "execution_count": 440,
   "metadata": {},
   "outputs": [],
   "source": [
    "res_eff = pd.DataFrame(columns=[\"Matricule\", \"Nom\", \"Prénom\", \"Anomalie\", \"Matricule Gest Paie\", \"Nom Gest Paie\", \"Prénom Gest Paie\"])"
   ]
  },
  {
   "cell_type": "markdown",
   "metadata": {},
   "source": [
    "### Contrôle champs vides obligatoires"
   ]
  },
  {
   "cell_type": "code",
   "execution_count": 441,
   "metadata": {},
   "outputs": [],
   "source": [
    "fafr = fafr[fafr[\"Code Contrat\"].isin([\"STA2\", \"STA1\"])==False].reset_index(drop=True)  # Exclusion des stagiaires\n",
    "fafr[\"Position_coef\"] = fafr.apply(lambda x: x[\"Niveau\"] if x[\"Catég conv\"]==\"C\" else x[\"Niveau\"], axis=1) # Ajout du champ position_coef calculé dans l'annuaire"
   ]
  },
  {
   "cell_type": "markdown",
   "metadata": {},
   "source": [
    "### Vérifications des coefficients vides"
   ]
  },
  {
   "cell_type": "code",
   "execution_count": 442,
   "metadata": {},
   "outputs": [],
   "source": [
    "res_p = fafr.loc[(fafr[\"Coeff\"].isna()==True) & (fafr[\"Catég conv\"].isin([\"D\", \"CS\"])==False)]\n",
    "res_eff[[\"Matricule\",\"Nom\", \"Prénom\", \"Matricule Gest Paie\", \"Nom Gest Paie\", \"Prénom Gest Paie\", \"Adresse électronique\"]] = res_p[[\"Matricule\",\"Nom\", \"Prénom\", \"Matricule Gest Paie\", \"Nom Gest Paie\", \"Prénom Gest Paie\", \"Adresse électronique\"]].reset_index(drop=True)\n",
    "res_eff[\"Anomalie\"] = \"Coeff vide\"\n",
    "\n",
    "def to_res(df_to_add, df_to_receive):\n",
    "    df_to_add = df_to_add[[\"Matricule\",\"Nom\", \"Prénom\", \"Matricule Gest Paie\", \"Nom Gest Paie\", \"Prénom Gest Paie\", \"Adresse électronique\",\"Anomalie\"]]\n",
    "    return df_to_receive.append(df_to_add)\n"
   ]
  },
  {
   "cell_type": "markdown",
   "metadata": {},
   "source": [
    "### Vérification des niveaux vides"
   ]
  },
  {
   "cell_type": "code",
   "execution_count": 443,
   "metadata": {},
   "outputs": [],
   "source": [
    "res_p =  fafr.loc[(fafr[\"Niveau\"].isna()==True) & (fafr[\"Convention coll.\"]!=\"0650\") & (fafr[\"Catég conv\"].isin([\"D\", \"CS\"])==False)].reset_index(drop=True)\n",
    "res_p[\"Anomalie\"]= \"Niveau vide\"\n",
    "\n",
    "res_eff = to_res(res_p, res_eff)\n",
    "\n",
    "#print(to_res(res_p, res_eff))"
   ]
  },
  {
   "cell_type": "code",
   "execution_count": 444,
   "metadata": {},
   "outputs": [],
   "source": [
    "#res_eff.to_excel(\"C:/Users/sgasmi/Desktop/Export Python/Anomalies/test.xlsx\")"
   ]
  },
  {
   "cell_type": "markdown",
   "metadata": {},
   "source": [
    "### Identification des salariés etrangers"
   ]
  },
  {
   "cell_type": "code",
   "execution_count": 445,
   "metadata": {},
   "outputs": [],
   "source": [
    "UE = [\"DE\",\"BE\",\"BG\",\"HR\",\"DK\",\"ES\",\"FR\",\"GR\",\"NL\",\"IE\",\"IT\",\"LU\",\"MC\",\"NC\",\"PT\",\"CZ\",\"RO\",\"GB\",\"RS\",\"SE\",\"CH\",\"CY\",\"FI\",\"HU\",\"LV\",\"LT\",\"SI\"]\n",
    "nationality_active = nationality.loc[nationality[\"Date de fin\"].isna()==True]\n",
    "nationality_fr = nationality_active.loc[nationality_active[\"Pays\"]==\"FR\", \"Ressource\"]\n",
    "nationality_fr = nationality_fr.unique()\n",
    "strangers = nationality_active.loc[(nationality_active[\"Ressource\"].isin(nationality_fr)==False) & (nationality_active[\"Pays\"].isin(UE)==False), \"Ressource\"].unique()"
   ]
  },
  {
   "cell_type": "markdown",
   "metadata": {},
   "source": [
    "### Recherche des etrangers sans titres de séjour"
   ]
  },
  {
   "cell_type": "code",
   "execution_count": 446,
   "metadata": {},
   "outputs": [],
   "source": [
    "salarie_titre = titre_sej[\"Ressource\"].unique()\n",
    "sans_titre = [sal for sal in strangers if sal not in salarie_titre] # Salariés etrangers n'ayant pas de titre dans PN"
   ]
  },
  {
   "cell_type": "code",
   "execution_count": 447,
   "metadata": {},
   "outputs": [
    {
     "name": "stderr",
     "output_type": "stream",
     "text": [
      "<ipython-input-447-a7886b3118f2>:2: SettingWithCopyWarning: \n",
      "A value is trying to be set on a copy of a slice from a DataFrame.\n",
      "Try using .loc[row_indexer,col_indexer] = value instead\n",
      "\n",
      "See the caveats in the documentation: https://pandas.pydata.org/pandas-docs/stable/user_guide/indexing.html#returning-a-view-versus-a-copy\n",
      "  salarie_notitre[\"Anomalie\"] = \"Salarié sans titre de séjour\"\n"
     ]
    }
   ],
   "source": [
    "salarie_notitre= fafr.loc[fafr[\"Matricule\"].astype(\"int64\").isin(sans_titre)==True]\n",
    "salarie_notitre[\"Anomalie\"] = \"Salarié sans titre de séjour\"\n",
    "res_eff = to_res(salarie_notitre, res_eff)"
   ]
  },
  {
   "cell_type": "markdown",
   "metadata": {},
   "source": [
    "### Recherche des salariés etrangers ayant un titre expiré"
   ]
  },
  {
   "cell_type": "code",
   "execution_count": 448,
   "metadata": {},
   "outputs": [],
   "source": [
    "etrangers_titre = [ sal for sal in strangers if sal not in sans_titre] # Exclusion parmis les etrangers des salariés sans titres"
   ]
  },
  {
   "cell_type": "code",
   "execution_count": 449,
   "metadata": {},
   "outputs": [],
   "source": [
    "etrangers_titre = [sal for sal in etrangers_titre if sal in list(fafr[\"Matricule\"].astype(\"int64\")) ] # On conserve que les salariés présents"
   ]
  },
  {
   "cell_type": "code",
   "execution_count": 450,
   "metadata": {},
   "outputs": [],
   "source": [
    "titre_etr = titre_sej.loc[titre_sej[\"Ressource\"].isin(etrangers_titre)==True].copy()"
   ]
  },
  {
   "cell_type": "code",
   "execution_count": 451,
   "metadata": {},
   "outputs": [],
   "source": [
    "titre_etr[\"today\"] = datetime.datetime.today().date()"
   ]
  },
  {
   "cell_type": "code",
   "execution_count": 452,
   "metadata": {},
   "outputs": [],
   "source": [
    "titre_etr.columns = ['Matricule', 'Date_de_début', 'Date_de_fin', 'Nº_de_carte_étranger',\n",
    "       'today']"
   ]
  },
  {
   "cell_type": "code",
   "execution_count": 453,
   "metadata": {},
   "outputs": [],
   "source": [
    "titre_etr.loc[titre_etr[\"Date_de_fin\"].isna()==True, \"Date_de_fin\"] = datetime.datetime(2050, 1, 1)"
   ]
  },
  {
   "cell_type": "code",
   "execution_count": 454,
   "metadata": {},
   "outputs": [],
   "source": [
    "# Création d'une base de données in memory\n",
    "conn = sqlite3.connect(':memory:')\n",
    "\n",
    "# Ajout de info_comp comme table de la base de données\n",
    "titre_etr.to_sql('titre_etr', conn, index=False)\n",
    "\n",
    "req = \"Select Matricule, Date_de_début, Date_de_fin, today from titre_etr where today between Date_de_début and Date_de_fin \""
   ]
  },
  {
   "cell_type": "code",
   "execution_count": 455,
   "metadata": {},
   "outputs": [],
   "source": [
    "# Exécution de la requête et stokage du résultat dans un DataFrame\n",
    "df = pd.read_sql_query(req, conn)"
   ]
  },
  {
   "cell_type": "code",
   "execution_count": 456,
   "metadata": {},
   "outputs": [],
   "source": [
    "salarie_off_titre = [sal for sal in titre_etr[\"Matricule\"] if sal not in list(df[\"Matricule\"])]"
   ]
  },
  {
   "cell_type": "code",
   "execution_count": 457,
   "metadata": {},
   "outputs": [],
   "source": [
    "salarie_exp_titre = fafr.loc[fafr[\"Matricule\"].astype(\"int64\").isin(salarie_off_titre)].copy()\n",
    "salarie_exp_titre[\"Anomalie\"] = \"Titre de séjour expiré\"\n",
    "res_eff = to_res(salarie_exp_titre, res_eff)"
   ]
  },
  {
   "cell_type": "markdown",
   "metadata": {},
   "source": [
    "### Recherche des salariés sans date de fin"
   ]
  },
  {
   "cell_type": "code",
   "execution_count": 458,
   "metadata": {},
   "outputs": [
    {
     "name": "stderr",
     "output_type": "stream",
     "text": [
      "<ipython-input-458-d2efb13af6fb>:3: SettingWithCopyWarning: \n",
      "A value is trying to be set on a copy of a slice from a DataFrame.\n",
      "Try using .loc[row_indexer,col_indexer] = value instead\n",
      "\n",
      "See the caveats in the documentation: https://pandas.pydata.org/pandas-docs/stable/user_guide/indexing.html#returning-a-view-versus-a-copy\n",
      "  res_nodate[\"Anomalie\"] = \"Date de fin du titre de séjour absente\"\n"
     ]
    }
   ],
   "source": [
    "sal_nodate = titre_etr.loc[titre_etr[\"Date_de_fin\"]==datetime.datetime(2050, 1, 1)]\n",
    "res_nodate = fafr.loc[fafr[\"Matricule\"].astype(\"int64\").isin(list(sal_nodate[\"Matricule\"]))]\n",
    "res_nodate[\"Anomalie\"] = \"Date de fin du titre de séjour absente\"\n",
    "res_eff = to_res(res_nodate, res_eff)"
   ]
  },
  {
   "cell_type": "markdown",
   "metadata": {},
   "source": [
    "### Préparation du fichier de synthèse"
   ]
  },
  {
   "cell_type": "code",
   "execution_count": 459,
   "metadata": {},
   "outputs": [],
   "source": [
    "synth_ano = res_eff.groupby([\"Matricule Gest Paie\",\"Nom Gest Paie\", \"Prénom Gest Paie\", \"Adresse électronique\"])[\"Matricule\"].count().reset_index()\n",
    "synth_ano = synth_ano.rename(columns={\"Matricule\": \"Nb_anomalies\"})"
   ]
  },
  {
   "cell_type": "markdown",
   "metadata": {},
   "source": [
    "### Découpage des fichiers Excel"
   ]
  },
  {
   "cell_type": "code",
   "execution_count": 460,
   "metadata": {},
   "outputs": [],
   "source": [
    "rep = r\"C:/Users/sgasmi/Desktop/Export Python/Anomalies/\""
   ]
  },
  {
   "cell_type": "code",
   "execution_count": 461,
   "metadata": {},
   "outputs": [],
   "source": [
    "for gest in synth_ano[\"Matricule Gest Paie\"] :\n",
    "    exp = res_eff.loc[res_eff[\"Matricule Gest Paie\"]==gest].reset_index(drop=True).copy()\n",
    "    nom = str(exp.iloc[0,5])\n",
    "    prenom = str(exp.iloc[0,6])\n",
    "    nb_ano = exp.iloc[0,4]\n",
    "    day = str(dt.date.today().day)\n",
    "    month = str(dt.date.today().month)\n",
    "    year = str(dt.date.today().year)\n",
    "    new_rep = rep  + prenom + \"_\" + nom + \"_\" + day + month + year + \".xlsx\"\n",
    "    exp.drop(columns=[\"Matricule Gest Paie\",\"Nom Gest Paie\", \"Prénom Gest Paie\",\"Adresse électronique\"], inplace=True)\n",
    "    resize_column([exp], [\"Anomalie\"], new_rep)"
   ]
  },
  {
   "cell_type": "markdown",
   "metadata": {},
   "source": [
    "### Envoi des mails"
   ]
  },
  {
   "cell_type": "code",
   "execution_count": 462,
   "metadata": {},
   "outputs": [
    {
     "data": {
      "text/plain": [
       "b'<html>\\n  <head> <meta charset=\"UTF-8\">\\n  <link rel=\"stylesheet\" type=\"text/css\" href=\"C:\\\\Users\\\\sgasmi\\\\Desktop\\\\moncss.css\"/>\\n\\t  <body>\\n\\t\\t  <b1> Bonjour , <br> <br>\\n\\t\\t  \\n\\t\\t  \\n\\t\\t  Dans le cadre de l\\'audit de la qualit\\xc3\\xa9 des donn\\xc3\\xa9es le , nous avons identifi\\xc3\\xa9 \\n\\t\\t  \\n\\t\\t  2 anomalies d\\xc3\\xa9taill\\xc3\\xa9es\\n\\t\\t  \\n\\t\\t  \\n\\t\\t  dans le fichier en pi\\xc3\\xa8ce jointe. <br>\\n\\t\\t  Serait-il possible, s\\'il te pla\\xc3\\xaet, d\\'effectuer les corrections n\\xc3\\xa9cessaires pour ces salari\\xc3\\xa9s? <br>\\n\\t\\t  Dans le cas o\\xc3\\xb9 ces informations auraient \\xc3\\xa9t\\xc3\\xa9 saisies entre temps, merci de ne pas tenir compte de cet email. <br><br>\\n\\t\\t  \\n\\t\\t  Bien cordialement,<br>\\n\\t\\t  \\n\\t\\t  Sabri Gasmi\\n\\t\\t  </b1>\\n\\t  \\n\\t  </body>\\n  </head>\\n</html>'"
      ]
     },
     "execution_count": 462,
     "metadata": {},
     "output_type": "execute_result"
    }
   ],
   "source": [
    "with open(r\"C:\\Users\\sgasmi\\Desktop\\Template\\Modèle mail\\Mail gestionnaires.html\", encoding='utf8') as myfile:\n",
    "    mail_temp=myfile.read()\n",
    "t = Template(mail_temp)\n",
    "html_content=t.render(Nom=\"Sabri\", nb_anomalies=2)\n",
    "html_content.encode('utf-8')"
   ]
  },
  {
   "cell_type": "code",
   "execution_count": 463,
   "metadata": {},
   "outputs": [],
   "source": [
    "date_jour = day + '/'+ month +'/'+ year"
   ]
  },
  {
   "cell_type": "code",
   "execution_count": 464,
   "metadata": {},
   "outputs": [],
   "source": [
    "synth_ano[\"Prénom Gest Paie\"] = synth_ano[\"Prénom Gest Paie\"].apply(lambda x :str(x[0]) + str(x[1:].lower()))"
   ]
  },
  {
   "cell_type": "code",
   "execution_count": 465,
   "metadata": {},
   "outputs": [],
   "source": [
    "send=\"ko\"\n",
    "if send ==\"ok\":\n",
    "    for i, val in enumerate(synth_ano.iterrows()):\n",
    "\n",
    "        html_content=t.render(Prenom= synth_ano.at[i, \"Prénom Gest Paie\"], nb_anomalies=synth_ano.at[i, \"Nb_anomalies\"], Date_jour=date_jour)\n",
    "        html_content.encode('utf-8')\n",
    "        outlook = win32.Dispatch('outlook.application')\n",
    "        mail = outlook.CreateItem(0)\n",
    "        mail.HTMLBody = html_content\n",
    "        # To attach a file to the email:\n",
    "\n",
    "        attachment  = \"C:/Users/sgasmi/Desktop/Export Python/Anomalies/\" + str(synth_ano.at[i, \"Prénom Gest Paie\"]).upper() + \"_\"  + str(synth_ano.at[i, \"Nom Gest Paie\"]) + \"_\" + day + month + year + \".xlsx\"\n",
    "        mail.Attachments.Add(attachment)\n",
    "\n",
    "        mail.To = synth_ano.at[i, \"Adresse électronique\"]\n",
    "        mail.Subject = 'Anomalies de données People Net'\n",
    "        mail.Send()"
   ]
  },
  {
   "cell_type": "markdown",
   "metadata": {},
   "source": [
    "## Export"
   ]
  },
  {
   "cell_type": "markdown",
   "metadata": {},
   "source": [
    "### Export login SAP KO"
   ]
  },
  {
   "cell_type": "code",
   "execution_count": 466,
   "metadata": {},
   "outputs": [],
   "source": [
    "with pd.ExcelWriter(r'C:\\Users\\sgasmi\\Desktop\\Export Python\\SAP_KO.xlsx') as writer:  \n",
    "    fafr_sap_ko.to_excel(writer, sheet_name='Conso globale', index=False)\n",
    "    sap_ko_annuaire.to_excel(writer, sheet_name='SAP Manquant dans annuaire', index=False)"
   ]
  },
  {
   "cell_type": "markdown",
   "metadata": {},
   "source": [
    "### Export Anomalie effectif"
   ]
  },
  {
   "cell_type": "code",
   "execution_count": 467,
   "metadata": {},
   "outputs": [],
   "source": [
    "resize_column([res_eff],[\"Anomalies\"], r\"C:\\Users\\sgasmi\\Desktop\\Power BI applications\\Sources Anomalies\\Anomalie_effectif\" + \"_\" + day + month + year +  \".xlsx\")"
   ]
  }
 ],
 "metadata": {
  "kernelspec": {
   "display_name": "Python 3",
   "language": "python",
   "name": "python3"
  },
  "language_info": {
   "codemirror_mode": {
    "name": "ipython",
    "version": 3
   },
   "file_extension": ".py",
   "mimetype": "text/x-python",
   "name": "python",
   "nbconvert_exporter": "python",
   "pygments_lexer": "ipython3",
   "version": "3.8.3"
  }
 },
 "nbformat": 4,
 "nbformat_minor": 4
}
