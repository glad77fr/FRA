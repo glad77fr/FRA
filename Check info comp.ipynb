{
 "cells": [
  {
   "cell_type": "code",
   "execution_count": 144,
   "metadata": {},
   "outputs": [],
   "source": [
    "import pandas as pd\n",
    "import datetime\n",
    "import sqlite3"
   ]
  },
  {
   "cell_type": "code",
   "execution_count": 145,
   "metadata": {},
   "outputs": [],
   "source": [
    "info_comp = pd.read_excel(r\"C:\\Users\\sgasmi\\Desktop\\Extractions\\Tabledonnéessupplémentaires.xlsx\") # Extraction des info complémentaire, full historique\n",
    "fafr = pd.read_excel(r\"C:\\Users\\sgasmi\\Desktop\\Extractions\\Effectif_Data_Quality.xlsx\") # Requête FaFr"
   ]
  },
  {
   "cell_type": "code",
   "execution_count": 146,
   "metadata": {},
   "outputs": [],
   "source": [
    "info_comp = info_comp.sort_values([\"Matricule\", \"Date de fin\"]).reset_index(drop=True)"
   ]
  },
  {
   "cell_type": "code",
   "execution_count": 147,
   "metadata": {},
   "outputs": [
    {
     "data": {
      "text/html": [
       "<div>\n",
       "<style scoped>\n",
       "    .dataframe tbody tr th:only-of-type {\n",
       "        vertical-align: middle;\n",
       "    }\n",
       "\n",
       "    .dataframe tbody tr th {\n",
       "        vertical-align: top;\n",
       "    }\n",
       "\n",
       "    .dataframe thead th {\n",
       "        text-align: right;\n",
       "    }\n",
       "</style>\n",
       "<table border=\"1\" class=\"dataframe\">\n",
       "  <thead>\n",
       "    <tr style=\"text-align: right;\">\n",
       "      <th></th>\n",
       "      <th>Matricule</th>\n",
       "      <th>Date de début</th>\n",
       "      <th>Date de fin</th>\n",
       "      <th>Nº de période</th>\n",
       "      <th>Matricule Aramis</th>\n",
       "      <th>Login_SAP</th>\n",
       "    </tr>\n",
       "  </thead>\n",
       "  <tbody>\n",
       "    <tr>\n",
       "      <th>0</th>\n",
       "      <td>3</td>\n",
       "      <td>2018-01-01</td>\n",
       "      <td>2018-12-31</td>\n",
       "      <td>5</td>\n",
       "      <td>A500003</td>\n",
       "      <td>DHEURGUE</td>\n",
       "    </tr>\n",
       "    <tr>\n",
       "      <th>1</th>\n",
       "      <td>3</td>\n",
       "      <td>2019-01-01</td>\n",
       "      <td>2019-12-31</td>\n",
       "      <td>5</td>\n",
       "      <td>A500003</td>\n",
       "      <td>dheurgue</td>\n",
       "    </tr>\n",
       "    <tr>\n",
       "      <th>2</th>\n",
       "      <td>3</td>\n",
       "      <td>2020-01-01</td>\n",
       "      <td>NaT</td>\n",
       "      <td>5</td>\n",
       "      <td>A500003</td>\n",
       "      <td>dheurgue</td>\n",
       "    </tr>\n",
       "    <tr>\n",
       "      <th>3</th>\n",
       "      <td>4</td>\n",
       "      <td>2018-07-23</td>\n",
       "      <td>2018-12-31</td>\n",
       "      <td>6</td>\n",
       "      <td>A500002</td>\n",
       "      <td>CQUEVA</td>\n",
       "    </tr>\n",
       "    <tr>\n",
       "      <th>4</th>\n",
       "      <td>4</td>\n",
       "      <td>2019-01-01</td>\n",
       "      <td>2019-12-31</td>\n",
       "      <td>6</td>\n",
       "      <td>A500002</td>\n",
       "      <td>CQUEVA</td>\n",
       "    </tr>\n",
       "  </tbody>\n",
       "</table>\n",
       "</div>"
      ],
      "text/plain": [
       "   Matricule Date de début Date de fin  Nº de période Matricule Aramis  \\\n",
       "0          3    2018-01-01  2018-12-31              5          A500003   \n",
       "1          3    2019-01-01  2019-12-31              5          A500003   \n",
       "2          3    2020-01-01         NaT              5          A500003   \n",
       "3          4    2018-07-23  2018-12-31              6          A500002   \n",
       "4          4    2019-01-01  2019-12-31              6          A500002   \n",
       "\n",
       "  Login_SAP  \n",
       "0  DHEURGUE  \n",
       "1  dheurgue  \n",
       "2  dheurgue  \n",
       "3    CQUEVA  \n",
       "4    CQUEVA  "
      ]
     },
     "execution_count": 147,
     "metadata": {},
     "output_type": "execute_result"
    }
   ],
   "source": [
    "info_comp.head(5)"
   ]
  },
  {
   "cell_type": "markdown",
   "metadata": {},
   "source": [
    "### Assignation d'une date de fin au 01/01/2050 pour les lignes actives sans date de fin"
   ]
  },
  {
   "cell_type": "code",
   "execution_count": 148,
   "metadata": {},
   "outputs": [],
   "source": [
    "info_comp.loc[info_comp[\"Date de fin\"].isna(),\"Date de fin\"] = datetime.datetime(2050, 1, 1)"
   ]
  },
  {
   "cell_type": "markdown",
   "metadata": {},
   "source": [
    "### Filtre sur les salariés actifs présent dans information complémentaire"
   ]
  },
  {
   "cell_type": "code",
   "execution_count": 149,
   "metadata": {},
   "outputs": [],
   "source": [
    "info_comp = info_comp.loc[info_comp[\"Matricule\"].isin(fafr[\"Matricule\"])].reset_index(drop=True)"
   ]
  },
  {
   "cell_type": "markdown",
   "metadata": {},
   "source": [
    "### Remplacement des libellés de colonne par des \"_\" "
   ]
  },
  {
   "cell_type": "code",
   "execution_count": 150,
   "metadata": {},
   "outputs": [
    {
     "name": "stdout",
     "output_type": "stream",
     "text": [
      "['Matricule', 'Date_de_début', 'Date_de_fin', 'Nº_de_période', 'Matricule_Aramis', 'Login_SAP']\n"
     ]
    }
   ],
   "source": [
    "nv_colonnes=[]\n",
    "for val in info_comp.columns:\n",
    "    nv_colonnes.append(val.replace(\" \", \"_\"))\n",
    "    \n",
    "info_comp.columns = nv_colonnes\n",
    "print(nv_colonnes)"
   ]
  },
  {
   "cell_type": "markdown",
   "metadata": {},
   "source": [
    "### Préparation des dates"
   ]
  },
  {
   "cell_type": "code",
   "execution_count": 151,
   "metadata": {},
   "outputs": [],
   "source": [
    "info_comp[\"today\"] = datetime.datetime.today().date()\n",
    "info_comp[\"Date_de_début\"] = info_comp[\"Date_de_début\"].dt.date\n",
    "info_comp[\"Date_de_fin\"] = info_comp[\"Date_de_fin\"].dt.date"
   ]
  },
  {
   "cell_type": "code",
   "execution_count": 152,
   "metadata": {},
   "outputs": [],
   "source": [
    "# Création d'une base de données in memory\n",
    "conn = sqlite3.connect(':memory:')"
   ]
  },
  {
   "cell_type": "code",
   "execution_count": 153,
   "metadata": {},
   "outputs": [],
   "source": [
    "# Ajout de info_comp comme table de la base de données\n",
    "info_comp.to_sql('info_comp', conn, index=False)"
   ]
  },
  {
   "cell_type": "code",
   "execution_count": 154,
   "metadata": {},
   "outputs": [],
   "source": [
    "req = \"Select Matricule, Date_de_début, Date_de_fin, today from info_comp where today between Date_de_début and Date_de_fin \""
   ]
  },
  {
   "cell_type": "code",
   "execution_count": 155,
   "metadata": {},
   "outputs": [
    {
     "name": "stdout",
     "output_type": "stream",
     "text": [
      "      Matricule Date_de_début Date_de_fin       today\n",
      "0             3    2020-01-01  2050-01-01  2021-03-03\n",
      "1             4    2020-01-01  2050-01-01  2021-03-03\n",
      "2            15    2020-01-01  2050-01-01  2021-03-03\n",
      "3            18    2020-01-01  2050-01-01  2021-03-03\n",
      "4            20    2020-01-01  2050-01-01  2021-03-03\n",
      "...         ...           ...         ...         ...\n",
      "9751     420705    2021-03-01  2050-01-01  2021-03-03\n",
      "9752     420706    2021-03-01  2050-01-01  2021-03-03\n",
      "9753     420715    2021-03-02  2050-01-01  2021-03-03\n",
      "9754     420716    2021-03-02  2050-01-01  2021-03-03\n",
      "9755     420717    2021-03-02  2050-01-01  2021-03-03\n",
      "\n",
      "[9756 rows x 4 columns]\n"
     ]
    }
   ],
   "source": [
    "# Exécution de la requête et stokage du résultat dans un DataFrame\n",
    "df = pd.read_sql_query(req, conn)\n",
    "print(df)"
   ]
  },
  {
   "cell_type": "code",
   "execution_count": 156,
   "metadata": {},
   "outputs": [],
   "source": [
    "Result = info_comp.loc[info_comp[\"Matricule\"].isin(df[\"Matricule\"])==False]"
   ]
  },
  {
   "cell_type": "code",
   "execution_count": 157,
   "metadata": {},
   "outputs": [],
   "source": [
    "fafr[\"Gest\"] = fafr.apply(lambda x: str(x[\"Nom Gest Paie\"]) + \" \" + str(x[\"Prénom Gest Paie\"]), axis=1)"
   ]
  },
  {
   "cell_type": "code",
   "execution_count": 158,
   "metadata": {},
   "outputs": [],
   "source": [
    "fafr = fafr.loc[fafr[\"Matricule\"].isin(Result[\"Matricule\"])==True]"
   ]
  },
  {
   "cell_type": "code",
   "execution_count": 159,
   "metadata": {},
   "outputs": [
    {
     "data": {
      "text/html": [
       "<div>\n",
       "<style scoped>\n",
       "    .dataframe tbody tr th:only-of-type {\n",
       "        vertical-align: middle;\n",
       "    }\n",
       "\n",
       "    .dataframe tbody tr th {\n",
       "        vertical-align: top;\n",
       "    }\n",
       "\n",
       "    .dataframe thead th {\n",
       "        text-align: right;\n",
       "    }\n",
       "</style>\n",
       "<table border=\"1\" class=\"dataframe\">\n",
       "  <thead>\n",
       "    <tr style=\"text-align: right;\">\n",
       "      <th></th>\n",
       "      <th>Matricule</th>\n",
       "      <th>Gest</th>\n",
       "    </tr>\n",
       "  </thead>\n",
       "  <tbody>\n",
       "    <tr>\n",
       "      <th>3949</th>\n",
       "      <td>37296</td>\n",
       "      <td>NACHIT AJBAR OUSILA</td>\n",
       "    </tr>\n",
       "    <tr>\n",
       "      <th>4501</th>\n",
       "      <td>38095</td>\n",
       "      <td>NACHIT AJBAR OUSILA</td>\n",
       "    </tr>\n",
       "    <tr>\n",
       "      <th>4782</th>\n",
       "      <td>38286</td>\n",
       "      <td>NACHIT AJBAR OUSILA</td>\n",
       "    </tr>\n",
       "  </tbody>\n",
       "</table>\n",
       "</div>"
      ],
      "text/plain": [
       "      Matricule                 Gest\n",
       "3949      37296  NACHIT AJBAR OUSILA\n",
       "4501      38095  NACHIT AJBAR OUSILA\n",
       "4782      38286  NACHIT AJBAR OUSILA"
      ]
     },
     "execution_count": 159,
     "metadata": {},
     "output_type": "execute_result"
    }
   ],
   "source": [
    "Result = fafr[[\"Matricule\",\"Gest\"]]"
   ]
  },
  {
   "cell_type": "code",
   "execution_count": 162,
   "metadata": {},
   "outputs": [],
   "source": [
    "Result.to_excel(r\"C:\\Users\\sgasmi\\Desktop\\Export Python\\Anomalies info complémentaires.xlsx\", index=False)"
   ]
  }
 ],
 "metadata": {
  "kernelspec": {
   "display_name": "Python 3",
   "language": "python",
   "name": "python3"
  },
  "language_info": {
   "codemirror_mode": {
    "name": "ipython",
    "version": 3
   },
   "file_extension": ".py",
   "mimetype": "text/x-python",
   "name": "python",
   "nbconvert_exporter": "python",
   "pygments_lexer": "ipython3",
   "version": "3.8.3"
  }
 },
 "nbformat": 4,
 "nbformat_minor": 4
}
