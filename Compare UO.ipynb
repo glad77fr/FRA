{
 "cells": [
  {
   "cell_type": "code",
   "execution_count": 200,
   "metadata": {},
   "outputs": [],
   "source": [
    "import pandas as pd"
   ]
  },
  {
   "cell_type": "markdown",
   "metadata": {},
   "source": [
    "### Import des données"
   ]
  },
  {
   "cell_type": "code",
   "execution_count": 201,
   "metadata": {},
   "outputs": [],
   "source": [
    "UO = pd.read_excel(r'C:\\Users\\sgasmi\\Desktop\\Dev\\UO\\Copie de structure_20202412.xlsx') # REF UO ETL\n",
    "UO_P = pd.read_excel(r'C:\\Users\\sgasmi\\Desktop\\Export Python\\UO_Org.xlsx')"
   ]
  },
  {
   "cell_type": "markdown",
   "metadata": {},
   "source": [
    "### Ajout du niveau"
   ]
  },
  {
   "cell_type": "code",
   "execution_count": 202,
   "metadata": {},
   "outputs": [],
   "source": [
    "UO[\"Level\"]= UO[\"arborescence\"].str.count('>')\n",
    "UO[\"Level\"]= UO[\"Level\"].apply(lambda x: \"L\" + str(int((x/2)+1)) if x !=0 else \"L1\")\n"
   ]
  },
  {
   "cell_type": "markdown",
   "metadata": {},
   "source": [
    "### Ajout de l'UO mère"
   ]
  },
  {
   "cell_type": "code",
   "execution_count": 203,
   "metadata": {},
   "outputs": [],
   "source": [
    "UO_mere = UO[[\"Id\",\"shortname\"]]"
   ]
  },
  {
   "cell_type": "code",
   "execution_count": 204,
   "metadata": {},
   "outputs": [],
   "source": [
    "UO = UO.merge(UO_mere, left_on=\"id parent\", right_on=\"Id\", how=\"left\")\n",
    "UO = UO.drop(\"Id_y\", axis=1)\n",
    "UO = UO.rename(columns={\"shortname_y\": \"UO mère\", \"shortname_x\": \"shortname\"})\n",
    "UO.loc[UO[\"UO mère\"].isna()==True, \"UO mère\"] = \"ROOT\""
   ]
  },
  {
   "cell_type": "markdown",
   "metadata": {},
   "source": [
    "### Filtre sur les UO de niveau 3 et SPiIC pour People Net et ref ETL UO"
   ]
  },
  {
   "cell_type": "code",
   "execution_count": 205,
   "metadata": {},
   "outputs": [],
   "source": [
    "UO_P = UO_P.loc[UO_P[\"Code type d'unité de tr.\"].isin([\"L1\", \"L2\", \"L3\"])]\n",
    "UO = UO.loc[UO[\"Level\"].isin([\"L1\", \"L2\", \"L3\"])]"
   ]
  },
  {
   "cell_type": "markdown",
   "metadata": {},
   "source": [
    "### Détection des UO à créer"
   ]
  },
  {
   "cell_type": "code",
   "execution_count": 206,
   "metadata": {},
   "outputs": [],
   "source": [
    "UO_P[\"A créer\"] = 0\n",
    "UO_P.loc[UO_P[\"Nom de l'unité de travail\"].isin(UO[\"shortname\"])==False, \"A créer\"] = 1\n",
    "Create_UO = UO_P[UO_P[\"A créer\"]==1]"
   ]
  },
  {
   "cell_type": "markdown",
   "metadata": {},
   "source": [
    "### Détection de parents différents"
   ]
  },
  {
   "cell_type": "code",
   "execution_count": 207,
   "metadata": {},
   "outputs": [],
   "source": [
    "UO_P = UO_P.merge(UO[[\"shortname\", \"Level\", \"UO mère\"]], left_on=\"Nom de l'unité de travail\", right_on=\"shortname\", how=\"left\")\n",
    "UO_P = UO_P.rename(columns={\"UO mère_x\" : \"UO mère\", \"UO mère_y\" : \"UO mère ETL\"})\n",
    "UO_P[\"Ecart_parent\"] = UO_P.apply(lambda x: \"Oui\" if x[\"UO mère\"]!=x[\"UO mère ETL\"] else \"\", axis=1)\n",
    "Update_mere = UO_P.loc[(UO_P[\"Ecart_parent\"]==\"Oui\") & (UO_P[\"A créer\"]==0)]"
   ]
  },
  {
   "cell_type": "markdown",
   "metadata": {},
   "source": [
    "### Détection niveau différent"
   ]
  },
  {
   "cell_type": "code",
   "execution_count": 208,
   "metadata": {},
   "outputs": [],
   "source": [
    "UO_P[\"Ecart niveau\"] = UO_P.apply(lambda x: \"Oui\" if x[\"Code type d'unité de tr.\"] != x[\"Level\"] else \"\", axis=1)\n",
    "Update_level=UO_P[(UO_P[\"Ecart niveau\"]==\"Oui\") & (UO_P[\"A créer\"]==0)]"
   ]
  },
  {
   "cell_type": "markdown",
   "metadata": {},
   "source": [
    "### Détection des UO à supprimer"
   ]
  },
  {
   "cell_type": "code",
   "execution_count": 209,
   "metadata": {},
   "outputs": [],
   "source": [
    "UO[\"A supprimer\"] = 0\n",
    "UO.loc[UO[\"shortname\"].isin(UO_P[\"Nom de l'unité de travail\"])==False, \"A supprimer\"] = 1\n",
    "Delete_UO = UO.loc[UO[\"A supprimer\"]==1]"
   ]
  },
  {
   "cell_type": "markdown",
   "metadata": {},
   "source": [
    "### Export du résultat"
   ]
  },
  {
   "cell_type": "code",
   "execution_count": 210,
   "metadata": {},
   "outputs": [],
   "source": [
    "with pd.ExcelWriter(r'C:\\Users\\sgasmi\\Desktop\\Export Python\\Update UO.xlsx') as writer:\n",
    "    if len(Create_UO)>0:\n",
    "        Create_UO.to_excel(writer, sheet_name='UO à ajouter', index=False)\n",
    "    if len(Update_mere)>0:    \n",
    "        Update_mere.to_excel(writer, sheet_name='UO mère à modifier', index=False)\n",
    "    if len(Update_level)>0:\n",
    "        Update_level.to_excel(writer, sheet_name='Niveau UO à changer', index=False)\n",
    "    if len(Delete_UO)>0:\n",
    "        Delete_UO.to_excel(writer, sheet_name='UO à supprimer', index=False)"
   ]
  }
 ],
 "metadata": {
  "kernelspec": {
   "display_name": "Python 3",
   "language": "python",
   "name": "python3"
  },
  "language_info": {
   "codemirror_mode": {
    "name": "ipython",
    "version": 3
   },
   "file_extension": ".py",
   "mimetype": "text/x-python",
   "name": "python",
   "nbconvert_exporter": "python",
   "pygments_lexer": "ipython3",
   "version": "3.8.3"
  }
 },
 "nbformat": 4,
 "nbformat_minor": 4
}
