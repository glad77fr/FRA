{
 "cells": [
  {
   "cell_type": "code",
   "execution_count": 281,
   "metadata": {},
   "outputs": [],
   "source": [
    "import os\n",
    "import pandas as pd\n",
    "import datetime as dt\n",
    "import collections"
   ]
  },
  {
   "cell_type": "markdown",
   "metadata": {},
   "source": [
    "### Recherche des fichiers Excel dans le repertoire et extraction de la date dans le titre"
   ]
  },
  {
   "cell_type": "code",
   "execution_count": 282,
   "metadata": {},
   "outputs": [],
   "source": [
    "folder= r\"C:\\Users\\sgasmi\\Desktop\\DATA HOME 2020\"   "
   ]
  },
  {
   "cell_type": "code",
   "execution_count": 283,
   "metadata": {},
   "outputs": [],
   "source": [
    "sources = pd.DataFrame(columns=[\"Fichier\", \"Folder\", \"File Date\", \"Conservé\"])\n",
    "i = 0\n",
    "\n",
    "for root, dirs, files in os.walk(folder):\n",
    "    for filename in files:\n",
    "        sources.at[i,\"Fichier\"] = filename\n",
    "        sources.at[i, \"Folder\"] = folder + \"\\\\\" + filename\n",
    "        sources.at[i, \"File Date\"] = filename[10:][:8]\n",
    "        try:\n",
    "            sources.at[i, \"File Date\"] = dt.datetime.strptime(sources.at[i, \"File Date\"], '%d%m%Y').date()\n",
    "        except:\n",
    "            sources.at[i, \"Conservé\"] = \"False\"\n",
    "        i+=1"
   ]
  },
  {
   "cell_type": "code",
   "execution_count": 284,
   "metadata": {},
   "outputs": [],
   "source": [
    "source = sources.loc[sources[\"Conservé\"]!=\"False\"].reset_index(drop=True)\n",
    "source = source.sort_values([\"File Date\"])\n",
    "source[\"custom\"]=1"
   ]
  },
  {
   "cell_type": "markdown",
   "metadata": {},
   "source": [
    "### Fusion des dataframes"
   ]
  },
  {
   "cell_type": "code",
   "execution_count": 285,
   "metadata": {},
   "outputs": [
    {
     "name": "stdout",
     "output_type": "stream",
     "text": [
      "DATA_HOME 29022020.xlsx\n",
      "DATA_HOME 30042020.xlsx\n",
      "DATA_HOME 30062020.xlsx\n",
      "DATA_HOME 30092020.xlsx\n",
      "DATA_HOME 30112020.xlsx\n",
      "DATA_HOME 31012020.xlsx\n",
      "DATA_HOME 31032020.xlsx\n",
      "DATA_HOME 31052020.xlsx\n",
      "DATA_HOME 31072020.xlsx\n",
      "DATA_HOME 31082020.xlsx\n",
      "DATA_HOME 31102020.xlsx\n",
      "DATA_HOME 31122019.xlsx\n"
     ]
    }
   ],
   "source": [
    "merge = pd.DataFrame()\n",
    "\n",
    "for i, val in enumerate(source.iterrows()):\n",
    "    target = folder + \"\\\\\" + source.at[i,\"Fichier\"]\n",
    "    res = pd.read_excel(target, sheet_name=\"Données\")\n",
    "    res[\"Date\"] =  source.at[i, \"File Date\"]\n",
    "    print(source.at[i,\"Fichier\"])\n",
    "    # fusion des dataframe\n",
    "    if i==0:\n",
    "        merge=res\n",
    "    else:\n",
    "        merge = merge.append(res, ignore_index=True)"
   ]
  },
  {
   "cell_type": "code",
   "execution_count": 286,
   "metadata": {},
   "outputs": [],
   "source": [
    "colonnes = [\"local payroll ID\",\"Date\", \"Org. Payroll\", \"Legal entity\",\"Sex\", \"Category\", \"Home Country\",  \"Last name\", \"First name\"]\n",
    "merge_exp=merge[colonnes]\n",
    "\n",
    "# Non conservation lignes vides\n",
    "merge_exp = merge_exp.loc[merge_exp[\"local payroll ID\"].isna()==False]\n",
    "merge_exp = merge_exp.reset_index(drop=True)\n",
    "merge_exp[\"Headcount\"]=1\n",
    "colonne = colonnes.append(\"Headcount\")"
   ]
  },
  {
   "cell_type": "markdown",
   "metadata": {},
   "source": [
    "### Suppression des doublons"
   ]
  },
  {
   "cell_type": "code",
   "execution_count": 287,
   "metadata": {},
   "outputs": [],
   "source": [
    "merge_exp= merge_exp.drop_duplicates([\"local payroll ID\", \"Date\"])\n",
    "merge_exp = merge_exp.reset_index(drop=True)"
   ]
  },
  {
   "cell_type": "markdown",
   "metadata": {},
   "source": [
    "### Création d'une table de fait dégradée"
   ]
  },
  {
   "cell_type": "code",
   "execution_count": 288,
   "metadata": {},
   "outputs": [],
   "source": [
    "merge_fact = pd.DataFrame()\n",
    "merge_fact[\"local payroll ID\"] = merge_exp[\"local payroll ID\"].drop_duplicates()\n",
    "merge_fact[\"custom\"] = 1\n",
    "merge_fact = merge_fact.merge(source[[\"custom\", \"File Date\"]], how=\"outer\", on=[\"custom\"])\n",
    "merge_fact= merge_fact.drop([\"custom\"], axis=1)\n",
    "merge_fact.columns= [\"local payroll ID\", \"Date\"]"
   ]
  },
  {
   "cell_type": "code",
   "execution_count": 289,
   "metadata": {},
   "outputs": [],
   "source": [
    "merge_fact = merge_fact.merge(merge_exp[colonnes], how=\"left\", on=[\"local payroll ID\", \"Date\"])\n",
    "merge_fact.loc[merge_fact[\"Headcount\"]!=1,\"Headcount\"]=0"
   ]
  },
  {
   "cell_type": "markdown",
   "metadata": {},
   "source": [
    "### Pour les salariés sortis, conserver la dernière situation"
   ]
  },
  {
   "cell_type": "code",
   "execution_count": 290,
   "metadata": {},
   "outputs": [],
   "source": [
    "dmin = source[\"File Date\"].min()\n",
    "col_control = colonnes[3]\n",
    "\n",
    "for i, val in enumerate(merge_fact.iterrows()):\n",
    "    merge_fact.at[i, col_control]\n",
    "    \n",
    "    if str(merge_fact.at[i, col_control]) ==\"nan\" and merge_fact.at[i, \"Date\"]!=dmin:\n",
    "        if merge_fact.at[i,\"local payroll ID\"]==merge_fact.at[i-1,\"local payroll ID\"]:\n",
    "            for col in colonnes[2:-1]:                \n",
    "                merge_fact.at[i, col] =  merge_fact.at[i-1, col]\n",
    "        \n",
    "        "
   ]
  },
  {
   "cell_type": "markdown",
   "metadata": {},
   "source": [
    "### Ajout indicateur sorti"
   ]
  },
  {
   "cell_type": "code",
   "execution_count": 291,
   "metadata": {},
   "outputs": [],
   "source": [
    "merge_fact[\"Leave\"] = 0\n",
    "for i, val in enumerate(merge_fact.iterrows()):\n",
    "    if merge_fact.at[i, \"Date\"]!=dmin:\n",
    "        if (merge_fact.at[i,\"local payroll ID\"]==merge_fact.at[i-1,\"local payroll ID\"]) and (merge_fact.at[i-1,\"Headcount\"]==1 and merge_fact.at[i,\"Headcount\"]==0):\n",
    "            merge_fact.at[i,\"Leave\"]=1"
   ]
  },
  {
   "cell_type": "markdown",
   "metadata": {},
   "source": [
    "### Ajout indicateur entrée"
   ]
  },
  {
   "cell_type": "code",
   "execution_count": 292,
   "metadata": {},
   "outputs": [],
   "source": [
    "merge_fact[\"Entree\"] = 0\n",
    "for i, val in enumerate(merge_fact.iterrows()):\n",
    "    if merge_fact.at[i, \"Date\"]!=dmin:\n",
    "        if (merge_fact.at[i,\"local payroll ID\"]==merge_fact.at[i-1,\"local payroll ID\"]) and (merge_fact.at[i-1,\"Headcount\"]==0 and merge_fact.at[i,\"Headcount\"]==1):\n",
    "            merge_fact.at[i,\"Entree\"]=1"
   ]
  },
  {
   "cell_type": "markdown",
   "metadata": {},
   "source": [
    "### Suppression nan pour colonne[2]"
   ]
  },
  {
   "cell_type": "code",
   "execution_count": 293,
   "metadata": {},
   "outputs": [],
   "source": [
    "merge_fact[colonnes[3]] = merge_fact[colonnes[3]].fillna(\"\")"
   ]
  },
  {
   "cell_type": "markdown",
   "metadata": {},
   "source": [
    "### Export Excel"
   ]
  },
  {
   "cell_type": "code",
   "execution_count": null,
   "metadata": {},
   "outputs": [],
   "source": [
    "merge_fact.to_excel(r'C:\\Users\\sgasmi\\Desktop\\Export Python\\test.xlsx', index=False)"
   ]
  }
 ],
 "metadata": {
  "kernelspec": {
   "display_name": "Python 3",
   "language": "python",
   "name": "python3"
  },
  "language_info": {
   "codemirror_mode": {
    "name": "ipython",
    "version": 3
   },
   "file_extension": ".py",
   "mimetype": "text/x-python",
   "name": "python",
   "nbconvert_exporter": "python",
   "pygments_lexer": "ipython3",
   "version": "3.8.3"
  }
 },
 "nbformat": 4,
 "nbformat_minor": 4
}
