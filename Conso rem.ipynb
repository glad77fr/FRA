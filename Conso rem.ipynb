{
 "cells": [
  {
   "cell_type": "code",
   "execution_count": 1,
   "metadata": {},
   "outputs": [],
   "source": [
    "import pandas as pd"
   ]
  },
  {
   "cell_type": "code",
   "execution_count": 3,
   "metadata": {},
   "outputs": [],
   "source": [
    "effectif = pd.read_excel(r\"C:\\Users\\sgasmi\\Desktop\\Extractions\\FAFR_35.xlsx\")\n",
    "rem = pd.read_excel(r\"C:\\Users\\sgasmi\\Desktop\\Extractions\\Rem.xlsx\")"
   ]
  },
  {
   "cell_type": "code",
   "execution_count": 7,
   "metadata": {},
   "outputs": [
    {
     "name": "stdout",
     "output_type": "stream",
     "text": [
      "(9565, 51)\n"
     ]
    }
   ],
   "source": [
    "print(effectif.shape)"
   ]
  },
  {
   "cell_type": "code",
   "execution_count": 4,
   "metadata": {},
   "outputs": [],
   "source": [
    "Effectif_conso = effectif.merge(rem, right_on=\"Code de la ressource\", left_on=\"Matricule\", how=\"left\")"
   ]
  },
  {
   "cell_type": "code",
   "execution_count": 8,
   "metadata": {},
   "outputs": [
    {
     "name": "stdout",
     "output_type": "stream",
     "text": [
      "(9565, 63)\n"
     ]
    }
   ],
   "source": [
    "print(Effectif_conso.shape)"
   ]
  },
  {
   "cell_type": "code",
   "execution_count": 12,
   "metadata": {},
   "outputs": [],
   "source": [
    "Effectif_conso[\"Salaire annuel\"] = Effectif_conso[\"Salaire\"].apply(lambda x: x*13)"
   ]
  },
  {
   "cell_type": "code",
   "execution_count": 13,
   "metadata": {},
   "outputs": [],
   "source": [
    "Effectif_conso.to_excel(r'C:\\Users\\sgasmi\\Desktop\\Export Python\\Effectif rem.xlsx', index=False)"
   ]
  }
 ],
 "metadata": {
  "kernelspec": {
   "display_name": "Python 3",
   "language": "python",
   "name": "python3"
  },
  "language_info": {
   "codemirror_mode": {
    "name": "ipython",
    "version": 3
   },
   "file_extension": ".py",
   "mimetype": "text/x-python",
   "name": "python",
   "nbconvert_exporter": "python",
   "pygments_lexer": "ipython3",
   "version": "3.8.3"
  }
 },
 "nbformat": 4,
 "nbformat_minor": 4
}
