{
 "cells": [
  {
   "cell_type": "code",
   "execution_count": 8,
   "metadata": {},
   "outputs": [],
   "source": [
    "import pandas as pd\n",
    "import matplotlib.pyplot as plt\n",
    "from IPython.display import Markdown as md"
   ]
  },
  {
   "cell_type": "markdown",
   "metadata": {},
   "source": [
    "## Chargement des données"
   ]
  },
  {
   "cell_type": "code",
   "execution_count": 3,
   "metadata": {},
   "outputs": [],
   "source": [
    "fafr = pd.read_excel(r\"C:\\Users\\sgasmi\\Desktop\\Extractions\\Query_poly_20210104104610.xlsx\", converters={'Matricule':str}) # effectif présent"
   ]
  },
  {
   "cell_type": "markdown",
   "metadata": {},
   "source": [
    "## Analyse des données"
   ]
  },
  {
   "cell_type": "markdown",
   "metadata": {},
   "source": [
    "### Affichage des données du fichier Fafr"
   ]
  },
  {
   "cell_type": "code",
   "execution_count": 4,
   "metadata": {},
   "outputs": [
    {
     "data": {
      "text/plain": [
       "Index(['Matricule', 'Type de ressource', 'Matricule ARAMIS', 'Nº de période',\n",
       "       'Nom', 'Prénom', 'Date de naissance', 'Début contrat initial',\n",
       "       'Code Etablissement', 'Etablissement', 'Date de fin', 'Ancienneté',\n",
       "       'Ancienneté groupe', 'Genre', 'Date naissance', 'Code cycle',\n",
       "       'Libellé du cycle de travail', 'E.T.P', 'Horaire hebdo', '% rém',\n",
       "       'Nombre de jours annuel', 'Convention coll.', 'Catég conv',\n",
       "       'Classif. conv.', 'Niveau', 'Échelon', 'Coeff',\n",
       "       'Catégorie professionnelle', 'Libellé Cat Pro', 'BU', 'Code UT', 'UT',\n",
       "       'Code Contrat', 'Libellé contrat', 'Motif du contrat',\n",
       "       'Libellé du motif de contrat', 'Code motif de recours au CDD',\n",
       "       'Libellé cas de recours au CDD', 'Code de l'emploi',\n",
       "       'Libellé de l'emploi', 'Code ODM', 'Code du lieu de travail',\n",
       "       'Libellé du lieu de travail', 'Name', 'Code section analytique',\n",
       "       'Matricule responsable UT', 'Nom responsable UT',\n",
       "       'Prénom responsabe UT', 'Matricule responsable RH', 'Nom d'usage',\n",
       "       'Prénom.1'],\n",
       "      dtype='object')"
      ]
     },
     "execution_count": 4,
     "metadata": {},
     "output_type": "execute_result"
    }
   ],
   "source": [
    "fafr.columns"
   ]
  },
  {
   "cell_type": "markdown",
   "metadata": {},
   "source": [
    "### Affichage du type des colonnes (nombres/text/date..)"
   ]
  },
  {
   "cell_type": "code",
   "execution_count": 6,
   "metadata": {},
   "outputs": [
    {
     "data": {
      "text/plain": [
       "Matricule                                object\n",
       "Type de ressource                         int64\n",
       "Matricule ARAMIS                         object\n",
       "Nº de période                             int64\n",
       "Nom                                      object\n",
       "Prénom                                   object\n",
       "Date de naissance                datetime64[ns]\n",
       "Début contrat initial            datetime64[ns]\n",
       "Code Etablissement                        int64\n",
       "Etablissement                            object\n",
       "Date de fin                      datetime64[ns]\n",
       "Ancienneté                       datetime64[ns]\n",
       "Ancienneté groupe                datetime64[ns]\n",
       "Genre                                    object\n",
       "Date naissance                   datetime64[ns]\n",
       "Code cycle                               object\n",
       "Libellé du cycle de travail              object\n",
       "E.T.P                                   float64\n",
       "Horaire hebdo                           float64\n",
       "% rém                                   float64\n",
       "Nombre de jours annuel                  float64\n",
       "Convention coll.                        float64\n",
       "Catég conv                               object\n",
       "Classif. conv.                           object\n",
       "Niveau                                   object\n",
       "Échelon                                 float64\n",
       "Coeff                                   float64\n",
       "Catégorie professionnelle                object\n",
       "Libellé Cat Pro                          object\n",
       "BU                                       object\n",
       "Code UT                                   int64\n",
       "UT                                       object\n",
       "Code Contrat                             object\n",
       "Libellé contrat                          object\n",
       "Motif du contrat                         object\n",
       "Libellé du motif de contrat              object\n",
       "Code motif de recours au CDD             object\n",
       "Libellé cas de recours au CDD            object\n",
       "Code de l'emploi                         object\n",
       "Libellé de l'emploi                      object\n",
       "Code ODM                                 object\n",
       "Code du lieu de travail                  object\n",
       "Libellé du lieu de travail               object\n",
       "Name                                     object\n",
       "Code section analytique                  object\n",
       "Matricule responsable UT                float64\n",
       "Nom responsable UT                       object\n",
       "Prénom responsabe UT                     object\n",
       "Matricule responsable RH                float64\n",
       "Nom d'usage                              object\n",
       "Prénom.1                                 object\n",
       "dtype: object"
      ]
     },
     "execution_count": 6,
     "metadata": {},
     "output_type": "execute_result"
    }
   ],
   "source": [
    "fafr.dtypes"
   ]
  },
  {
   "cell_type": "markdown",
   "metadata": {},
   "source": [
    "### Analyse des specificité d'un champ"
   ]
  },
  {
   "cell_type": "code",
   "execution_count": 13,
   "metadata": {},
   "outputs": [
    {
     "data": {
      "text/plain": [
       "count       9581\n",
       "unique      7508\n",
       "top       MARTIN\n",
       "freq          29\n",
       "Name: Nom, dtype: object"
      ]
     },
     "execution_count": 13,
     "metadata": {},
     "output_type": "execute_result"
    }
   ],
   "source": [
    "fafr[\"Nom\"].describe()"
   ]
  },
  {
   "cell_type": "markdown",
   "metadata": {},
   "source": [
    "<b1> Un peu de HTML : on constate que le nom <strong> Martin </strong> est le nom le plus donné </b1>"
   ]
  },
  {
   "cell_type": "code",
   "execution_count": 25,
   "metadata": {},
   "outputs": [],
   "source": [
    "colonne = \"BU\"\n",
    "nb_occurence = fafr[colonne].describe()[3]\n",
    "norme = fafr[colonne].describe()[2]"
   ]
  },
  {
   "cell_type": "code",
   "execution_count": 26,
   "metadata": {},
   "outputs": [
    {
     "data": {
      "text/markdown": [
       "Un peu d'HTML dynamique, la norme est <strong> IB </strong>, le nombre d'occurence est de <strong> 2835 </strong>."
      ],
      "text/plain": [
       "<IPython.core.display.Markdown object>"
      ]
     },
     "execution_count": 26,
     "metadata": {},
     "output_type": "execute_result"
    }
   ],
   "source": [
    "md(\"Un peu d'HTML dynamique, la norme est <strong> {} </strong>, le nombre d'occurence est de <strong> {} </strong>.\".format(norme, nb_occurence))"
   ]
  },
  {
   "cell_type": "markdown",
   "metadata": {},
   "source": [
    "<b1>Il est possible d'ajouter des images\n",
    "<img src=\"Logo-Framatome-HD.png\" width=\"150\"></b1>\n"
   ]
  },
  {
   "cell_type": "markdown",
   "metadata": {},
   "source": [
    "### Analyse du nombre de ligne et colonne !"
   ]
  },
  {
   "cell_type": "code",
   "execution_count": 31,
   "metadata": {},
   "outputs": [
    {
     "data": {
      "text/plain": [
       "(9581, 51)"
      ]
     },
     "execution_count": 31,
     "metadata": {},
     "output_type": "execute_result"
    }
   ],
   "source": [
    "fafr.shape"
   ]
  },
  {
   "cell_type": "code",
   "execution_count": 32,
   "metadata": {},
   "outputs": [
    {
     "name": "stdout",
     "output_type": "stream",
     "text": [
      "Le fichier comporte 9581 lignes et 51 colonnes\n"
     ]
    }
   ],
   "source": [
    "print(\"Le fichier comporte {} lignes et {} colonnes\".format(fafr.shape[0], fafr.shape[1]))"
   ]
  },
  {
   "cell_type": "markdown",
   "metadata": {},
   "source": [
    "## Use Case : Analyse de la distribution des noms pour la répartition des connexions aux VPN"
   ]
  },
  {
   "cell_type": "markdown",
   "metadata": {},
   "source": [
    "### Recherche de valeur vide"
   ]
  },
  {
   "cell_type": "code",
   "execution_count": 42,
   "metadata": {},
   "outputs": [
    {
     "data": {
      "text/plain": [
       "0"
      ]
     },
     "execution_count": 42,
     "metadata": {},
     "output_type": "execute_result"
    }
   ],
   "source": [
    "fafr[\"Nom\"].isna().sum()"
   ]
  },
  {
   "cell_type": "markdown",
   "metadata": {},
   "source": [
    "Par chance le nombre de valeur vide est nul. Nous pouvons avancer!"
   ]
  },
  {
   "cell_type": "markdown",
   "metadata": {},
   "source": [
    "### Création d'une colonne contenant que la première lettre du nom"
   ]
  },
  {
   "cell_type": "code",
   "execution_count": 46,
   "metadata": {},
   "outputs": [],
   "source": [
    "fafr[\"first name letter\"] = fafr[\"Nom\"].apply(lambda x:x[0])"
   ]
  },
  {
   "cell_type": "markdown",
   "metadata": {},
   "source": [
    "### Vérification qu'il n'existe pas de miniscule et de vide en cherchant les valeurs disctincts"
   ]
  },
  {
   "cell_type": "code",
   "execution_count": 47,
   "metadata": {},
   "outputs": [
    {
     "data": {
      "text/plain": [
       "array(['R', 'F', 'B', 'G', 'S', 'V', 'K', 'I', 'W', 'L', 'M', 'H', 'P',\n",
       "       'C', 'J', 'T', 'D', 'A', 'N', 'Z', 'E', 'Q', 'Y', 'O', 'U', 'X'],\n",
       "      dtype=object)"
      ]
     },
     "execution_count": 47,
     "metadata": {},
     "output_type": "execute_result"
    }
   ],
   "source": [
    "fafr[\"first name letter\"].unique()"
   ]
  },
  {
   "cell_type": "markdown",
   "metadata": {},
   "source": [
    "### Classement des valeurs par ordre alphabétique"
   ]
  },
  {
   "cell_type": "code",
   "execution_count": 55,
   "metadata": {},
   "outputs": [],
   "source": [
    "fafr= fafr.sort_values([\"first name letter\"])"
   ]
  },
  {
   "cell_type": "code",
   "execution_count": 58,
   "metadata": {},
   "outputs": [
    {
     "name": "stdout",
     "output_type": "stream",
     "text": [
      "1831    A\n",
      "7442    A\n",
      "6523    A\n",
      "7048    A\n",
      "7044    A\n",
      "4273    A\n",
      "8623    A\n",
      "2133    A\n",
      "1510    A\n",
      "3270    A\n",
      "Name: first name letter, dtype: object\n"
     ]
    }
   ],
   "source": [
    "print(fafr[\"first name letter\"].head(10))"
   ]
  },
  {
   "cell_type": "markdown",
   "metadata": {},
   "source": [
    "### Création d'un histogramme pour observer la répartition"
   ]
  },
  {
   "cell_type": "code",
   "execution_count": 104,
   "metadata": {},
   "outputs": [
    {
     "data": {
      "text/plain": [
       "(array([4.02880701e-02, 1.22951675e-01, 9.05959712e-02, 9.28921824e-02,\n",
       "        1.48209999e-02, 4.06011899e-02, 7.34787600e-02, 3.01638660e-02,\n",
       "        5.63615489e-03, 1.92046759e-02, 1.72215844e-02, 7.65055840e-02,\n",
       "        9.23703163e-02, 1.48209999e-02, 8.66297881e-03, 7.01388164e-02,\n",
       "        3.96618307e-03, 5.23953658e-02, 4.76985701e-02, 3.50694082e-02,\n",
       "        1.56559858e-03, 3.42344223e-02, 6.47114080e-03, 1.04373239e-04,\n",
       "        8.14111262e-03]),\n",
       " array([ 0.,  1.,  2.,  3.,  4.,  5.,  6.,  7.,  8.,  9., 10., 11., 12.,\n",
       "        13., 14., 15., 16., 17., 18., 19., 20., 21., 22., 23., 24., 25.]),\n",
       " <BarContainer object of 25 artists>)"
      ]
     },
     "execution_count": 104,
     "metadata": {},
     "output_type": "execute_result"
    },
    {
     "data": {
      "image/png": "[encoded data removed]",
      "text/plain": [
       "<Figure size 1440x720 with 1 Axes>"
      ]
     },
     "metadata": {
      "needs_background": "light"
     },
     "output_type": "display_data"
    }
   ],
   "source": [
    "plt.figure(figsize=(20,10))\n",
    "x = fafr[\"first name letter\"]\n",
    "plt.xlabel(\"First name letter\")\n",
    "plt.ylabel(\"Number of occurence\")\n",
    "plt.hist(x,bins=25,density=True)"
   ]
  },
  {
   "cell_type": "code",
   "execution_count": 125,
   "metadata": {},
   "outputs": [],
   "source": [
    "Letter_distribution = fafr.groupby([\"first name letter\"]).size().cumsum().reset_index()\n",
    "Letter_distribution.columns = [\"Letter distribution\", \"cumulate_occ\"]"
   ]
  },
  {
   "cell_type": "code",
   "execution_count": 136,
   "metadata": {},
   "outputs": [],
   "source": [
    "test=pd.qcut(Letter_distribution[\"cumulate_occ\"], q=6)"
   ]
  },
  {
   "cell_type": "code",
   "execution_count": 137,
   "metadata": {},
   "outputs": [
    {
     "name": "stdout",
     "output_type": "stream",
     "text": [
      "0      (385.999, 3528.833]\n",
      "1      (385.999, 3528.833]\n",
      "2      (385.999, 3528.833]\n",
      "3      (385.999, 3528.833]\n",
      "4      (385.999, 3528.833]\n",
      "5     (3528.833, 4961.333]\n",
      "6     (3528.833, 4961.333]\n",
      "7     (3528.833, 4961.333]\n",
      "8     (3528.833, 4961.333]\n",
      "9       (4961.333, 6938.0]\n",
      "10      (4961.333, 6938.0]\n",
      "11      (4961.333, 6938.0]\n",
      "12      (4961.333, 6938.0]\n",
      "13      (6938.0, 8136.667]\n",
      "14      (6938.0, 8136.667]\n",
      "15      (6938.0, 8136.667]\n",
      "16      (6938.0, 8136.667]\n",
      "17    (8136.667, 9385.333]\n",
      "18    (8136.667, 9385.333]\n",
      "19    (8136.667, 9385.333]\n",
      "20    (8136.667, 9385.333]\n",
      "21      (9385.333, 9581.0]\n",
      "22      (9385.333, 9581.0]\n",
      "23      (9385.333, 9581.0]\n",
      "24      (9385.333, 9581.0]\n",
      "25      (9385.333, 9581.0]\n",
      "Name: cumulate_occ, dtype: category\n",
      "Categories (6, interval[float64]): [(385.999, 3528.833] < (3528.833, 4961.333] < (4961.333, 6938.0] < (6938.0, 8136.667] < (8136.667, 9385.333] < (9385.333, 9581.0]]\n"
     ]
    }
   ],
   "source": [
    "print(test)"
   ]
  },
  {
   "cell_type": "code",
   "execution_count": 134,
   "metadata": {},
   "outputs": [
    {
     "data": {
      "text/html": [
       "<div>\n",
       "<style scoped>\n",
       "    .dataframe tbody tr th:only-of-type {\n",
       "        vertical-align: middle;\n",
       "    }\n",
       "\n",
       "    .dataframe tbody tr th {\n",
       "        vertical-align: top;\n",
       "    }\n",
       "\n",
       "    .dataframe thead th {\n",
       "        text-align: right;\n",
       "    }\n",
       "</style>\n",
       "<table border=\"1\" class=\"dataframe\">\n",
       "  <thead>\n",
       "    <tr style=\"text-align: right;\">\n",
       "      <th></th>\n",
       "      <th>Letter distribution</th>\n",
       "      <th>cumulate_occ</th>\n",
       "    </tr>\n",
       "  </thead>\n",
       "  <tbody>\n",
       "    <tr>\n",
       "      <th>0</th>\n",
       "      <td>A</td>\n",
       "      <td>386</td>\n",
       "    </tr>\n",
       "    <tr>\n",
       "      <th>1</th>\n",
       "      <td>B</td>\n",
       "      <td>1564</td>\n",
       "    </tr>\n",
       "    <tr>\n",
       "      <th>2</th>\n",
       "      <td>C</td>\n",
       "      <td>2432</td>\n",
       "    </tr>\n",
       "    <tr>\n",
       "      <th>3</th>\n",
       "      <td>D</td>\n",
       "      <td>3322</td>\n",
       "    </tr>\n",
       "    <tr>\n",
       "      <th>4</th>\n",
       "      <td>E</td>\n",
       "      <td>3464</td>\n",
       "    </tr>\n",
       "    <tr>\n",
       "      <th>5</th>\n",
       "      <td>F</td>\n",
       "      <td>3853</td>\n",
       "    </tr>\n",
       "    <tr>\n",
       "      <th>6</th>\n",
       "      <td>G</td>\n",
       "      <td>4557</td>\n",
       "    </tr>\n",
       "    <tr>\n",
       "      <th>7</th>\n",
       "      <td>H</td>\n",
       "      <td>4846</td>\n",
       "    </tr>\n",
       "    <tr>\n",
       "      <th>8</th>\n",
       "      <td>I</td>\n",
       "      <td>4900</td>\n",
       "    </tr>\n",
       "    <tr>\n",
       "      <th>9</th>\n",
       "      <td>J</td>\n",
       "      <td>5084</td>\n",
       "    </tr>\n",
       "    <tr>\n",
       "      <th>10</th>\n",
       "      <td>K</td>\n",
       "      <td>5249</td>\n",
       "    </tr>\n",
       "    <tr>\n",
       "      <th>11</th>\n",
       "      <td>L</td>\n",
       "      <td>5982</td>\n",
       "    </tr>\n",
       "    <tr>\n",
       "      <th>12</th>\n",
       "      <td>M</td>\n",
       "      <td>6867</td>\n",
       "    </tr>\n",
       "    <tr>\n",
       "      <th>13</th>\n",
       "      <td>N</td>\n",
       "      <td>7009</td>\n",
       "    </tr>\n",
       "    <tr>\n",
       "      <th>14</th>\n",
       "      <td>O</td>\n",
       "      <td>7092</td>\n",
       "    </tr>\n",
       "    <tr>\n",
       "      <th>15</th>\n",
       "      <td>P</td>\n",
       "      <td>7764</td>\n",
       "    </tr>\n",
       "    <tr>\n",
       "      <th>16</th>\n",
       "      <td>Q</td>\n",
       "      <td>7802</td>\n",
       "    </tr>\n",
       "    <tr>\n",
       "      <th>17</th>\n",
       "      <td>R</td>\n",
       "      <td>8304</td>\n",
       "    </tr>\n",
       "    <tr>\n",
       "      <th>18</th>\n",
       "      <td>S</td>\n",
       "      <td>8761</td>\n",
       "    </tr>\n",
       "    <tr>\n",
       "      <th>19</th>\n",
       "      <td>T</td>\n",
       "      <td>9097</td>\n",
       "    </tr>\n",
       "    <tr>\n",
       "      <th>20</th>\n",
       "      <td>U</td>\n",
       "      <td>9112</td>\n",
       "    </tr>\n",
       "    <tr>\n",
       "      <th>21</th>\n",
       "      <td>V</td>\n",
       "      <td>9440</td>\n",
       "    </tr>\n",
       "    <tr>\n",
       "      <th>22</th>\n",
       "      <td>W</td>\n",
       "      <td>9502</td>\n",
       "    </tr>\n",
       "    <tr>\n",
       "      <th>23</th>\n",
       "      <td>X</td>\n",
       "      <td>9503</td>\n",
       "    </tr>\n",
       "    <tr>\n",
       "      <th>24</th>\n",
       "      <td>Y</td>\n",
       "      <td>9527</td>\n",
       "    </tr>\n",
       "    <tr>\n",
       "      <th>25</th>\n",
       "      <td>Z</td>\n",
       "      <td>9581</td>\n",
       "    </tr>\n",
       "  </tbody>\n",
       "</table>\n",
       "</div>"
      ],
      "text/plain": [
       "   Letter distribution  cumulate_occ\n",
       "0                    A           386\n",
       "1                    B          1564\n",
       "2                    C          2432\n",
       "3                    D          3322\n",
       "4                    E          3464\n",
       "5                    F          3853\n",
       "6                    G          4557\n",
       "7                    H          4846\n",
       "8                    I          4900\n",
       "9                    J          5084\n",
       "10                   K          5249\n",
       "11                   L          5982\n",
       "12                   M          6867\n",
       "13                   N          7009\n",
       "14                   O          7092\n",
       "15                   P          7764\n",
       "16                   Q          7802\n",
       "17                   R          8304\n",
       "18                   S          8761\n",
       "19                   T          9097\n",
       "20                   U          9112\n",
       "21                   V          9440\n",
       "22                   W          9502\n",
       "23                   X          9503\n",
       "24                   Y          9527\n",
       "25                   Z          9581"
      ]
     },
     "execution_count": 134,
     "metadata": {},
     "output_type": "execute_result"
    }
   ],
   "source": [
    "Letter_distribution"
   ]
  },
  {
   "cell_type": "markdown",
   "metadata": {},
   "source": [
    "(A-E), (F-I) , (G-I), (H-M), (N-Q), (R-U), (V-Z)"
   ]
  },
  {
   "cell_type": "code",
   "execution_count": null,
   "metadata": {},
   "outputs": [],
   "source": [
    "VPN backup/secours 1\tA, B\n",
    "VPN backup/secours 2\tC, D, E\n",
    "VPN backup/secours 3\tF, G, H, I\n",
    "VPN backup/secours 4\tJ, K, L\n",
    "VPN backup/secours 5\tM, N, O, P, Q\n",
    "VPN backup/secours 6\tR, S, T, U, V, W, X, Y, Z\n",
    "\n"
   ]
  }
 ],
 "metadata": {
  "kernelspec": {
   "display_name": "Python 3",
   "language": "python",
   "name": "python3"
  },
  "language_info": {
   "codemirror_mode": {
    "name": "ipython",
    "version": 3
   },
   "file_extension": ".py",
   "mimetype": "text/x-python",
   "name": "python",
   "nbconvert_exporter": "python",
   "pygments_lexer": "ipython3",
   "version": "3.8.3"
  }
 },
 "nbformat": 4,
 "nbformat_minor": 4
}
