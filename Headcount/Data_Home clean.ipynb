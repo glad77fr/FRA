{
 "cells": [
  {
   "cell_type": "code",
   "execution_count": 124,
   "metadata": {},
   "outputs": [],
   "source": [
    "import pandas as pd\n",
    "import numpy as np\n",
    "import datetime as dt\n",
    "%run C:\\Users\\sgasmi\\Notebooks\\Column_autosize.ipynb"
   ]
  },
  {
   "cell_type": "markdown",
   "metadata": {},
   "source": [
    "## Chargement des données"
   ]
  },
  {
   "cell_type": "code",
   "execution_count": 125,
   "metadata": {},
   "outputs": [],
   "source": [
    "dhome = pd.read_excel(r\"C:\\Users\\sgasmi\\Desktop\\Extractions\\DATA_HOME.xlsx\", sheet_name=\"Donnees\")\n",
    "fafr = pd.read_excel(r\"C:\\Users\\sgasmi\\Desktop\\Extractions\\Effectif_Data_Quality.xlsx\", converters={'Matricule':str})"
   ]
  },
  {
   "cell_type": "markdown",
   "metadata": {},
   "source": [
    "## Fonctions perso appelées"
   ]
  },
  {
   "cell_type": "code",
   "execution_count": 126,
   "metadata": {},
   "outputs": [],
   "source": [
    "def empty_text(Dataframe, list_col):\n",
    "    for val in list_col :\n",
    "        titre_colonne = \"Champ \" + str(val) + \" vide\"\n",
    "        dhome.loc[Dataframe[val].isna(), titre_colonne] = \"Le champ \" + str(val) + \" est vide/\"\n",
    "    return dhome"
   ]
  },
  {
   "cell_type": "markdown",
   "metadata": {},
   "source": [
    "## Contrôle de qualité du Data Home"
   ]
  },
  {
   "cell_type": "markdown",
   "metadata": {},
   "source": [
    "### Traitement des champs vides"
   ]
  },
  {
   "cell_type": "code",
   "execution_count": 127,
   "metadata": {},
   "outputs": [],
   "source": [
    "champs_vides = [\"Email\", \"Sub-Domain\", \"Legal entity\", \"Establishment\", \"Site\", \"MyHR ID\", \"Sex\", \"Prof Categ\", \"Category\", \"Contract Type\", \"Status\", \"% FTE\", \"Job title\"]\n",
    "dhome = empty_text(dhome, champs_vides)"
   ]
  },
  {
   "cell_type": "markdown",
   "metadata": {},
   "source": [
    "### Traitement du champ Position/coefficient"
   ]
  },
  {
   "cell_type": "code",
   "execution_count": 128,
   "metadata": {},
   "outputs": [],
   "source": [
    "dhome.loc[(dhome[\"Position/coefficient\"].isna()) & (dhome[\"Home Country\"]==\"FRA\"), \"Anomalie Position/coefficient vide\"] = \"Champ Position/coefficient vide/\""
   ]
  },
  {
   "cell_type": "markdown",
   "metadata": {},
   "source": [
    "### Anomalie CSP vide"
   ]
  },
  {
   "cell_type": "code",
   "execution_count": 129,
   "metadata": {},
   "outputs": [],
   "source": [
    "dhome.loc[(dhome[\"CSP\"].isna()) & (dhome[\"Home Country\"]==\"FRA\"), \"Anomalie CSP\"] = \"Anomalie CSP vide/\""
   ]
  },
  {
   "cell_type": "markdown",
   "metadata": {},
   "source": [
    "### Contrôle du champ FTE"
   ]
  },
  {
   "cell_type": "code",
   "execution_count": 130,
   "metadata": {},
   "outputs": [],
   "source": [
    "dhome.loc[dhome[\"% FTE\"]>100, \"Anomalie FTE\"] = \"Incohérence de valeur sur le champ FTE/ \"\n",
    "dhome.loc[(dhome[\"% FTE\"] !=0) & (dhome[\"Category\"]==\"B\"), \"Anomalie FTE\"] = \"Incohérence de valeur sur le champ FTE/ \"\n",
    "dhome.loc[(dhome[\"% FTE\"]==0) & (dhome[\"Category\"].isin([\"A, C\"])==True), \"Anomalie FTE\"] = \"Incohérence de valeur sur le champ FTE/ \""
   ]
  },
  {
   "cell_type": "markdown",
   "metadata": {},
   "source": [
    "### Contrôle de cohérence sur les expatriés"
   ]
  },
  {
   "cell_type": "code",
   "execution_count": 131,
   "metadata": {},
   "outputs": [],
   "source": [
    "dhome['Anomalie expat'] = dhome.apply(lambda x : \"Home Country identique à Host Country\" if x['Expat/impat/detached']==\"Expatriate\" and x['Home Country'] == x['Host Country'] else np.nan, axis=1)"
   ]
  },
  {
   "cell_type": "markdown",
   "metadata": {},
   "source": [
    "### Anomalie code UO"
   ]
  },
  {
   "cell_type": "code",
   "execution_count": 132,
   "metadata": {},
   "outputs": [],
   "source": [
    "dhome.loc[dhome[\"ORG1 code\"].isin([\"ASA\", \"FRA\", \"NP\"])==False, 'Incohérence du code UO niveau 1'] = \"Incohérence code UO/ \""
   ]
  },
  {
   "cell_type": "markdown",
   "metadata": {},
   "source": [
    "## Utilisation de la requête FAFR_035"
   ]
  },
  {
   "cell_type": "markdown",
   "metadata": {},
   "source": [
    "### Typage du champ matricule"
   ]
  },
  {
   "cell_type": "code",
   "execution_count": 133,
   "metadata": {},
   "outputs": [],
   "source": [
    "fafr[\"Matricule\"] = \"FRA_\" + fafr[\"Matricule\"]"
   ]
  },
  {
   "cell_type": "markdown",
   "metadata": {},
   "source": [
    "### Suppression des stagiaires"
   ]
  },
  {
   "cell_type": "code",
   "execution_count": 134,
   "metadata": {},
   "outputs": [],
   "source": [
    "fafr = fafr.loc[fafr[\"Code Contrat\"] != \"STA2\"]\n",
    "fafr.reset_index(drop=True, inplace=True)"
   ]
  },
  {
   "cell_type": "markdown",
   "metadata": {},
   "source": [
    "### Détection des salariés sortis"
   ]
  },
  {
   "cell_type": "code",
   "execution_count": 135,
   "metadata": {},
   "outputs": [],
   "source": [
    "dhome[\"local payroll ID\"] = dhome[\"local payroll ID\"].astype(\"str\")\n",
    "dhome.loc[(dhome[\"local payroll ID\"].isin(list(fafr[\"Matricule\"]))==False) & (dhome[\"Home Country\"] == \"FRA\"), \"A supprimer\"] = \"Salarié non présent dans FAFR35/\""
   ]
  },
  {
   "cell_type": "markdown",
   "metadata": {},
   "source": [
    "### Récupération des champs dans FAFR_35"
   ]
  },
  {
   "cell_type": "code",
   "execution_count": 136,
   "metadata": {},
   "outputs": [],
   "source": [
    "# Récupération du code E.T.P de la requête FAFR_35\"E.T.P\"\n",
    "dhome = dhome.merge(fafr[[\"Matricule\", \"% rém\", \"E.T.P\", \"Code ODM\", \"Code section analytique\", \"Nombre de jours annuel\"]], left_on =\"local payroll ID\",right_on=\"Matricule\", how=\"left\")"
   ]
  },
  {
   "cell_type": "markdown",
   "metadata": {},
   "source": [
    "### Ajout du % FTE"
   ]
  },
  {
   "cell_type": "code",
   "execution_count": 137,
   "metadata": {},
   "outputs": [],
   "source": [
    "# Si %FTE vide et FRA et % rém = 100  si % rém > 0  et non vide\n",
    "dhome.loc[(dhome[\"% FTE\"].isna()==True) & (dhome[\"Home Country\"]==\"FRA\") & (dhome[\"% rém\"]==100), \"Correction code ETP\"] = \"Oui\"\n",
    "dhome.loc[(dhome[\"% FTE\"].isna()==True) & (dhome[\"Home Country\"]==\"FRA\") & (dhome[\"% rém\"]==100), \"% FTE\"] = 100\n",
    "\n",
    "# Recalcul du % rem dans FAFR35 (nombre de jours annuel (U) /212)*100\n",
    "dhome.loc[(dhome[\"Nombre de jours annuel\"].isna()==False) & (dhome[\"% FTE\"].isna()==True), \"Correction code ETP\"] = \"Oui\"\n",
    "dhome.loc[(dhome[\"Nombre de jours annuel\"].isna()==False) & (dhome[\"% FTE\"].isna()==True)].apply(lambda x: (x[\"Nombre de jours annuel\"]*100)/212 if x[\"Home Country\"]==\"FRA\" else \"\", axis=1)\n",
    "\n",
    "\n",
    "# Si  %FTE vide et % rém vide et ETP non vide alors ETP * 100\n",
    "dhome.loc[(dhome[\"% FTE\"].isna()==True) & (dhome[\"Home Country\"]==\"FRA\") & (dhome[\"% rém\"].isna()==True) & (dhome[\"E.T.P\"].isna()==False), \"Correction code ETP\"] = \"Oui\"\n",
    "dhome[\"% FTE\"] = np.where((dhome[\"% FTE\"].isna()==True) & (dhome[\"Home Country\"]==\"FRA\") & (dhome[\"% rém\"].isna()==True) & (dhome[\"E.T.P\"].isna()==False), dhome[\"E.T.P\"]*100, dhome[\"% FTE\"])"
   ]
  },
  {
   "cell_type": "markdown",
   "metadata": {},
   "source": [
    "## Recherche de doublons"
   ]
  },
  {
   "cell_type": "markdown",
   "metadata": {},
   "source": [
    "### Doublon matricule paie local"
   ]
  },
  {
   "cell_type": "code",
   "execution_count": 138,
   "metadata": {},
   "outputs": [],
   "source": [
    "dhome.loc[dhome['local payroll ID'].duplicated()==True, \"Doublon matricule paie\"] = \"Doublon matricule paie/ \""
   ]
  },
  {
   "cell_type": "markdown",
   "metadata": {},
   "source": [
    "### Recherche de doublon MyHR"
   ]
  },
  {
   "cell_type": "code",
   "execution_count": 139,
   "metadata": {},
   "outputs": [],
   "source": [
    "dhome.loc[dhome['MyHR ID'].duplicated()==True, \"Doublons MyHR\"] = \"Doublon MyHR ID/ \""
   ]
  },
  {
   "cell_type": "markdown",
   "metadata": {},
   "source": [
    "### Recherche d'homonymes"
   ]
  },
  {
   "cell_type": "code",
   "execution_count": 140,
   "metadata": {},
   "outputs": [],
   "source": [
    "double = dhome.groupby(['Last name', 'First name', 'Birth date']).size().reset_index()\n",
    "double.columns=['Last name', 'First name', 'Birth date', \"Homonymes ou doublon\"]\n",
    "double= double.loc[double[\"Homonymes ou doublon\"]>1]\n",
    "\n",
    "dhome = dhome.merge(double, on=[\"Last name\", \"First name\", \"Birth date\"], how='left')\n",
    "dhome.loc[(dhome[\"Doublon matricule paie\"]==\"Doublon matricule paie\") | (dhome[\"Doublons MyHR\"]==\"Doublon MyHR ID\"), \"Homonymes ou doublon\"]= \"X\"\n",
    "dhome.loc[dhome[\"Homonymes ou doublon\"]=='X', \"Homonymes ou doublon\"] = \"\"\n",
    "dhome.loc[dhome[\"Homonymes ou doublon\"].isna()==False, \"Homonymes ou doublon\"] = \"Homonymes ou doublon/ \""
   ]
  },
  {
   "cell_type": "markdown",
   "metadata": {},
   "source": [
    "### Contrôle sub-domain écart avec PN"
   ]
  },
  {
   "cell_type": "code",
   "execution_count": 141,
   "metadata": {},
   "outputs": [],
   "source": [
    "#dhome[\"Code ODM\"] = dhome[\"Code ODM\"].str.split(\"-\").str[0]\n",
    "#dhome[\"Code ODM\"] = dhome[\"Code ODM\"].str.replace(\" \", \"\")\n",
    "#dhome[\"Ecart sub-domain avec PN\"] = dhome.apply(lambda x: \"Ecart code ODM/\" if x[\"Sub-Domain\"] != x[\"Code ODM\"] and x[\"Home Country\"]==\"FRA\" and x[\"Legal entity\"] in [\"FRA\", \"ANP\"] else np.nan, axis=1)"
   ]
  },
  {
   "cell_type": "markdown",
   "metadata": {},
   "source": [
    "### Contrôle centre de coût"
   ]
  },
  {
   "cell_type": "code",
   "execution_count": 142,
   "metadata": {},
   "outputs": [],
   "source": [
    "dhome[\"Anomalie centre de coût\"] = dhome.apply(lambda x: \"Ecart centre de coût/\" if x[\"Cost Center\"] != x[\"Code section analytique\"] and x[\"Home Country\"]==\"FRA\" else np.nan, axis=1)"
   ]
  },
  {
   "cell_type": "markdown",
   "metadata": {},
   "source": [
    "### Contrôle du champ Category"
   ]
  },
  {
   "cell_type": "code",
   "execution_count": 143,
   "metadata": {},
   "outputs": [],
   "source": [
    "dhome.loc[(dhome[\"Category\"]==\"A\") & ((dhome[\"Contract Type\"].isin([\"FT3+\",\"NFT\"])==False )| (dhome[\"Status\"].isin([\"ACT\",\"SUSP-R2\"])==False) | (dhome[\"% FTE\"]==0)), \"Anomalie category\"] = \"Cat A incohérente/\"\n",
    "dhome.loc[(dhome[\"Category\"]==\"B\") & ((dhome[\"Contract Type\"] != \"NFT\")| (dhome[\"Status\"].isin([\"SUSP\", \"LONG-ILL\", \"SUSP-R\"])==False) | (dhome[\"% FTE\"]!=0)), \"Anomalie category\"] = \"Cat B incohérente/\"\n",
    "dhome.loc[(dhome[\"Category\"]==\"C\") & (dhome[\"Contract Type\"].isin([\"APP\", \"CP\", \"FT\", \"FTR\",\"FTS\", \"FT3-\",\"CIFRE\", \"FT3\"])==False), \"Anomalie category\"] = \"Cat C incohérente/\""
   ]
  },
  {
   "cell_type": "markdown",
   "metadata": {},
   "source": [
    "### Champs à ajouter"
   ]
  },
  {
   "cell_type": "code",
   "execution_count": 144,
   "metadata": {},
   "outputs": [],
   "source": [
    "dhome[\"Centres de coûts à ajouter\"] = dhome.apply(lambda x: x[\"Code section analytique\"] if x[\"Home Country\"]==\"FRA\" and x[\"Anomalie centre de coût\"]!=\"\" else \"\", axis=1)\n",
    "#dhome[\"Code ODM à ajouter\"] = dhome.apply(lambda x: x[\"Code ODM\"] if x[\"Home Country\"]==\"FRA\" and x[\"Ecart sub-domain avec PN\"]!=\"\" else np.nan, axis=1)"
   ]
  },
  {
   "cell_type": "markdown",
   "metadata": {},
   "source": [
    "### Salariés à ajouter"
   ]
  },
  {
   "cell_type": "code",
   "execution_count": 145,
   "metadata": {},
   "outputs": [],
   "source": [
    "to_add = fafr.loc[fafr[\"Matricule\"].isin(dhome[\"local payroll ID\"])==False].reset_index(drop=True)"
   ]
  },
  {
   "cell_type": "markdown",
   "metadata": {},
   "source": [
    "### Suppression des champs ajoutés par la requête FAFR35"
   ]
  },
  {
   "cell_type": "code",
   "execution_count": 146,
   "metadata": {},
   "outputs": [],
   "source": [
    "dhome = dhome.drop([\"Matricule\", \"% rém\", \"E.T.P\", \"Code ODM\", \"Code section analytique\", \"Nombre de jours annuel\"], axis=1)"
   ]
  },
  {
   "cell_type": "markdown",
   "metadata": {},
   "source": [
    "### Ajout du champ BU"
   ]
  },
  {
   "cell_type": "code",
   "execution_count": 147,
   "metadata": {},
   "outputs": [],
   "source": [
    "dhome[\"BU\"]=\"\"\n",
    "dhome.loc[dhome[\"ORG2 code\"].str.startswith(\"OL3\")==True, \"BU\"] = \"OL3\"\n",
    "dhome.loc[(dhome[\"ORG2 code\"].isin([\"HR\", \"QP\", \"DGP\", \"ISDT\", \"3SEP\", \"RD\", \"OPX\", \"OPR\"])) |(dhome[\"ORG2 code\"].isna()==True), \"BU\"] = \"FRA-CORP\"\n",
    "dhome[\"BU\"] = dhome.apply(lambda x: x[\"ORG2 code\"] if x[\"BU\"]==\"\" else x[\"BU\"], axis=1)"
   ]
  },
  {
   "cell_type": "markdown",
   "metadata": {},
   "source": [
    "### Convertion au bon format de date"
   ]
  },
  {
   "cell_type": "code",
   "execution_count": 148,
   "metadata": {},
   "outputs": [],
   "source": [
    "dhome[\"Contract start date\"]= pd.to_datetime(dhome[\"Contract start date\"]).dt.date\n",
    "dhome[\"Contract end date\"]= pd.to_datetime(dhome[\"Contract end date\"]).dt.date\n",
    "dhome[\"Birth date\"]= pd.to_datetime(dhome[\"Birth date\"]).dt.date\n",
    "dhome[\"Group Seniority\"]= pd.to_datetime(dhome[\"Group Seniority\"]).dt.date\n",
    "to_add[\"Date de naissance\"]=pd.to_datetime(to_add[\"Date de naissance\"]).dt.date\n",
    "to_add[\"Début contrat initial\"]=pd.to_datetime(to_add[\"Début contrat initial\"]).dt.date\n",
    "to_add[\"Date de fin\"]=pd.to_datetime(to_add[\"Date de fin\"]).dt.date\n",
    "to_add[\"Ancienneté\"]=pd.to_datetime(to_add[\"Ancienneté\"]).dt.date\n",
    "to_add[\"Ancienneté groupe\"]=pd.to_datetime(to_add[\"Ancienneté groupe\"]).dt.date"
   ]
  },
  {
   "cell_type": "markdown",
   "metadata": {},
   "source": [
    "### Création d'une colonne de synthèse des anomalies"
   ]
  },
  {
   "cell_type": "code",
   "execution_count": 149,
   "metadata": {},
   "outputs": [],
   "source": [
    "dhome[\"Synthèse anomalie\"] = \"\"\n",
    "\n",
    "for i, val in (dhome.iterrows()):\n",
    "    synthèse = \"\"\n",
    "    c = 71\n",
    "    while c >= 45:\n",
    "        if str(dhome.iloc[i,c]) != \"nan\":\n",
    "            if synthèse == \"\":\n",
    "                synthèse = str(dhome.iloc[i,c])\n",
    "            else:\n",
    "                synthèse = synthèse + str(dhome.iloc[i,c])                \n",
    "        c -= 1\n",
    "\n",
    "    if synthèse != \"\" :\n",
    "        if synthèse !=\"\":\n",
    "            dhome.at[i, \"Synthèse anomalie\"]= synthèse"
   ]
  },
  {
   "cell_type": "markdown",
   "metadata": {},
   "source": [
    "### Remplacement des commentaires par 1 pour les anomalies"
   ]
  },
  {
   "cell_type": "code",
   "execution_count": 150,
   "metadata": {},
   "outputs": [],
   "source": [
    "#46 /71\n",
    "colonne_remplace= dhome.columns[46:70]\n",
    "\n",
    "for val in colonne_remplace:\n",
    "    dhome.loc[(dhome[val].isna())==False, val]=1\n",
    "    dhome.loc[dhome[val].isna()==True, val]=0\n",
    "    dhome[val] = dhome[val].astype('int64')"
   ]
  },
  {
   "cell_type": "code",
   "execution_count": 151,
   "metadata": {},
   "outputs": [],
   "source": [
    "log_headcount = pd.DataFrame(columns = [\"MyHR ID\", \"Site\", \"Anomalie type\", \"Count\", \"Home Country\", \"Date\"])\n",
    "\n",
    "for col in colonne_remplace:\n",
    "    prep = dhome.loc[dhome[col]==1].copy()\n",
    "    prep[\"Anomalie type\"] = col\n",
    "    prep[\"Count\"] = 1\n",
    "    prep = prep[[\"MyHR ID\", \"Site\", \"Anomalie type\", \"Count\", \"Home Country\", \"Report Date\"]]\n",
    "    prep.columns= [\"MyHR ID\",\"Site\", \"Anomalie type\", \"Count\",\"Home Country\", \"Date\"]\n",
    "    log_headcount = log_headcount.append(prep)\n",
    "    \n",
    "log_headcount = log_headcount[log_headcount[\"Anomalie type\"] != \"A supprimer\"].copy()"
   ]
  },
  {
   "cell_type": "markdown",
   "metadata": {},
   "source": [
    "## Export du résultat"
   ]
  },
  {
   "cell_type": "code",
   "execution_count": 152,
   "metadata": {},
   "outputs": [],
   "source": [
    "with pd.ExcelWriter(r'C:\\Users\\sgasmi\\Desktop\\Export Python\\Bridge_control.xlsx', date_format='dd/mm/yyyy') as writer:  \n",
    "    dhome.to_excel(writer, sheet_name='Conso', index=False)\n",
    "    to_add.to_excel(writer, sheet_name='Ajout', index=False)\n",
    "\n",
    "log_headcount.to_excel(r'C:\\Users\\sgasmi\\Desktop\\Export Python\\log_headcount.xlsx', index=False)"
   ]
  },
  {
   "cell_type": "code",
   "execution_count": 154,
   "metadata": {},
   "outputs": [],
   "source": [
    "today = dt.date.today()\n",
    "today = today.strftime('%d %m %Y')\n",
    "today = today.replace(\" \", \"\")\n",
    "\n",
    "resize_column([log_headcount],[\"Anomalies\"], r\"C:\\Users\\sgasmi\\Desktop\\Power BI applications\\Sources anomalies reporting\\Anomalie_Reporting\" + \"_\" + today +  \".xlsx\")"
   ]
  },
  {
   "cell_type": "code",
   "execution_count": null,
   "metadata": {},
   "outputs": [],
   "source": [
    "#Création d'une base de donnée in memory\n",
    "conn = sqlite3.connect(':memory:')\n",
    "# Ajout des Dataframe dans la base de données\n",
    "grade.to_sql('grade', conn, index=False)"
   ]
  }
 ],
 "metadata": {
  "kernelspec": {
   "display_name": "Python 3",
   "language": "python",
   "name": "python3"
  },
  "language_info": {
   "codemirror_mode": {
    "name": "ipython",
    "version": 3
   },
   "file_extension": ".py",
   "mimetype": "text/x-python",
   "name": "python",
   "nbconvert_exporter": "python",
   "pygments_lexer": "ipython3",
   "version": "3.8.3"
  }
 },
 "nbformat": 4,
 "nbformat_minor": 4
}
