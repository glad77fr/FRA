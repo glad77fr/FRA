{
 "cells": [
  {
   "cell_type": "code",
   "execution_count": 482,
   "metadata": {},
   "outputs": [],
   "source": [
    "import pandas as pd\n",
    "import os\n",
    "import datetime as dt\n",
    "import numpy as np\n",
    "from datetime import timedelta\n",
    "import sqlite3\n",
    "%run C:\\Users\\sgasmi\\Notebooks\\Column_autosize.ipynb"
   ]
  },
  {
   "cell_type": "markdown",
   "metadata": {},
   "source": [
    "## Fusion des fichiers"
   ]
  },
  {
   "cell_type": "code",
   "execution_count": 419,
   "metadata": {},
   "outputs": [],
   "source": [
    "folder= r\"C:\\Users\\sgasmi\\Desktop\\Extractions\\Datahome files\""
   ]
  },
  {
   "cell_type": "code",
   "execution_count": 420,
   "metadata": {},
   "outputs": [
    {
     "name": "stdout",
     "output_type": "stream",
     "text": [
      "DATA_HOME_28022021.xlsx\n",
      "DATA_HOME_30042021.xlsx\n",
      "DATA_HOME_31012021.xlsx\n",
      "DATA_HOME_31032021.xlsx\n"
     ]
    }
   ],
   "source": [
    "conso = pd.DataFrame()\n",
    "\n",
    "for root, dirs, files in os.walk(folder):\n",
    "    for filename in files:\n",
    "        location = folder + '/' + filename\n",
    "        if conso.empty :\n",
    "            conso = pd.read_excel(location)\n",
    "        else :\n",
    "            df = pd.read_excel(location)\n",
    "            conso = conso.append(df,ignore_index=True)\n",
    "        print(filename)"
   ]
  },
  {
   "cell_type": "markdown",
   "metadata": {},
   "source": [
    "## Préparation des données"
   ]
  },
  {
   "cell_type": "markdown",
   "metadata": {},
   "source": [
    "### Convertion des dates"
   ]
  },
  {
   "cell_type": "code",
   "execution_count": 421,
   "metadata": {},
   "outputs": [],
   "source": [
    "conso[\"Report Date\"] = pd.to_datetime(conso[\"Report Date\"],format='%d/%m/%Y')\n",
    "conso[\"Headcount\"] = 1"
   ]
  },
  {
   "cell_type": "code",
   "execution_count": 422,
   "metadata": {},
   "outputs": [],
   "source": [
    "conso[[\"Legal entity\", \"Site\"]] = conso[[\"Legal entity\", \"Site\"]].fillna(\"Vide\")"
   ]
  },
  {
   "cell_type": "markdown",
   "metadata": {},
   "source": [
    "## Création des dimensions"
   ]
  },
  {
   "cell_type": "markdown",
   "metadata": {},
   "source": [
    "### Dimension état civil"
   ]
  },
  {
   "cell_type": "code",
   "execution_count": 423,
   "metadata": {},
   "outputs": [],
   "source": [
    "dim_civil_prep = conso[[\"MyHR ID\", \"First name\", \"Last name\", \"Birth date\", \"Sex\"]].drop_duplicates().copy()"
   ]
  },
  {
   "cell_type": "code",
   "execution_count": 424,
   "metadata": {},
   "outputs": [],
   "source": [
    "dim_civil_prep = dim_civil_prep.reset_index(drop=True)\n",
    "fact_head_prep[\"merge\"] = 1"
   ]
  },
  {
   "cell_type": "code",
   "execution_count": 425,
   "metadata": {},
   "outputs": [
    {
     "name": "stdout",
     "output_type": "stream",
     "text": [
      "15640\n",
      "15665\n"
     ]
    }
   ],
   "source": [
    "print(len(conso[\"MyHR ID\"].unique()))\n",
    "print(len(dim_civil_prep))"
   ]
  },
  {
   "cell_type": "markdown",
   "metadata": {},
   "source": [
    "### Gestion des modifications de données"
   ]
  },
  {
   "cell_type": "raw",
   "metadata": {},
   "source": [
    "Des données d'état civil peuvent être modifiées après coup. Dans ce cas, nous gardons la dernière modification."
   ]
  },
  {
   "cell_type": "code",
   "execution_count": 426,
   "metadata": {},
   "outputs": [],
   "source": [
    "doublons_civil = dim_civil_prep.groupby([\"MyHR ID\"])[\"MyHR ID\"].count().to_frame(name = 'doublons').reset_index()"
   ]
  },
  {
   "cell_type": "code",
   "execution_count": 427,
   "metadata": {},
   "outputs": [],
   "source": [
    "doublons_mat = doublons_civil.loc[doublons_civil[\"doublons\"]>1, \"MyHR ID\"]"
   ]
  },
  {
   "cell_type": "code",
   "execution_count": 428,
   "metadata": {},
   "outputs": [],
   "source": [
    "doublons_civil = dim_civil_prep.loc[dim_civil_prep[\"MyHR ID\"].isin(doublons_mat)].sort_values([\"MyHR ID\"])"
   ]
  },
  {
   "cell_type": "code",
   "execution_count": 429,
   "metadata": {},
   "outputs": [],
   "source": [
    "civil_key = [\"MyHR ID\", \"First name\", \"Last name\", \"Birth date\", \"Sex\"]\n",
    "to_get = [\"MyHR ID\", \"First name\", \"Last name\", \"Birth date\", \"Sex\", \"Report Date\"]"
   ]
  },
  {
   "cell_type": "code",
   "execution_count": 430,
   "metadata": {},
   "outputs": [],
   "source": [
    "doublons_civil = doublons_civil.merge(conso[to_get], on=civil_key, how=\"left\")"
   ]
  },
  {
   "cell_type": "code",
   "execution_count": 431,
   "metadata": {},
   "outputs": [],
   "source": [
    "doublons_civil = doublons_civil.groupby([\"MyHR ID\"])[\"Report Date\"].max().reset_index()"
   ]
  },
  {
   "cell_type": "code",
   "execution_count": 432,
   "metadata": {},
   "outputs": [],
   "source": [
    "civil_to_add = doublons_civil.merge(conso[to_get], on=[\"MyHR ID\", \"Report Date\"], how=\"inner\")"
   ]
  },
  {
   "cell_type": "code",
   "execution_count": 433,
   "metadata": {},
   "outputs": [],
   "source": [
    "civil_to_add = civil_to_add.drop([\"Report Date\"], axis=1)"
   ]
  },
  {
   "cell_type": "code",
   "execution_count": 434,
   "metadata": {},
   "outputs": [],
   "source": [
    "dim_civil_prep = dim_civil_prep.loc[dim_civil_prep[\"MyHR ID\"].isin(doublons_mat)==False]"
   ]
  },
  {
   "cell_type": "code",
   "execution_count": 435,
   "metadata": {},
   "outputs": [],
   "source": [
    "dim_civil_prep = dim_civil_prep.append(civil_to_add)"
   ]
  },
  {
   "cell_type": "code",
   "execution_count": 436,
   "metadata": {},
   "outputs": [],
   "source": [
    "dim_civil_prep = dim_civil_prep.drop_duplicates()"
   ]
  },
  {
   "cell_type": "code",
   "execution_count": 437,
   "metadata": {},
   "outputs": [],
   "source": [
    "dim_civil_prep = dim_civil_prep.reset_index(drop=True)\n",
    "dim_civil_prep[\"key_civil\"] = dim_civil_prep.index"
   ]
  },
  {
   "cell_type": "code",
   "execution_count": 438,
   "metadata": {},
   "outputs": [],
   "source": [
    "dim_civil = dim_civil_prep.copy()"
   ]
  },
  {
   "cell_type": "code",
   "execution_count": 439,
   "metadata": {},
   "outputs": [],
   "source": [
    "dim_civil[\"Merge\"]=1"
   ]
  },
  {
   "cell_type": "markdown",
   "metadata": {},
   "source": [
    "### Dimension contrat"
   ]
  },
  {
   "cell_type": "code",
   "execution_count": 440,
   "metadata": {},
   "outputs": [],
   "source": [
    "contract_keys= [\"MyHR ID\", \"Contract Type\", \"Contract start date\", \"Contract end date\", \"Group Seniority\", \"Site\", \"Legal entity\"]\n",
    "to_keep = contract_keys.copy()\n",
    "to_keep.append(\"Report Date\")"
   ]
  },
  {
   "cell_type": "code",
   "execution_count": 441,
   "metadata": {},
   "outputs": [],
   "source": [
    "dim_contract_prep = conso[contract_keys].drop_duplicates().copy()"
   ]
  },
  {
   "cell_type": "code",
   "execution_count": 442,
   "metadata": {},
   "outputs": [],
   "source": [
    "dim_contract_prep = dim_contract_prep.merge(conso[to_keep], on=contract_keys, how=\"left\")"
   ]
  },
  {
   "cell_type": "code",
   "execution_count": 443,
   "metadata": {},
   "outputs": [
    {
     "data": {
      "text/plain": [
       "MyHR ID                        object\n",
       "Contract Type                  object\n",
       "Contract start date    datetime64[ns]\n",
       "Contract end date      datetime64[ns]\n",
       "Group Seniority        datetime64[ns]\n",
       "Site                           object\n",
       "Legal entity                   object\n",
       "Report Date            datetime64[ns]\n",
       "dtype: object"
      ]
     },
     "execution_count": 443,
     "metadata": {},
     "output_type": "execute_result"
    }
   ],
   "source": [
    "dim_contract_prep.dtypes"
   ]
  },
  {
   "cell_type": "code",
   "execution_count": 444,
   "metadata": {},
   "outputs": [],
   "source": [
    "end_date = pd.to_datetime(\"2050-01-01\", format=\"%Y/%m/%d\")\n",
    "dim_contract_prep.loc[dim_contract_prep[\"Contract end date\"].isna()==True, \"Contract end date\" ] = end_date"
   ]
  },
  {
   "cell_type": "code",
   "execution_count": 445,
   "metadata": {},
   "outputs": [],
   "source": [
    "dim_contract_prep = dim_contract_prep.groupby(contract_keys)[\"Report Date\"].min().reset_index()"
   ]
  },
  {
   "cell_type": "code",
   "execution_count": 446,
   "metadata": {},
   "outputs": [],
   "source": [
    "dbl = dim_contract_prep.groupby(\"MyHR ID\")[\"MyHR ID\"].count().to_frame(name = 'doublons').reset_index()"
   ]
  },
  {
   "cell_type": "code",
   "execution_count": 447,
   "metadata": {},
   "outputs": [],
   "source": [
    "dim_contract_prep = dim_contract_prep.sort_values([\"MyHR ID\", \"Report Date\"])"
   ]
  },
  {
   "cell_type": "code",
   "execution_count": 448,
   "metadata": {},
   "outputs": [
    {
     "data": {
      "text/html": [
       "<div>\n",
       "<style scoped>\n",
       "    .dataframe tbody tr th:only-of-type {\n",
       "        vertical-align: middle;\n",
       "    }\n",
       "\n",
       "    .dataframe tbody tr th {\n",
       "        vertical-align: top;\n",
       "    }\n",
       "\n",
       "    .dataframe thead th {\n",
       "        text-align: right;\n",
       "    }\n",
       "</style>\n",
       "<table border=\"1\" class=\"dataframe\">\n",
       "  <thead>\n",
       "    <tr style=\"text-align: right;\">\n",
       "      <th></th>\n",
       "      <th>MyHR ID</th>\n",
       "      <th>Contract Type</th>\n",
       "      <th>Contract start date</th>\n",
       "      <th>Contract end date</th>\n",
       "      <th>Group Seniority</th>\n",
       "      <th>Site</th>\n",
       "      <th>Legal entity</th>\n",
       "      <th>Report Date</th>\n",
       "    </tr>\n",
       "  </thead>\n",
       "  <tbody>\n",
       "    <tr>\n",
       "      <th>58</th>\n",
       "      <td>AAB086</td>\n",
       "      <td>FT3+</td>\n",
       "      <td>2018-03-19</td>\n",
       "      <td>2021-03-18</td>\n",
       "      <td>2018-03-19</td>\n",
       "      <td>CHN_BEIJING</td>\n",
       "      <td>FRA-BEIJ</td>\n",
       "      <td>2021-01-31</td>\n",
       "    </tr>\n",
       "    <tr>\n",
       "      <th>59</th>\n",
       "      <td>AAB086</td>\n",
       "      <td>FT3+</td>\n",
       "      <td>2021-03-19</td>\n",
       "      <td>2024-03-18</td>\n",
       "      <td>2018-03-19</td>\n",
       "      <td>CHN_BEIJING</td>\n",
       "      <td>FRA-BEIJ</td>\n",
       "      <td>2021-03-31</td>\n",
       "    </tr>\n",
       "  </tbody>\n",
       "</table>\n",
       "</div>"
      ],
      "text/plain": [
       "   MyHR ID Contract Type Contract start date Contract end date  \\\n",
       "58  AAB086          FT3+          2018-03-19        2021-03-18   \n",
       "59  AAB086          FT3+          2021-03-19        2024-03-18   \n",
       "\n",
       "   Group Seniority         Site Legal entity Report Date  \n",
       "58      2018-03-19  CHN_BEIJING     FRA-BEIJ  2021-01-31  \n",
       "59      2018-03-19  CHN_BEIJING     FRA-BEIJ  2021-03-31  "
      ]
     },
     "execution_count": 448,
     "metadata": {},
     "output_type": "execute_result"
    }
   ],
   "source": [
    "dim_contract_prep[dim_contract_prep[\"MyHR ID\"]==\"AAB086\"]"
   ]
  },
  {
   "cell_type": "code",
   "execution_count": 449,
   "metadata": {},
   "outputs": [],
   "source": [
    "dim_contract_prep[\"End date\"] = \"\"\n",
    "for i, val in enumerate(dim_contract_prep.iterrows()):\n",
    "    if i < len(dim_contract_prep)-1:\n",
    "        if dim_contract_prep.at[i, \"MyHR ID\"] == dim_contract_prep.at[i+1, \"MyHR ID\"]:\n",
    "            dim_contract_prep.at[i, \"End date\"] = dim_contract_prep.at[i+1, \"Report Date\"] - timedelta(days=1)\n",
    "        else:\n",
    "            dim_contract_prep.at[i, \"End date\"] = end_date\n",
    "    else :\n",
    "        dim_contract_prep.at[i, \"End date\"] = end_date"
   ]
  },
  {
   "cell_type": "code",
   "execution_count": 450,
   "metadata": {},
   "outputs": [],
   "source": [
    "dim_contract_prep[\"End date\"] = pd.to_datetime(dim_contract_prep[\"End date\"])"
   ]
  },
  {
   "cell_type": "code",
   "execution_count": 451,
   "metadata": {},
   "outputs": [],
   "source": [
    "dim_contract_prep = dim_contract_prep.reset_index(drop=True)\n",
    "dim_contract_prep[\"key_contract\"] = dim_contract_prep.index"
   ]
  },
  {
   "cell_type": "code",
   "execution_count": 452,
   "metadata": {},
   "outputs": [
    {
     "data": {
      "text/html": [
       "<div>\n",
       "<style scoped>\n",
       "    .dataframe tbody tr th:only-of-type {\n",
       "        vertical-align: middle;\n",
       "    }\n",
       "\n",
       "    .dataframe tbody tr th {\n",
       "        vertical-align: top;\n",
       "    }\n",
       "\n",
       "    .dataframe thead th {\n",
       "        text-align: right;\n",
       "    }\n",
       "</style>\n",
       "<table border=\"1\" class=\"dataframe\">\n",
       "  <thead>\n",
       "    <tr style=\"text-align: right;\">\n",
       "      <th></th>\n",
       "      <th>MyHR ID</th>\n",
       "      <th>Contract Type</th>\n",
       "      <th>Contract start date</th>\n",
       "      <th>Contract end date</th>\n",
       "      <th>Group Seniority</th>\n",
       "      <th>Site</th>\n",
       "      <th>Legal entity</th>\n",
       "      <th>Report Date</th>\n",
       "      <th>End date</th>\n",
       "      <th>key_contract</th>\n",
       "    </tr>\n",
       "  </thead>\n",
       "  <tbody>\n",
       "    <tr>\n",
       "      <th>58</th>\n",
       "      <td>AAB086</td>\n",
       "      <td>FT3+</td>\n",
       "      <td>2018-03-19</td>\n",
       "      <td>2021-03-18</td>\n",
       "      <td>2018-03-19</td>\n",
       "      <td>CHN_BEIJING</td>\n",
       "      <td>FRA-BEIJ</td>\n",
       "      <td>2021-01-31</td>\n",
       "      <td>2021-03-30</td>\n",
       "      <td>58</td>\n",
       "    </tr>\n",
       "    <tr>\n",
       "      <th>59</th>\n",
       "      <td>AAB086</td>\n",
       "      <td>FT3+</td>\n",
       "      <td>2021-03-19</td>\n",
       "      <td>2024-03-18</td>\n",
       "      <td>2018-03-19</td>\n",
       "      <td>CHN_BEIJING</td>\n",
       "      <td>FRA-BEIJ</td>\n",
       "      <td>2021-03-31</td>\n",
       "      <td>2050-01-01</td>\n",
       "      <td>59</td>\n",
       "    </tr>\n",
       "  </tbody>\n",
       "</table>\n",
       "</div>"
      ],
      "text/plain": [
       "   MyHR ID Contract Type Contract start date Contract end date  \\\n",
       "58  AAB086          FT3+          2018-03-19        2021-03-18   \n",
       "59  AAB086          FT3+          2021-03-19        2024-03-18   \n",
       "\n",
       "   Group Seniority         Site Legal entity Report Date   End date  \\\n",
       "58      2018-03-19  CHN_BEIJING     FRA-BEIJ  2021-01-31 2021-03-30   \n",
       "59      2018-03-19  CHN_BEIJING     FRA-BEIJ  2021-03-31 2050-01-01   \n",
       "\n",
       "    key_contract  \n",
       "58            58  \n",
       "59            59  "
      ]
     },
     "execution_count": 452,
     "metadata": {},
     "output_type": "execute_result"
    }
   ],
   "source": [
    "dim_contract_prep[dim_contract_prep[\"MyHR ID\"]==\"AAB086\"]"
   ]
  },
  {
   "cell_type": "code",
   "execution_count": 476,
   "metadata": {},
   "outputs": [],
   "source": [
    "dim_contract = dim_contract_prep.copy()"
   ]
  },
  {
   "cell_type": "code",
   "execution_count": 477,
   "metadata": {},
   "outputs": [],
   "source": [
    "dim_contract = dim_contract.rename({\"Report Date\":\"Beg_Date\",\"End date\": \"End_Date\", \"MyHR ID\" : \"MyHR_ID\"}, axis=1)"
   ]
  },
  {
   "cell_type": "markdown",
   "metadata": {},
   "source": [
    "## Création de la dimension statut"
   ]
  },
  {
   "cell_type": "code",
   "execution_count": 455,
   "metadata": {},
   "outputs": [],
   "source": [
    "statut_fields= [\"MyHR ID\", \"Status\", \"Category\"]\n",
    "to_keep = statut_fields.copy()\n",
    "to_keep.append(\"Report Date\")"
   ]
  },
  {
   "cell_type": "code",
   "execution_count": 456,
   "metadata": {},
   "outputs": [],
   "source": [
    "dim_statut_prep = conso[statut_fields].drop_duplicates().reset_index(drop=True).copy()"
   ]
  },
  {
   "cell_type": "code",
   "execution_count": 457,
   "metadata": {},
   "outputs": [],
   "source": [
    "dim_statut_prep = dim_statut_prep.merge(conso[to_keep], on = statut_fields, how=\"left\")"
   ]
  },
  {
   "cell_type": "code",
   "execution_count": 458,
   "metadata": {},
   "outputs": [],
   "source": [
    "dim_statut_prep = dim_statut_prep.reset_index(drop=True)"
   ]
  },
  {
   "cell_type": "code",
   "execution_count": 459,
   "metadata": {},
   "outputs": [],
   "source": [
    "dim_statut_prep = dim_statut_prep.groupby(statut_fields)[\"Report Date\"].min().reset_index()"
   ]
  },
  {
   "cell_type": "code",
   "execution_count": 460,
   "metadata": {},
   "outputs": [],
   "source": [
    "dim_statut_prep[\"End date\"] = \"\"\n",
    "for i, val in enumerate(dim_statut_prep.iterrows()):\n",
    "    if i < len(dim_statut_prep)-1:\n",
    "        if dim_statut_prep.at[i, \"MyHR ID\"] == dim_statut_prep.at[i+1, \"MyHR ID\"]:\n",
    "            dim_statut_prep.at[i, \"End date\"] = dim_statut_prep.at[i+1, \"Report Date\"] - timedelta(days=1)\n",
    "        else:\n",
    "            dim_statut_prep.at[i, \"End date\"] = end_date\n",
    "    else :\n",
    "        dim_statut_prep.at[i, \"End date\"] = end_date"
   ]
  },
  {
   "cell_type": "code",
   "execution_count": 461,
   "metadata": {},
   "outputs": [],
   "source": [
    "dim_statut_prep[\"End date\"] = pd.to_datetime(dim_statut_prep[\"End date\"])"
   ]
  },
  {
   "cell_type": "code",
   "execution_count": 462,
   "metadata": {},
   "outputs": [],
   "source": [
    "dim_statut_prep = dim_statut_prep.reset_index(drop=True)\n",
    "dim_statut_prep[\"Key_Statut\"] = dim_statut_prep.index"
   ]
  },
  {
   "cell_type": "code",
   "execution_count": 463,
   "metadata": {},
   "outputs": [],
   "source": [
    "dim_statut_prep = dim_statut_prep.rename({\"Report Date\":\"Beg_Date\",\"End date\": \"End_Date\", \"MyHR ID\" : \"MyHR_ID\"}, axis=1)"
   ]
  },
  {
   "cell_type": "markdown",
   "metadata": {},
   "source": [
    "## Création de la table temps"
   ]
  },
  {
   "cell_type": "code",
   "execution_count": 498,
   "metadata": {},
   "outputs": [],
   "source": [
    "dim_temps = pd.DataFrame(columns=[\"key_temps\", \"Report Date\"])\n",
    "dim_temps[\"Report Date\"] = conso[\"Report Date\"].drop_duplicates()\n",
    "dim_temps= dim_temps.sort_values(\"Report Date\")\n",
    "dim_temps = dim_temps.reset_index(drop=True)\n",
    "dim_temps[\"key_temps\"] = dim_temps.index\n",
    "dim_temps[\"Report Date\"] = pd.to_datetime(dim_temps[\"Report Date\"])\n",
    "dim_temps[\"Merge\"]=1"
   ]
  },
  {
   "cell_type": "markdown",
   "metadata": {},
   "source": [
    "## Création de la table de fait headcount"
   ]
  },
  {
   "cell_type": "code",
   "execution_count": 465,
   "metadata": {},
   "outputs": [],
   "source": [
    "fact_head_prep = dim_civil[[\"MyHR ID\", \"key_civil\", \"Merge\"]].copy()"
   ]
  },
  {
   "cell_type": "code",
   "execution_count": 466,
   "metadata": {},
   "outputs": [],
   "source": [
    "fact_head_prep = fact_head_prep.merge(dim_temps, on=\"Merge\", how=\"outer\")"
   ]
  },
  {
   "cell_type": "code",
   "execution_count": 467,
   "metadata": {},
   "outputs": [],
   "source": [
    "fact_head_prep = fact_head_prep.drop(columns=\"Merge\")"
   ]
  },
  {
   "cell_type": "code",
   "execution_count": 468,
   "metadata": {},
   "outputs": [],
   "source": [
    "fact_head_prep = fact_head_prep.merge(conso[[\"MyHR ID\", \"Report Date\", \"Headcount\"]], on= [\"MyHR ID\", \"Report Date\"], how=\"left\")"
   ]
  },
  {
   "cell_type": "code",
   "execution_count": 469,
   "metadata": {},
   "outputs": [],
   "source": [
    "fact_head_prep = fact_head_prep.reset_index(drop=True)"
   ]
  },
  {
   "cell_type": "code",
   "execution_count": 470,
   "metadata": {},
   "outputs": [
    {
     "data": {
      "text/plain": [
       "MyHR ID                object\n",
       "key_civil               int64\n",
       "key_temps               int64\n",
       "Report Date    datetime64[ns]\n",
       "Headcount             float64\n",
       "dtype: object"
      ]
     },
     "execution_count": 470,
     "metadata": {},
     "output_type": "execute_result"
    }
   ],
   "source": [
    "fact_head_prep.dtypes"
   ]
  },
  {
   "cell_type": "code",
   "execution_count": 471,
   "metadata": {},
   "outputs": [],
   "source": [
    "fact_head_prep[\"Headcount\"]= fact_head_prep[\"Headcount\"].fillna(0)"
   ]
  },
  {
   "cell_type": "code",
   "execution_count": 472,
   "metadata": {},
   "outputs": [],
   "source": [
    "fact_head_prep = fact_head_prep.rename({\"Report Date\" :\"Report_Date\",\"MyHR ID\" : \"MyHR_ID\"}, axis=1)"
   ]
  },
  {
   "cell_type": "code",
   "execution_count": 473,
   "metadata": {},
   "outputs": [],
   "source": [
    "def date_merge(source_table, target_table, source_functional_key, target_functional_key, source_date_key,  target_column_to_get, target_date_columns_name=[]):\n",
    "    # Fonction servant à récupérer une colonne à l'aide d'une clé fonctionnelle et d'un date between. Cette fonction complète une lacune de la bibliothèque Pandas\n",
    "    # Il est nécessaire d'importer la bibliothèque sqlite3\n",
    "    \n",
    "    # source table => Dataframe source qui va être alimenté\n",
    "    # target_table => Dataframe servant à alimenter le dataframe source\n",
    "    # source_functional_key => la clé fonctionnelle servant à créer la jointure\n",
    "    # target_functionnal_key=> la clé fonctionnelle cible servant à créer la jointure en dehors des dates\n",
    "    # source_date_key => la date provenant du DataFrame source servant à la condition in beetween\n",
    "    # target_column_to_get => la colonne à récupérer\n",
    "    # target_date_columns_name => le nom des colonnes à récupérer sans espace, remplacer les espace par \"_\", ex: toto titi, toto_titi / Ces colonnes doivent être des pandas datetimes\n",
    "    \n",
    "    conn = sqlite3.connect(':memory:')\n",
    "    source_table.to_sql('source', conn, index=False)\n",
    "    target_table.to_sql('target', conn, index=False)\n",
    "    \n",
    "    #Création de la requète\n",
    "    req = \"PRAGMA table_info(source);\"\n",
    "    col_source_prep = pd.read_sql_query(req, conn)\n",
    "    col_source_prep = list(col_source_prep[\"name\"])\n",
    "    col_source = []\n",
    "    \n",
    "    for val in col_source_prep :\n",
    "        col_source.append('source.' + str(val)) \n",
    "        \n",
    "    col_source = str(col_source)\n",
    "    col_source = col_source.replace(\"[\", \"\")\n",
    "    col_source = col_source.replace(\"]\", \"\")\n",
    "    col_source = col_source.replace(\"'\",\"\")\n",
    "\n",
    "    req = f'Select {col_source}, {target_column_to_get} from source left join target on source.{source_functional_key}=target.{target_functional_key} and source.{source_date_key} between {target_date_columns_name[0]} and {target_date_columns_name[1]}'\n",
    "    \n",
    "    df = pd.read_sql_query(req, conn)\n",
    "    \n",
    "    return df"
   ]
  },
  {
   "cell_type": "code",
   "execution_count": 478,
   "metadata": {},
   "outputs": [
    {
     "data": {
      "text/plain": [
       "Index(['MyHR_ID', 'Contract Type', 'Contract start date', 'Contract end date',\n",
       "       'Group Seniority', 'Site', 'Legal entity', 'Beg_Date', 'End_Date',\n",
       "       'key_contract'],\n",
       "      dtype='object')"
      ]
     },
     "execution_count": 478,
     "metadata": {},
     "output_type": "execute_result"
    }
   ],
   "source": [
    "dim_contract.columns"
   ]
  },
  {
   "cell_type": "code",
   "execution_count": 483,
   "metadata": {},
   "outputs": [],
   "source": [
    "fact_head_prep = date_merge(source_table=fact_head_prep, target_table=dim_contract[[\"MyHR_ID\", \"key_contract\", \"Beg_Date\", \"End_Date\"]], source_functional_key=\"MyHR_ID\", target_functional_key= \"MyHR_ID\", source_date_key=\"Report_Date\", target_date_columns_name=[\"Beg_Date\",\"End_Date\"], target_column_to_get=\"key_contract\")"
   ]
  },
  {
   "cell_type": "code",
   "execution_count": 492,
   "metadata": {},
   "outputs": [],
   "source": [
    "resize_column([fact_head_prep], \"Table de fait\", r\"C:\\Users\\sgasmi\\Desktop\\Export Python\\Table de faits.xlsx\")\n",
    "resize_column([dim_contract], \"Dim contract\", r'C:\\Users\\sgasmi\\Desktop\\Export Python\\dim_contract.xlsx' )"
   ]
  },
  {
   "cell_type": "code",
   "execution_count": 491,
   "metadata": {},
   "outputs": [
    {
     "data": {
      "text/plain": [
       "Index(['MyHR_ID', 'key_civil', 'key_temps', 'Report_Date', 'Headcount',\n",
       "       'key_contract'],\n",
       "      dtype='object')"
      ]
     },
     "execution_count": 491,
     "metadata": {},
     "output_type": "execute_result"
    }
   ],
   "source": [
    "fact_head_prep.columns"
   ]
  },
  {
   "cell_type": "code",
   "execution_count": null,
   "metadata": {},
   "outputs": [],
   "source": []
  }
 ],
 "metadata": {
  "kernelspec": {
   "display_name": "Python 3",
   "language": "python",
   "name": "python3"
  },
  "language_info": {
   "codemirror_mode": {
    "name": "ipython",
    "version": 3
   },
   "file_extension": ".py",
   "mimetype": "text/x-python",
   "name": "python",
   "nbconvert_exporter": "python",
   "pygments_lexer": "ipython3",
   "version": "3.8.3"
  }
 },
 "nbformat": 4,
 "nbformat_minor": 4
}
