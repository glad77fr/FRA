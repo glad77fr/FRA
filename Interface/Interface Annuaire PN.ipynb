{
 "cells": [
  {
   "cell_type": "code",
   "execution_count": 1,
   "metadata": {},
   "outputs": [],
   "source": [
    "import pandas as pd"
   ]
  },
  {
   "cell_type": "code",
   "execution_count": 2,
   "metadata": {},
   "outputs": [],
   "source": [
    "annuaire = pd.read_csv(r\"C:\\Users\\sgasmi\\Desktop\\Extractions\\Export_Annuaire.csv\", sep=\";\",  encoding='latin-1', low_memory=False)"
   ]
  },
  {
   "cell_type": "code",
   "execution_count": 3,
   "metadata": {},
   "outputs": [],
   "source": [
    "colonnes = [\"uid\",\"arevaCompany\", \"internationalGivenName\", \"internationalSN\",\"saplogon\",\"mail\", \"telephoneNumber\", \"facsimileTelephoneNumber\", \"mobile\", \"postOfficeBox\", \"employeeNumber\", \"arevaSite\", \"\"]"
   ]
  },
  {
   "cell_type": "code",
   "execution_count": 4,
   "metadata": {},
   "outputs": [],
   "source": [
    "result =pd.DataFrame(columns=colonnes)"
   ]
  },
  {
   "cell_type": "code",
   "execution_count": 5,
   "metadata": {},
   "outputs": [],
   "source": [
    "result[[\"uid\", \"arevaCompany\", \"internationalGivenName\",\"internationalSN\", \"saplogon\", \"mail\", \"postOfficeBox\", \"employeeNumber\", \"arevaSite\"]] = annuaire[[\"uid\", \"arevaCompany\", \"internationalGivenName\", \"internationalSN\",\"saplogon\", \"mail\", \"postOfficeBox\", \"employeeNumber\", \"arevaSite\"]]"
   ]
  },
  {
   "cell_type": "code",
   "execution_count": 6,
   "metadata": {},
   "outputs": [],
   "source": [
    "result = result[[\"uid\",\"arevaCompany\", \"internationalGivenName\", \"internationalSN\",\"saplogon\",\"mail\", \"telephoneNumber\", \"facsimileTelephoneNumber\", \"mobile\", \"postOfficeBox\", \"employeeNumber\", \"arevaSite\", \"\"]]"
   ]
  },
  {
   "cell_type": "code",
   "execution_count": 7,
   "metadata": {},
   "outputs": [],
   "source": [
    "result.to_csv(r\"C:\\Users\\sgasmi\\Desktop\\Export Python\\M4_FRAMATOME_ANNUAIRE_CONNEXION.CSV\", sep=\"|\",index=False)  # Envoyer avec CSV"
   ]
  }
 ],
 "metadata": {
  "kernelspec": {
   "display_name": "Python 3",
   "language": "python",
   "name": "python3"
  },
  "language_info": {
   "codemirror_mode": {
    "name": "ipython",
    "version": 3
   },
   "file_extension": ".py",
   "mimetype": "text/x-python",
   "name": "python",
   "nbconvert_exporter": "python",
   "pygments_lexer": "ipython3",
   "version": "3.8.3"
  }
 },
 "nbformat": 4,
 "nbformat_minor": 4
}
