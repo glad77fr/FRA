{
 "cells": [
  {
   "cell_type": "code",
   "execution_count": 22,
   "metadata": {},
   "outputs": [],
   "source": [
    "import pandas as pd\n",
    "import datetime as dt\n",
    "import sqlite3\n",
    "import datetime as dt\n",
    "%run C:\\Users\\sgasmi\\Notebooks\\Column_autosize.ipynb"
   ]
  },
  {
   "cell_type": "code",
   "execution_count": 23,
   "metadata": {},
   "outputs": [],
   "source": [
    "kpp = pd.read_csv(r'C:\\Users\\sgasmi\\Desktop\\Extractions\\KPP.csv', sep=\"|\")\n",
    "fafr = pd.read_excel(r\"C:\\Users\\sgasmi\\Desktop\\Extractions\\Effectif_Data_Quality.xlsx\", converters={'Matricule':str})\n",
    "mapping_id = pd.read_excel(r\"C:\\Users\\sgasmi\\Desktop\\Extractions\\Mapping+des+ID+.xlsx\", skiprows=4)"
   ]
  },
  {
   "cell_type": "code",
   "execution_count": 24,
   "metadata": {},
   "outputs": [],
   "source": [
    "fafr = fafr[fafr[\"Code Contrat\"].isin([\"STA2\", \"STA1\"])==False].reset_index(drop=True)  # Exclusion des stagiaires"
   ]
  },
  {
   "cell_type": "markdown",
   "metadata": {},
   "source": [
    "## Préparation de la base effectif"
   ]
  },
  {
   "cell_type": "code",
   "execution_count": 25,
   "metadata": {},
   "outputs": [],
   "source": [
    "res = fafr[[\"Matricule\", \"Nom\", \"Prénom\", \"Etablissement\"]]"
   ]
  },
  {
   "cell_type": "code",
   "execution_count": 26,
   "metadata": {},
   "outputs": [],
   "source": [
    "res = res.drop_duplicates()"
   ]
  },
  {
   "cell_type": "markdown",
   "metadata": {},
   "source": [
    "## Préparation du fichier KPP"
   ]
  },
  {
   "cell_type": "code",
   "execution_count": 27,
   "metadata": {},
   "outputs": [],
   "source": [
    "kpp.loc[kpp[\"enddate\"].isna()==True, \"enddate\"] = dt.datetime(2050, 1, 1) # On remplace les dates de fin des lignes actives"
   ]
  },
  {
   "cell_type": "code",
   "execution_count": 28,
   "metadata": {},
   "outputs": [],
   "source": [
    "kpp = kpp.merge(mapping_id[[\"Username\", \"Payroll ID\"]], left_on=\"username\", right_on=\"Username\", how=\"left\")"
   ]
  },
  {
   "cell_type": "code",
   "execution_count": 29,
   "metadata": {},
   "outputs": [],
   "source": [
    "kpp[\"Today\"] = dt.date.today()"
   ]
  },
  {
   "cell_type": "code",
   "execution_count": 30,
   "metadata": {},
   "outputs": [],
   "source": [
    "kpp = kpp.drop(\"Username\", axis=1)"
   ]
  },
  {
   "cell_type": "code",
   "execution_count": 31,
   "metadata": {},
   "outputs": [
    {
     "name": "stderr",
     "output_type": "stream",
     "text": [
      "<ipython-input-31-59a1a84ff462>:2: UserWarning: Pandas doesn't allow columns to be created via a new attribute name - see https://pandas.pydata.org/pandas-docs/stable/indexing.html#attribute-access\n",
      "  kpp.colums = col\n"
     ]
    }
   ],
   "source": [
    "col = [x.replace(\" \", \"_\") for x in kpp.columns]\n",
    "kpp.colums = col"
   ]
  },
  {
   "cell_type": "code",
   "execution_count": 32,
   "metadata": {},
   "outputs": [
    {
     "name": "stderr",
     "output_type": "stream",
     "text": [
      "C:\\Users\\sgasmi\\Miniconda3\\lib\\site-packages\\pandas\\core\\generic.py:2605: UserWarning: The spaces in these column names will not be changed. In pandas versions < 0.14, spaces were converted to underscores.\n",
      "  sql.to_sql(\n"
     ]
    }
   ],
   "source": [
    "#Création d'une base de donnée in memory\n",
    "conn = sqlite3.connect(':memory:')\n",
    "# Ajout des Dataframe dans la base de données\n",
    "kpp.to_sql('kpp', conn, index=False)\n",
    "# Création d'une requête sql\n",
    "req = \"select * from kpp where Today between startdate and enddate\""
   ]
  },
  {
   "cell_type": "code",
   "execution_count": 33,
   "metadata": {},
   "outputs": [],
   "source": [
    "# Exécution de la requête et stokage du résultat dans un DataFrame\n",
    "kpp = pd.read_sql_query(req, conn)\n",
    "kpp = kpp.drop(\"Today\", axis=1)"
   ]
  },
  {
   "cell_type": "code",
   "execution_count": 34,
   "metadata": {},
   "outputs": [],
   "source": [
    "kpp= kpp.loc[kpp[\"Payroll ID\"].isna()==False].copy()"
   ]
  },
  {
   "cell_type": "code",
   "execution_count": 35,
   "metadata": {},
   "outputs": [],
   "source": [
    "kpp= kpp.reset_index(drop=True)"
   ]
  },
  {
   "cell_type": "code",
   "execution_count": 36,
   "metadata": {},
   "outputs": [],
   "source": [
    "ref_code = kpp[\"referential\"].unique()"
   ]
  },
  {
   "cell_type": "code",
   "execution_count": 37,
   "metadata": {},
   "outputs": [],
   "source": [
    "kpp[\"Payroll ID\"] = kpp[\"Payroll ID\"].apply(lambda x: x[4:])\n",
    "fafr[\"Matricule\"] = fafr[\"Matricule\"].astype(\"str\")"
   ]
  },
  {
   "cell_type": "code",
   "execution_count": null,
   "metadata": {},
   "outputs": [],
   "source": []
  },
  {
   "cell_type": "code",
   "execution_count": 38,
   "metadata": {},
   "outputs": [],
   "source": [
    "#kpp.to_excel(r\"C:\\Users\\sgasmi\\Desktop\\Export Python\\KPP.xlsx\")\n",
    "#fafr.to_excel(r\"C:\\Users\\sgasmi\\Desktop\\Export Python\\fafr.xlsx\")"
   ]
  },
  {
   "cell_type": "code",
   "execution_count": 39,
   "metadata": {},
   "outputs": [],
   "source": [
    "kpp2 = kpp.loc[kpp[\"referential\"]==\"Grade\"]\n",
    "res = fafr.merge(kpp2[[\"Payroll ID\", \"username\",\"referential\"]], left_on=[\"Matricule\"], right_on=[\"Payroll ID\"], how=\"left\")"
   ]
  },
  {
   "cell_type": "code",
   "execution_count": 40,
   "metadata": {},
   "outputs": [],
   "source": [
    "result = pd.DataFrame()\n",
    "fafr[\"Matricule\"] = fafr[\"Matricule\"].astype(\"str\")\n",
    "for i, code in enumerate(ref_code):\n",
    "    kpp2 = kpp.loc[kpp[\"referential\"]==code]\n",
    "    res = fafr.merge(kpp2[[\"Payroll ID\", \"username\",\"referential\"]], left_on=[\"Matricule\"], right_on=[\"Payroll ID\"], how=\"left\")\n",
    "    res = res.reset_index(drop=True)\n",
    "    res = res.loc[res[\"referential\"].isna()==True]\n",
    "    res[\"Anomalie\"] = str(code) + \" vide\"\n",
    "    res = res[[\"Matricule\", \"Nom\", \"Prénom\", \"BU\", \"Etablissement\", \"Nom de l'ent. juridique\", \"Anomalie\"]]\n",
    "    if i==0:\n",
    "        result = res\n",
    "    else :\n",
    "        result = result.append(res)\n",
    "    "
   ]
  },
  {
   "cell_type": "code",
   "execution_count": 48,
   "metadata": {},
   "outputs": [],
   "source": [
    "today = dt.date.today()\n",
    "today = today.strftime('%d %m %Y')\n",
    "today = today.replace(\" \", \"\")"
   ]
  },
  {
   "cell_type": "code",
   "execution_count": 49,
   "metadata": {},
   "outputs": [],
   "source": [
    "resize_column([result], \"Anomalies MyHR\", r\"C:\\Users\\sgasmi\\Desktop\\Power BI applications\\Sources MyHR\\Anomalie_MyHR_\" + str(today) + \".xlsx\")"
   ]
  },
  {
   "cell_type": "markdown",
   "metadata": {},
   "source": [
    "kpp"
   ]
  }
 ],
 "metadata": {
  "kernelspec": {
   "display_name": "Python 3",
   "language": "python",
   "name": "python3"
  },
  "language_info": {
   "codemirror_mode": {
    "name": "ipython",
    "version": 3
   },
   "file_extension": ".py",
   "mimetype": "text/x-python",
   "name": "python",
   "nbconvert_exporter": "python",
   "pygments_lexer": "ipython3",
   "version": "3.8.3"
  }
 },
 "nbformat": 4,
 "nbformat_minor": 4
}
