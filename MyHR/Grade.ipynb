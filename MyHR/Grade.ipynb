{
 "cells": [
  {
   "cell_type": "code",
   "execution_count": 640,
   "metadata": {},
   "outputs": [],
   "source": [
    "import pandas as pd\n",
    "import datetime as dt\n",
    "import sqlite3\n",
    "import numpy as np\n",
    "%run C:\\Users\\sgasmi\\Notebooks\\Column_autosize.ipynb"
   ]
  },
  {
   "cell_type": "code",
   "execution_count": 641,
   "metadata": {},
   "outputs": [],
   "source": [
    "kpp = pd.read_csv(r'C:\\Users\\sgasmi\\Desktop\\Extractions\\KPP.csv', sep=\"|\")\n",
    "fafr = pd.read_excel(r\"C:\\Users\\sgasmi\\Desktop\\Extractions\\Effectif_Data_Quality.xlsx\", converters={'Matricule':str})\n",
    "eff_app = pd.read_excel(r\"C:\\Users\\sgasmi\\Desktop\\Extractions\\Employee.xlsx\")\n",
    "grad_ref = pd.read_excel(r\"C:\\Users\\sgasmi\\Desktop\\Extractions\\Grading_03052021.xlsx\", converters={'Grade':str}) # Fichier Thi Hien"
   ]
  },
  {
   "cell_type": "markdown",
   "metadata": {},
   "source": [
    "## Préparation de la base effectif"
   ]
  },
  {
   "cell_type": "code",
   "execution_count": 642,
   "metadata": {},
   "outputs": [],
   "source": [
    "res = fafr[[\"Matricule\", \"Nom\", \"Prénom\", \"Etablissement\"]]\n",
    "res = res.drop_duplicates()"
   ]
  },
  {
   "cell_type": "markdown",
   "metadata": {},
   "source": [
    "## Préparation du fichier KPP"
   ]
  },
  {
   "cell_type": "code",
   "execution_count": 643,
   "metadata": {},
   "outputs": [
    {
     "name": "stderr",
     "output_type": "stream",
     "text": [
      "<ipython-input-643-207c40eb8c06>:6: UserWarning: Pandas doesn't allow columns to be created via a new attribute name - see https://pandas.pydata.org/pandas-docs/stable/indexing.html#attribute-access\n",
      "  kpp.colums = col\n"
     ]
    }
   ],
   "source": [
    "kpp.loc[kpp[\"enddate\"].isna()==True, \"enddate\"] = pd.to_datetime(\"01/01/2050 00:00:00\", format=\"%d/%m/%Y %H:%M:%S\").strftime(\"%d/%m/%Y %H:%M:%S\") # On remplace les dates de fin des lignes actives\n",
    "kpp = kpp.merge(eff_app[[\"username\", \"extra_local_id_payroll_fra\",\"extra_home_contract_id\"]], on=\"username\", how=\"left\")\n",
    "kpp[\"extra_local_id_payroll_fra\"] = kpp.apply(lambda x: x[\"extra_local_id_payroll_fra\"] if pd.isna(x[\"extra_local_id_payroll_fra\"]) == False else x[\"extra_home_contract_id\"], axis=1)\n",
    "kpp[\"Today\"] = dt.date.today()\n",
    "col = [x.replace(\" \", \"_\") for x in kpp.columns]\n",
    "kpp.colums = col"
   ]
  },
  {
   "cell_type": "code",
   "execution_count": 644,
   "metadata": {},
   "outputs": [],
   "source": [
    "kpp[\"enddate\"] = kpp[\"enddate\"].apply(lambda x :str(x).replace(\"9999\", \"2050\"))"
   ]
  },
  {
   "cell_type": "code",
   "execution_count": 645,
   "metadata": {},
   "outputs": [
    {
     "name": "stdout",
     "output_type": "stream",
     "text": [
      "ok\n"
     ]
    }
   ],
   "source": [
    "kpp[\"startdate\"] = pd.to_datetime(kpp[\"startdate\"],format='%d/%m/%Y %H:%M:%S').dt.date\n",
    "print(\"ok\")\n",
    "kpp[\"enddate\"] = pd.to_datetime(kpp[\"enddate\"],format='%d/%m/%Y %H:%M:%S').dt.date"
   ]
  },
  {
   "cell_type": "code",
   "execution_count": 646,
   "metadata": {},
   "outputs": [
    {
     "data": {
      "text/plain": [
       "Index(['username', 'referential', 'level1', 'level2', 'level3', 'startdate',\n",
       "       'enddate', 'comment', 'Payroll ID', 'extra_home_contract_id', 'Today'],\n",
       "      dtype='object')"
      ]
     },
     "execution_count": 646,
     "metadata": {},
     "output_type": "execute_result"
    }
   ],
   "source": [
    "kpp = kpp.rename({\"extra_local_id_payroll_fra\":\"Payroll ID\"}, axis=1)\n",
    "kpp.columns"
   ]
  },
  {
   "cell_type": "code",
   "execution_count": 647,
   "metadata": {},
   "outputs": [
    {
     "name": "stderr",
     "output_type": "stream",
     "text": [
      "C:\\Users\\sgasmi\\Miniconda3\\lib\\site-packages\\pandas\\core\\generic.py:2605: UserWarning: The spaces in these column names will not be changed. In pandas versions < 0.14, spaces were converted to underscores.\n",
      "  sql.to_sql(\n"
     ]
    }
   ],
   "source": [
    "#Création d'une base de donnée in memory\n",
    "conn = sqlite3.connect(':memory:')\n",
    "# Ajout des Dataframe dans la base de données\n",
    "kpp.to_sql('kpp', conn, index=False)\n",
    "# Création d'une requête sql\n",
    "req = \"select * from kpp where Today between startdate and enddate\"\n",
    "# Exécution de la requête et stokage du résultat dans un DataFrame\n",
    "kpp = pd.read_sql_query(req, conn)\n",
    "#kpp = kpp.drop(\"Today\", axis=1)\n",
    "kpp= kpp.loc[kpp[\"Payroll ID\"].isna()==False].copy()\n",
    "kpp= kpp.reset_index(drop=True)\n",
    "kpp[\"Payroll ID\"] = kpp[\"Payroll ID\"].apply(lambda x: x[4:])\n",
    "fafr[\"Matricule\"] = fafr[\"Matricule\"].astype(\"str\")"
   ]
  },
  {
   "cell_type": "code",
   "execution_count": 648,
   "metadata": {},
   "outputs": [],
   "source": [
    "#resize_column([kpp], \"Ecart sal\", r\"C:\\Users\\sgasmi\\Desktop\\Export Python\\kpp_test.xlsx\")"
   ]
  },
  {
   "cell_type": "code",
   "execution_count": 649,
   "metadata": {},
   "outputs": [],
   "source": [
    "kpp_grade = kpp.loc[kpp[\"referential\"]==\"Grade\"].reset_index(drop=True)"
   ]
  },
  {
   "cell_type": "code",
   "execution_count": 650,
   "metadata": {},
   "outputs": [],
   "source": [
    "fafr = fafr.merge(kpp_grade, right_on=\"Payroll ID\", left_on=\"Matricule\", how=\"left\")"
   ]
  },
  {
   "cell_type": "markdown",
   "metadata": {},
   "source": [
    "#Filtre sur les cadres"
   ]
  },
  {
   "cell_type": "code",
   "execution_count": 651,
   "metadata": {},
   "outputs": [],
   "source": [
    "fafr = fafr.loc[fafr[\"Catég conv\"].isin([\"C\", \"CS\", \"D\"])].reset_index(drop=True)"
   ]
  },
  {
   "cell_type": "code",
   "execution_count": 652,
   "metadata": {},
   "outputs": [],
   "source": [
    "grade_compl = len(set(fafr.loc[fafr[\"referential\"]==\"Grade\", \"Matricule\"]))"
   ]
  },
  {
   "cell_type": "code",
   "execution_count": 653,
   "metadata": {},
   "outputs": [],
   "source": [
    "total = len(fafr[\"Matricule\"].unique())"
   ]
  },
  {
   "cell_type": "code",
   "execution_count": 654,
   "metadata": {},
   "outputs": [],
   "source": [
    "doublon = fafr.groupby([\"Matricule\"])[\"Matricule\"].count().to_frame(name = 'Nb salarié(s)').reset_index()"
   ]
  },
  {
   "cell_type": "code",
   "execution_count": 655,
   "metadata": {},
   "outputs": [],
   "source": [
    "nb_doublon = len(set(doublon.loc[doublon[\"Nb salarié(s)\"]>1, \"Matricule\"]))\n",
    "ratio_comp = round((grade_compl/total)*100,2)\n",
    "nb_vide = len(set(fafr.loc[fafr[\"referential\"].isna()==True, \"Matricule\"]))"
   ]
  },
  {
   "cell_type": "code",
   "execution_count": 656,
   "metadata": {},
   "outputs": [
    {
     "name": "stdout",
     "output_type": "stream",
     "text": [
      "Le taux complétude des données de grading dans MyHR est 92.01 %. \n",
      "En effet, le nombre de salariés ayant un grading complété est de 4309 pour 4683 salariés au total (population cadre)\n",
      "269 salariés ont plusieurs occurences actives de grading (anomalies?)\n"
     ]
    }
   ],
   "source": [
    "print(\"Le taux complétude des données de grading dans MyHR est {0} %. \".format(ratio_comp,total))\n",
    "print(\"En effet, le nombre de salariés ayant un grading complété est de {0} pour {1} salariés au total (population cadre)\".format(grade_compl, total ))\n",
    "print(\"{0} salariés ont plusieurs occurences actives de grading (anomalies?)\".format(nb_doublon))"
   ]
  },
  {
   "cell_type": "code",
   "execution_count": 657,
   "metadata": {},
   "outputs": [],
   "source": [
    "Grading_vide= fafr.loc[fafr[\"referential\"].isna()==True].copy()"
   ]
  },
  {
   "cell_type": "code",
   "execution_count": 658,
   "metadata": {},
   "outputs": [],
   "source": [
    "today = dt.date.today()\n",
    "Grading_vide[\"Date\"] = today\n",
    "today = today.strftime('%d %m %Y')\n",
    "today = today.replace(\" \", \"\")"
   ]
  },
  {
   "cell_type": "code",
   "execution_count": 659,
   "metadata": {},
   "outputs": [],
   "source": [
    "Grading_vide[\"Anomalie\"] = \"Code Grading manquant\"\n",
    "\n",
    "Grading_vide= Grading_vide[[\"Matricule\", \"Nom\", \"Prénom\", \"BU\", \"Etablissement\", \"Niveau\", \"Anomalie\",\"level2\", \"Ancienneté groupe\",\"Date\"]]"
   ]
  },
  {
   "cell_type": "markdown",
   "metadata": {},
   "source": [
    "## Comparaison des grading existants dans MyHR avec ceux présents dans le fichier grading référentiel"
   ]
  },
  {
   "cell_type": "markdown",
   "metadata": {},
   "source": [
    "### Préparation du fichier grading référentiel"
   ]
  },
  {
   "cell_type": "code",
   "execution_count": 660,
   "metadata": {},
   "outputs": [],
   "source": [
    "grad_ref = grad_ref.merge(eff_app[[\"employeenumber\",\"extra_local_id_payroll_fra\"]], left_on=\"MyHR ID\", right_on=\"employeenumber\", how=\"left\")\n",
    "grad_ref = grad_ref.merge(eff_app[[\"employeenumber\",\"extra_home_contract_id\"]], left_on=\"MyHR ID\", right_on=\"employeenumber\", how=\"left\")\n",
    "grad_ref[\"extra_local_id_payroll_fra\"] = grad_ref.apply(lambda x: x[\"extra_local_id_payroll_fra\"] if pd.isna(x[\"extra_local_id_payroll_fra\"]) == False else x[\"extra_home_contract_id\"], axis=1)"
   ]
  },
  {
   "cell_type": "code",
   "execution_count": 661,
   "metadata": {},
   "outputs": [],
   "source": [
    "grad_ref= grad_ref.rename({\"extra_local_id_payroll_fra\":\"Payroll ID\"}, axis=1)"
   ]
  },
  {
   "cell_type": "code",
   "execution_count": 662,
   "metadata": {},
   "outputs": [],
   "source": [
    "grad_ref[\"Payroll ID\"] = grad_ref[\"Payroll ID\"].apply(lambda x: str(x)[4:])"
   ]
  },
  {
   "cell_type": "code",
   "execution_count": 663,
   "metadata": {},
   "outputs": [],
   "source": [
    "fafr = fafr.merge(grad_ref[[\"Payroll ID\", \"Grade\"]], left_on=\"Matricule\", right_on=\"Payroll ID\", how=\"left\")"
   ]
  },
  {
   "cell_type": "code",
   "execution_count": 664,
   "metadata": {},
   "outputs": [
    {
     "data": {
      "text/plain": [
       "756    NaN\n",
       "Name: level2, dtype: object"
      ]
     },
     "execution_count": 664,
     "metadata": {},
     "output_type": "execute_result"
    }
   ],
   "source": [
    "fafr.loc[fafr[\"Matricule\"]==\"35965\",\"level2\"]"
   ]
  },
  {
   "cell_type": "code",
   "execution_count": 665,
   "metadata": {},
   "outputs": [],
   "source": [
    "fafr[\"Ecart_grade\"] = fafr.apply(lambda x: \"Ecart\" if str(x[\"level2\"]) != str(x[\"Grade\"]) else np.nan, axis=1)"
   ]
  },
  {
   "cell_type": "code",
   "execution_count": 666,
   "metadata": {},
   "outputs": [
    {
     "name": "stderr",
     "output_type": "stream",
     "text": [
      "<ipython-input-666-d7836b4f0fae>:2: SettingWithCopyWarning: \n",
      "A value is trying to be set on a copy of a slice from a DataFrame.\n",
      "Try using .loc[row_indexer,col_indexer] = value instead\n",
      "\n",
      "See the caveats in the documentation: https://pandas.pydata.org/pandas-docs/stable/user_guide/indexing.html#returning-a-view-versus-a-copy\n",
      "  ecart[\"Anomalie\"] =  \"Ecart fichier de référence grading\"\n",
      "<ipython-input-666-d7836b4f0fae>:3: SettingWithCopyWarning: \n",
      "A value is trying to be set on a copy of a slice from a DataFrame.\n",
      "Try using .loc[row_indexer,col_indexer] = value instead\n",
      "\n",
      "See the caveats in the documentation: https://pandas.pydata.org/pandas-docs/stable/user_guide/indexing.html#returning-a-view-versus-a-copy\n",
      "  ecart[\"Date\"] = dt.date.today()\n"
     ]
    }
   ],
   "source": [
    "ecart = fafr.loc[fafr[\"Ecart_grade\"]==\"Ecart\"]\n",
    "ecart[\"Anomalie\"] =  \"Ecart fichier de référence grading\"\n",
    "ecart[\"Date\"] = dt.date.today()\n",
    "ecart = ecart[[\"Matricule\", \"Nom\", \"Prénom\", \"BU\", \"Etablissement\", \"Niveau\", \"Anomalie\",\"level2\", \"Ancienneté groupe\",\"Date\"]].copy()"
   ]
  },
  {
   "cell_type": "code",
   "execution_count": 667,
   "metadata": {},
   "outputs": [],
   "source": [
    "Anomalie = Grading_vide\n",
    "Anomalies = Anomalie.append(ecart)"
   ]
  },
  {
   "cell_type": "code",
   "execution_count": 668,
   "metadata": {},
   "outputs": [],
   "source": [
    "resize_column([ecart], \"Check Grading\", r\"C:\\Users\\sgasmi\\Desktop\\Export Python\\Ecart.xlsx\")"
   ]
  },
  {
   "cell_type": "code",
   "execution_count": 669,
   "metadata": {},
   "outputs": [],
   "source": [
    "resize_column([Anomalies], \"Check Grading\", r\"C:\\Users\\sgasmi\\Desktop\\Power BI applications\\Sources MyHR\\Anomalie_MyHR_\" + str(today) + \".xlsx\")"
   ]
  }
 ],
 "metadata": {
  "kernelspec": {
   "display_name": "Python 3",
   "language": "python",
   "name": "python3"
  },
  "language_info": {
   "codemirror_mode": {
    "name": "ipython",
    "version": 3
   },
   "file_extension": ".py",
   "mimetype": "text/x-python",
   "name": "python",
   "nbconvert_exporter": "python",
   "pygments_lexer": "ipython3",
   "version": "3.8.3"
  }
 },
 "nbformat": 4,
 "nbformat_minor": 4
}
