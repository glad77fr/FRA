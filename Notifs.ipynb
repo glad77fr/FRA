{
 "cells": [
  {
   "cell_type": "code",
   "execution_count": 639,
   "metadata": {},
   "outputs": [
    {
     "data": {
      "text/plain": [
       "'French_France.1252'"
      ]
     },
     "execution_count": 639,
     "metadata": {},
     "output_type": "execute_result"
    }
   ],
   "source": [
    "from docxtpl import DocxTemplate\n",
    "import pandas as pd\n",
    "import os\n",
    "import datetime as dt\n",
    "import locale\n",
    "locale.setlocale(locale.LC_TIME,'')"
   ]
  },
  {
   "cell_type": "markdown",
   "metadata": {},
   "source": [
    "### Algo de génération des fichiers word"
   ]
  },
  {
   "cell_type": "code",
   "execution_count": 640,
   "metadata": {},
   "outputs": [],
   "source": [
    "\n",
    "def word_generate(doc_folder, excel_folder, file_field, dest_folder, col_file_name, var1=None, var2=None):\n",
    "    # doc_folder correspond au répertoire contenant les fichiers word à alimenter\n",
    "    # file_field correspond à la colonne contenant les noms des fichiers à exporter\n",
    "    # dest_folder correspond au répertoire de destination des fichiers à exporter\n",
    "    # col_file_name correspond à la liste des colonnes utilisées pour nommer les fichiers    \n",
    "    # Etape 1 chargement du fichier excel alimentant les fichiers word\n",
    "    # var1 Nom du champ exploité pour ranger les résultats, création de répertoire\n",
    "    # var2 Nom du champ exploité pour ranger les résultats, création de répertoire\n",
    "\n",
    "    # Etape 1 chargement du fichier excel contenant les valeurs destinées à alimenter les templates word\n",
    "    augm=pd.read_excel(excel_folder)    \n",
    "    list_context = augm.columns\n",
    "    \n",
    "    # Etape 2, gestion des dates dans le fichier excel\n",
    "    for col in augm.columns:\n",
    "        if str(augm[col].dtypes)==\"datetime64[ns]\":\n",
    "            augm[col]= augm[col].dt.date\n",
    "            for i, val in enumerate(augm.iterrows()):\n",
    "                date_str=str(augm.at[i,col])\n",
    "                if str(augm.at[i, col]) != \"NaT\":\n",
    "                    augm.at[i, col] = dt.datetime.strptime(date_str, '%Y-%m-%d').date()\n",
    "                    augm.at[i, col] = augm.at[i, col].strftime(\"%d %B %Y\")\n",
    "            augm[col] = augm[col].astype(str)\n",
    "    \n",
    "    # Etape 3 création du contexte\n",
    "    for i, val in enumerate(augm.iterrows()):\n",
    "        context={}\n",
    "        for col in list_context:\n",
    "            context[col] = augm.at[i, col]\n",
    "        try:\n",
    "            folder_world = doc_folder + \"\\\\\" + augm.at[i, file_field]\n",
    "        except:\n",
    "            print(\"fichier introuvable\")\n",
    "         \n",
    "    # Etape 4 Création du nom d'export\n",
    "        name_file = \"\"\n",
    "        for col in col_file_name:\n",
    "            if name_file ==\"\":\n",
    "                name_file= augm.at[i,col]\n",
    "            else:\n",
    "                name_file = name_file + \" \" + augm.at[i,col]\n",
    "        name_file = name_file + \".docx\"\n",
    "        \n",
    "    # Etape 5 Gestion des répertoires d'export dans le cas d'une ventillation des exports suivant des champs\n",
    "        if var1 ==\"\" and var2==\"\":   # Option 1: pas de variable\n",
    "            dest = export_folder + r\"\\\\\" + name_file\n",
    "\n",
    "        if var1 != \"\" and var2 == \"\": # Option 2: 1 variable\n",
    "            dest = export_folder + r\"\\\\\" + augm.at[i,var1] + \"\\\\\" \n",
    "            if os.path.exists(dest2)== False:\n",
    "                try:\n",
    "                    os.mkdir(dest) \n",
    "                    dest= dest + \"\\\\\" + name_file\n",
    "                except:\n",
    "                    print(\"Creation of the directory %s failed\" % dest)\n",
    "\n",
    "        if var1 != \"\" and var2 != \"\": # Option 3: 2 variables\n",
    "            dest1 = export_folder + \"\\\\\" + augm.at[i,var1]\n",
    "            dest2 = dest1 + \"\\\\\" + augm.at[i,var2]\n",
    "            if os.path.exists(dest2)== False:\n",
    "                try:\n",
    "                    os.mkdir(dest1)\n",
    "                    os.mkdir(dest2)                \n",
    "                except OSError:\n",
    "                    print(\"Creation of the directory %s failed\" % dest)\n",
    "            dest = dest2 + \"\\\\\" + name_file\n",
    "        \n",
    "        # Etape 6: Génération des words\n",
    "        doc= DocxTemplate(folder_world)\n",
    "        doc.render(context)\n",
    "        doc.save(dest)    "
   ]
  },
  {
   "cell_type": "code",
   "execution_count": 641,
   "metadata": {},
   "outputs": [],
   "source": [
    "augm =r\"C:\\Users\\sgasmi\\Desktop\\Dev\\Com&Ben\\Notification des Augmentations\\Bordereau pour Notifications_IBF fichier test.xlsx\"\n",
    "folder_word = r\"C:\\Users\\sgasmi\\Desktop\\Dev\\Com&Ben\\Notification des Augmentations\\Template\"\n",
    "export_folder = r\"C:\\Users\\sgasmi\\Desktop\\Dev\\Com&Ben\\Export\"\n",
    "\n",
    "\n",
    "\n",
    "word_generate(doc_folder=folder_word,excel_folder=augm, file_field=\"Fichiers_export\",col_file_name=[\"Nom\",\"Prénom\",\"MYHR_ID\"], dest_folder=export_folder\n",
    "             ,var1= \"Nom_Prénom_RRH\",var2 = \"Nom_Prénom_Manager\")"
   ]
  }
 ],
 "metadata": {
  "kernelspec": {
   "display_name": "Python 3",
   "language": "python",
   "name": "python3"
  },
  "language_info": {
   "codemirror_mode": {
    "name": "ipython",
    "version": 3
   },
   "file_extension": ".py",
   "mimetype": "text/x-python",
   "name": "python",
   "nbconvert_exporter": "python",
   "pygments_lexer": "ipython3",
   "version": "3.8.3"
  }
 },
 "nbformat": 4,
 "nbformat_minor": 4
}
