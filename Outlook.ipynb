{
 "cells": [
  {
   "cell_type": "code",
   "execution_count": 13,
   "metadata": {},
   "outputs": [],
   "source": [
    "import win32com.client as win32\n",
    "from jinja2 import Template"
   ]
  },
  {
   "cell_type": "code",
   "execution_count": 14,
   "metadata": {},
   "outputs": [],
   "source": [
    "with open(r\"C:\\Users\\sgasmi\\Desktop\\Template\\Modèle mail\\Mail gestionnaires.html\", encoding='utf8') as myfile:\n",
    "    mail_temp=myfile.read()\n"
   ]
  },
  {
   "cell_type": "code",
   "execution_count": 15,
   "metadata": {},
   "outputs": [
    {
     "data": {
      "text/plain": [
       "b'<html>\\n  <head> <meta charset=\"UTF-8\">\\n  <link rel=\"stylesheet\" type=\"text/css\" href=\"C:\\\\Users\\\\sgasmi\\\\Desktop\\\\moncss.css\"/>\\n\\t  <body>\\n\\t\\t  <b1> Bonjour Sabri, <br> <br>\\n\\t\\t  \\n\\t\\t  \\n\\t\\t  Dans le cadre de l\\'audit de la qualit\\xc3\\xa9 des donn\\xc3\\xa9es le , nous avons identifi\\xc3\\xa9 2 \\n\\t\\t  \\n\\t\\t  anomalies d\\xc3\\xa9taill\\xc3\\xa9es\\n\\t\\t  \\n\\t\\t  \\n\\t\\t  dans le fichier en pi\\xc3\\xa8ce jointe. <br>\\n\\t\\t  Serait-il possible, s\\'il te pla\\xc3\\xaet, d\\'effectuer les corrections n\\xc3\\xa9cessaires pour ces salari\\xc3\\xa9s? <br>\\n\\t\\t  Dans le cas o\\xc3\\xb9 ces informations auraient \\xc3\\xa9t\\xc3\\xa9 saisies entre temps, merci de ne pas tenir compte de cet email. <br><br>\\n\\t\\t  \\n\\t\\t  Bien cordialement,<br>\\n\\t\\t  \\n\\t\\t  Sabri Gasmi\\n\\t\\t  </b1>\\n\\t  \\n\\t  </body>\\n  </head>\\n</html>'"
      ]
     },
     "execution_count": 15,
     "metadata": {},
     "output_type": "execute_result"
    }
   ],
   "source": [
    "t = Template(mail_temp)\n",
    "ok=t.render(Prenom=\"Sabri\", nb_anomalies=2)\n",
    "ok.encode('utf-8')"
   ]
  },
  {
   "cell_type": "code",
   "execution_count": 16,
   "metadata": {},
   "outputs": [],
   "source": [
    "outlook = win32.Dispatch('outlook.application')\n",
    "mail = outlook.CreateItem(0)\n",
    "mail.To = 'sabri.gasmi@framatome.com'\n",
    "mail.Subject = 'Test Import tété'\n",
    "#mail.Body = \"Bonjour flkfjfjfe\"\n",
    "mail.HTMLBody = ok\n",
    " #this field is optional\n",
    "\n",
    "# To attach a file to the email (optional):\n",
    "attachment  = r\"C:\\Users\\sgasmi\\Desktop\\Export Python\\Anomalies\\ALBERTO_PENA_1232021.xlsx\"\n",
    "#mail.Attachments.Add(attachment)\n",
    "\n",
    "mail.Send()"
   ]
  }
 ],
 "metadata": {
  "kernelspec": {
   "display_name": "Python 3",
   "language": "python",
   "name": "python3"
  },
  "language_info": {
   "codemirror_mode": {
    "name": "ipython",
    "version": 3
   },
   "file_extension": ".py",
   "mimetype": "text/x-python",
   "name": "python",
   "nbconvert_exporter": "python",
   "pygments_lexer": "ipython3",
   "version": "3.8.3"
  }
 },
 "nbformat": 4,
 "nbformat_minor": 4
}
