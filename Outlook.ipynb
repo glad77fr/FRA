{
 "cells": [
  {
   "cell_type": "code",
   "execution_count": 1,
   "metadata": {},
   "outputs": [],
   "source": [
    "import win32com.client as win32\n",
    "from jinja2 import Template"
   ]
  },
  {
   "cell_type": "code",
   "execution_count": 2,
   "metadata": {},
   "outputs": [],
   "source": [
    "with open(r\"C:\\Users\\sgasmi\\Desktop\\Test.html\", 'r') as myfile:\n",
    "    data=myfile.read()\n"
   ]
  },
  {
   "cell_type": "code",
   "execution_count": 3,
   "metadata": {},
   "outputs": [],
   "source": [
    "t = Template(data)\n",
    "ok=t.render(var1=\"Yoooo\")"
   ]
  },
  {
   "cell_type": "code",
   "execution_count": 4,
   "metadata": {},
   "outputs": [],
   "source": [
    "outlook = win32.Dispatch('outlook.application')\n",
    "mail = outlook.CreateItem(0)\n",
    "mail.To = 'sabri.gasmi@framatome.com'\n",
    "mail.Subject = 'Test Import toto'\n",
    "#mail.Body = \"Bonjour flkfjfjfe\"\n",
    "mail.HTMLBody = ok\n",
    " #this field is optional\n",
    "\n",
    "# To attach a file to the email (optional):\n",
    "#attachment  = r\"C:\\Users\\sgasmi\\Desktop\\Interlocuteurs\\Gestionnaires d'identité.xlsx\"\n",
    "#mail.Attachments.Add(attachment)\n",
    "\n",
    "mail.Send()"
   ]
  },
  {
   "cell_type": "code",
   "execution_count": null,
   "metadata": {},
   "outputs": [],
   "source": []
  }
 ],
 "metadata": {
  "kernelspec": {
   "display_name": "Python 3",
   "language": "python",
   "name": "python3"
  },
  "language_info": {
   "codemirror_mode": {
    "name": "ipython",
    "version": 3
   },
   "file_extension": ".py",
   "mimetype": "text/x-python",
   "name": "python",
   "nbconvert_exporter": "python",
   "pygments_lexer": "ipython3",
   "version": "3.8.3"
  }
 },
 "nbformat": 4,
 "nbformat_minor": 4
}
