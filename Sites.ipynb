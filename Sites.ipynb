{
 "cells": [
  {
   "cell_type": "code",
   "execution_count": 8,
   "metadata": {},
   "outputs": [],
   "source": [
    "import pandas as pd\n",
    "from fuzzywuzzy import fuzz"
   ]
  },
  {
   "cell_type": "code",
   "execution_count": 9,
   "metadata": {},
   "outputs": [],
   "source": [
    "P_site = pd.read_excel(r'C:\\Users\\sgasmi\\Desktop\\Annuaire One Shot\\Copie de TablesReference-20112020.xlsx', sheet_name=\"tp_sites\")\n",
    "A_site = pd.read_excel(r'C:\\Users\\sgasmi\\Desktop\\Annuaire One Shot\\Copie de ExtractSites.xls' )"
   ]
  },
  {
   "cell_type": "code",
   "execution_count": 10,
   "metadata": {},
   "outputs": [],
   "source": [
    "P_site[\"Site\"]=P_site[\"cn\"].apply(lambda x: x.upper())\n",
    "P_site[\"Site Annuaire\"] = \"\"\n",
    "A_site[\"Site\"] = A_site[\"cn\"].apply(lambda x: str(x).upper() )"
   ]
  },
  {
   "cell_type": "code",
   "execution_count": 11,
   "metadata": {},
   "outputs": [],
   "source": [
    "result_p = pd.DataFrame(columns=[\"Site\", \"Indice probabilité\"])\n",
    "result = pd.DataFrame(columns=[\"Site PeopleNet\", \"Site Annuaire\",\"Indice probabilité\"])\n",
    "k=0\n",
    "\n",
    "for i, site in (enumerate(P_site.iterrows())):\n",
    "\n",
    "    for y, val in enumerate(list(A_site[\"Site\"] )):\n",
    "        result_p.at[y, \"Site\"] = val\n",
    "        result_p.at[y, \"Indice probabilité\"] = fuzz.ratio(P_site.at[i, \"cn\"], val)\n",
    "\n",
    "   \n",
    "    if result_p[\"Indice probabilité\"].max()>60 :\n",
    "\n",
    "        result_p = result_p.loc[result_p[\"Indice probabilité\"]==result_p[\"Indice probabilité\"].max()].reset_index(drop=True)\n",
    "\n",
    "        \n",
    "        for j, sitem in enumerate(result_p.iterrows()):\n",
    "            result.at[k, \"Site PeopleNet\"] = P_site.at[i, \"cn\"]\n",
    "            result.at[k, \"Site Annuaire\"] = result_p.at[j, \"Site\"]\n",
    "            result.at[k, \"Indice probabilité\"] = result_p.at[j, \"Indice probabilité\"]\n",
    "            k+=1\n",
    "            \n",
    "            \n",
    "        \n",
    "    "
   ]
  },
  {
   "cell_type": "code",
   "execution_count": 16,
   "metadata": {},
   "outputs": [],
   "source": [
    "P_site= P_site.merge(result, how='left', left_on=\"cn\", right_on=\"Site PeopleNet\")"
   ]
  },
  {
   "cell_type": "code",
   "execution_count": 18,
   "metadata": {},
   "outputs": [],
   "source": [
    "result.to_excel(r'C:\\Users\\sgasmi\\Desktop\\Export Python\\Fuzz.xlsx', index=False)\n",
    "P_site.to_excel(r'C:\\Users\\sgasmi\\Desktop\\Export Python\\Sites_ajout.xlsx', index=False)"
   ]
  },
  {
   "cell_type": "code",
   "execution_count": null,
   "metadata": {},
   "outputs": [],
   "source": []
  }
 ],
 "metadata": {
  "kernelspec": {
   "display_name": "Python 3",
   "language": "python",
   "name": "python3"
  },
  "language_info": {
   "codemirror_mode": {
    "name": "ipython",
    "version": 3
   },
   "file_extension": ".py",
   "mimetype": "text/x-python",
   "name": "python",
   "nbconvert_exporter": "python",
   "pygments_lexer": "ipython3",
   "version": "3.8.3"
  }
 },
 "nbformat": 4,
 "nbformat_minor": 4
}
