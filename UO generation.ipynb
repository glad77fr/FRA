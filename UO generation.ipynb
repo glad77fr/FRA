{
 "cells": [
  {
   "cell_type": "code",
   "execution_count": 504,
   "metadata": {},
   "outputs": [],
   "source": [
    "import pandas as pd"
   ]
  },
  {
   "cell_type": "code",
   "execution_count": 505,
   "metadata": {},
   "outputs": [],
   "source": [
    "UO= pd.read_excel(r'C:\\Users\\sgasmi\\Desktop\\Export Python\\UO_Org.xlsx')"
   ]
  },
  {
   "cell_type": "code",
   "execution_count": 506,
   "metadata": {},
   "outputs": [],
   "source": [
    "UO[\"new code 1\"] = \"\""
   ]
  },
  {
   "cell_type": "code",
   "execution_count": 507,
   "metadata": {},
   "outputs": [],
   "source": [
    "UO[\"Description_new\"] =UO[\"Description\"].str.replace('-', ' ')"
   ]
  },
  {
   "cell_type": "code",
   "execution_count": 508,
   "metadata": {},
   "outputs": [],
   "source": [
    "UO[\"f1\"] = UO[\"Description_new\"].str.split(\" \").str[0]\n",
    "UO[\"f2\"] = UO[\"Description_new\"].str.split(\" \").str[1]\n",
    "UO[\"f3\"] = UO[\"Description_new\"].str.split(\" \").str[2]"
   ]
  },
  {
   "cell_type": "code",
   "execution_count": 509,
   "metadata": {},
   "outputs": [],
   "source": [
    "def shorter(df, columns_name, number_letters):\n",
    "    df[\"Description_new\"] = df[columns_name].str.replace('-', ' ')\n",
    "    col_prep =[]\n",
    "    \n",
    "    # Création des colonnes provisoires\n",
    "    \n",
    "    for i in range(number_letters):\n",
    "        col_prep.append(\"prep_\" + str(i))\n",
    "        df.insert(2, \"prep_\" + str(i), \"\")\n",
    "    \n",
    "    for i, col in enumerate(col_prep):\n",
    "        df[col] = UO[\"Description_new\"].str.split(\" \").str[i]\n",
    " \n",
    "\n",
    "    df[columns_name+ \"_short\"] = \"\"\n",
    "    for i, val in enumerate(df.iterrows()):\n",
    "        for y, col in enumerate(col_prep):\n",
    "            try :\n",
    "                if str(df.at[i, col]) != \"nan\":\n",
    "                    df.at[i, columns_name+ \"_short\"]= df.at[i, columns_name+ \"_short\"] + str(df.at[i, col])[0].upper()\n",
    "            except:\n",
    "                pass\n",
    "                \n",
    "    return df\n",
    "    "
   ]
  },
  {
   "cell_type": "code",
   "execution_count": 510,
   "metadata": {},
   "outputs": [],
   "source": [
    "res = shorter(UO, \"Description\", 3)"
   ]
  },
  {
   "cell_type": "code",
   "execution_count": 511,
   "metadata": {},
   "outputs": [
    {
     "name": "stdout",
     "output_type": "stream",
     "text": [
      "0        L6-IB-DTE\n",
      "1         L1-nan-D\n",
      "2       L2-OL3-AOC\n",
      "3       L2-OL3-AOE\n",
      "4       L2-OL3-AOI\n",
      "           ...    \n",
      "1275     L7-IB-SOC\n",
      "1276     L7-IB-SOI\n",
      "1277     L7-IB-SOI\n",
      "1278     L7-IB-SOI\n",
      "1279     L7-IB-SAE\n",
      "Name: New code, Length: 1280, dtype: object\n"
     ]
    }
   ],
   "source": [
    "res[\"New code\"] = res.apply(lambda x: x[\"Code type d'unité de tr.\"] + \"-\"+ str(x[\"L2\"])[:3] + '-' + x[\"Description_short\"], axis=1)\n",
    "print(res[\"New code\"])"
   ]
  },
  {
   "cell_type": "code",
   "execution_count": 512,
   "metadata": {},
   "outputs": [],
   "source": [
    "res.to_excel(r'C:\\Users\\sgasmi\\Desktop\\Export Python\\test.xlsx', index=False)"
   ]
  }
 ],
 "metadata": {
  "kernelspec": {
   "display_name": "Python 3",
   "language": "python",
   "name": "python3"
  },
  "language_info": {
   "codemirror_mode": {
    "name": "ipython",
    "version": 3
   },
   "file_extension": ".py",
   "mimetype": "text/x-python",
   "name": "python",
   "nbconvert_exporter": "python",
   "pygments_lexer": "ipython3",
   "version": "3.8.3"
  }
 },
 "nbformat": 4,
 "nbformat_minor": 4
}
