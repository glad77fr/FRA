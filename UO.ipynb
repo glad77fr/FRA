{
 "cells": [
  {
   "cell_type": "code",
   "execution_count": 126,
   "metadata": {},
   "outputs": [],
   "source": [
    "import pandas as pd"
   ]
  },
  {
   "cell_type": "code",
   "execution_count": 127,
   "metadata": {},
   "outputs": [],
   "source": [
    "ref = pd.read_excel(r'C:\\Users\\sgasmi\\Desktop\\Dev\\UO\\Référentiel UO.xlsx')\n",
    "ref = ref.loc[ref[\"Code type d'unité de tr.\"]!=\"00\"] # Suppression du niveau 0\n",
    "ref.reset_index(drop=True, inplace=True)"
   ]
  },
  {
   "cell_type": "code",
   "execution_count": 128,
   "metadata": {},
   "outputs": [],
   "source": [
    "col = [\"1\",\"2\",\"3\",\"4\",\"5\",\"6\",\"7\",\"8\"]\n",
    "result = pd.DataFrame(columns=col)"
   ]
  },
  {
   "cell_type": "code",
   "execution_count": 129,
   "metadata": {},
   "outputs": [
    {
     "name": "stdout",
     "output_type": "stream",
     "text": [
      "Empty DataFrame\n",
      "Columns: [Code de l'unité de travail, Nom de l'unité de travail, Code type d'unité de tr., Objectifs, Date de début, Date de fin, Description, Code unité de tr. mère, Code type d'unité de tr..1, Date de début rattachement, Date de fin rattachement, Code externe UT, Code de l'unité de travail.1, Matricule Manager, Nom Manager, Date de début Manager, Prénom Manager, Matricule RH, Nom RH, Date de début RH, Prénom RH]\n",
      "Index: []\n",
      "\n",
      "[0 rows x 21 columns]\n"
     ]
    }
   ],
   "source": [
    "print(ref.loc[ref[\"Code de l'unité de travail\"]==\"ROOT\"])"
   ]
  },
  {
   "cell_type": "code",
   "execution_count": 130,
   "metadata": {},
   "outputs": [],
   "source": [
    "for i, val in enumerate(ref.iterrows()):\n",
    "    col_cible = ref.at[i, \"Code type d'unité de tr.\"][1]\n",
    "    # Alimentation de la première colonne\n",
    "    result.at[i, col_cible] = ref.at[i,\"Nom de l'unité de travail\"]\n",
    "    #Alimentation des autres colonnes\n",
    "    cmere = \"\"\n",
    "\n",
    "    while int(col_cible)>1: \n",
    "        if cmere== \"\":\n",
    "            cmere=ref.at[i,\"Code unité de tr. mère\"]\n",
    "        try:\n",
    "            nuo = ref.loc[ref[\"Code de l'unité de travail\"]==cmere,\"Nom de l'unité de travail\"].iloc[0]\n",
    "        except:\n",
    "            print(ref.at[i,\"Nom de l'unité de travail\"])\n",
    "        col_cible= str(int(col_cible)-1)\n",
    "        result.at[i, col_cible] = nuo\n",
    "        cmere = ref.loc[ref[\"Code de l'unité de travail\"]==cmere,\"Code unité de tr. mère\"].iloc[0]\n",
    "        \n",
    "     \n",
    "        #result.at[i, col_cible-1] = ref.loc[ref[\"Nom de l'unité de travail\"]==ref.at[i,\"Code unité de tr. mère\"]]\n",
    "result = result.merge(ref[[\"Code de l'unité de travail\",\"Nom de l'unité de travail\",\"Code type d'unité de tr.\", \"Description\"]], left_index=True, right_index=True)"
   ]
  },
  {
   "cell_type": "code",
   "execution_count": 131,
   "metadata": {},
   "outputs": [
    {
     "name": "stdout",
     "output_type": "stream",
     "text": [
      "Index(['Nom de l'unité de travail', 'Code type d'unité de tr.', 'Description',\n",
      "       '1', '2', '3', '4', '5', '6', '7', '8', 'Code de l'unité de travail'],\n",
      "      dtype='object')\n"
     ]
    }
   ],
   "source": [
    "# Réorganisation des colonnes\n",
    "\n",
    "col = result.columns\n",
    "l1 = list(col[-3:])\n",
    "l2 = list(list(col[:-3]))\n",
    "col = l1 + l2\n",
    "\n",
    "result = result[col]\n",
    "print(result.columns)\n",
    "result.columns=[\"Nom de l'unité de travail\",\"Code type d'unité de tr.\", \"Description\",\n",
    "       \"L1\", \"L2\", \"L3\", \"L4\", \"L5\", \"L6\", \"L7\", \"L8\", \"Code de l'unité de travail\", ]\n",
    "\n",
    "result = result[[\"Code de l'unité de travail\",\"Nom de l'unité de travail\", \"Code type d'unité de tr.\", \"Description\",\n",
    "       \"L1\", \"L2\", \"L3\", \"L4\", \"L5\", \"L6\", \"L7\", \"L8\"]]\n",
    "#print(list(col[-2:] + list(col[:-2]))"
   ]
  },
  {
   "cell_type": "markdown",
   "metadata": {},
   "source": [
    "### Ajout de l'UO mère"
   ]
  },
  {
   "cell_type": "code",
   "execution_count": 132,
   "metadata": {},
   "outputs": [],
   "source": [
    "mere = ref[[\"Code de l'unité de travail\", \"Code unité de tr. mère\"]]\n",
    "result = result.merge(mere, on=\"Code de l'unité de travail\", how=\"left\")\n",
    "mere = ref[[\"Code de l'unité de travail\", \"Nom de l'unité de travail\"]]\n",
    "result = result.merge(mere, left_on=\"Code unité de tr. mère\", right_on=\"Code de l'unité de travail\", how=\"left\")\n",
    "result = result.drop(columns=[\"Code unité de tr. mère\", \"Code de l'unité de travail_y\"], axis=1)\n",
    "result = result.rename(columns={\"Nom de l'unité de travail_y\": \"UO mère\", \"Code de l'unité de travail_x\":\"Code de l'unité de travail\", \"Nom de l'unité de travail_x\": \"Nom de l'unité de travail\"})\n",
    "result.loc[result[\"UO mère\"].isna()==True, \"UO mère\"] = \"ROOT\""
   ]
  },
  {
   "cell_type": "code",
   "execution_count": 133,
   "metadata": {},
   "outputs": [],
   "source": [
    "result.to_excel(r'C:\\Users\\sgasmi\\Desktop\\Export Python\\UO_Org.xlsx', index=False)"
   ]
  }
 ],
 "metadata": {
  "kernelspec": {
   "display_name": "Python 3",
   "language": "python",
   "name": "python3"
  },
  "language_info": {
   "codemirror_mode": {
    "name": "ipython",
    "version": 3
   },
   "file_extension": ".py",
   "mimetype": "text/x-python",
   "name": "python",
   "nbconvert_exporter": "python",
   "pygments_lexer": "ipython3",
   "version": "3.8.3"
  }
 },
 "nbformat": 4,
 "nbformat_minor": 4
}
