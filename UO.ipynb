{
 "cells": [
  {
   "cell_type": "code",
   "execution_count": 1,
   "metadata": {},
   "outputs": [],
   "source": [
    "import pandas as pd"
   ]
  },
  {
   "cell_type": "code",
   "execution_count": 2,
   "metadata": {},
   "outputs": [],
   "source": [
    "ref = pd.read_excel(r'C:\\Users\\sgasmi\\Desktop\\Extractions\\Query_20210112093258.xlsx')"
   ]
  },
  {
   "cell_type": "code",
   "execution_count": 25,
   "metadata": {},
   "outputs": [],
   "source": [
    "ref[\"Level fille\"] = ref[\"Code type d'unité de tr.\"].apply(lambda x: x[1:])\n",
    "ref[\"Level mère\"] = ref.iloc[:, 8]\n",
    "ref[\"Level mère\"] = ref[\"Level mère\"].fillna(\"00\")\n",
    "ref[\"Level mère\"] = ref[\"Level mère\"].apply(lambda x: x[1:])\n",
    "ref[\"Level mère\"] = ref[\"Level mère\"].astype(\"int64\")\n",
    "ref[\"Level fille\"] = ref[\"Level fille\"].astype(\"int64\")\n",
    "\n",
    "def check_level(level_fille, level_mere):\n",
    "    if level_fille>0:\n",
    "        if (level_fille-1) != level_mere:\n",
    "            return 1\n",
    "        else:\n",
    "            return 0\n",
    "    else:\n",
    "        return 0\n",
    "\n",
    "ref[\"Anomalie niveau\"] = ref.apply(lambda x: check_level(x[\"Level fille\"],x[\"Level mère\"]), axis=1)\n",
    "ref.loc[ref[\"Matricule RH\"].isna()==True, \"RH Manquant\"] = 1\n",
    "ref.loc[ref[\"Matricule Manager\"].isna()==True, \"Manager Manquant\"] = 1\n",
    "anomalie_niveau = ref.loc[(ref[\"Anomalie niveau\"]==1) & (ref[\"Nom de l'unité de travail\"] != \"Racine\")]\n",
    "anomalie_RH = ref.loc[ref[\"RH Manquant\"]==1]\n",
    "anomalie_Manager = ref.loc[ref[\"Manager Manquant\"]==1]"
   ]
  },
  {
   "cell_type": "code",
   "execution_count": 28,
   "metadata": {},
   "outputs": [
    {
     "name": "stdout",
     "output_type": "stream",
     "text": [
      "     Code de l'unité de travail Nom de l'unité de travail  \\\n",
      "0                         10199                  IBNDTP-F   \n",
      "1253                       7561                  IBNDIP-F   \n",
      "1254                       7562                 IBNDTSD-F   \n",
      "1255                       7563                 IBNDTPR-F   \n",
      "1256                       7564                  IBNDTV-F   \n",
      "1257                       7565                  IBNDTS-F   \n",
      "1258                       7566                 IBNDTIS-F   \n",
      "1259                       7567                 IBNDTNM-F   \n",
      "1260                       7568                 IBNDTTD-F   \n",
      "1261                       7569                 IBNDTNS-F   \n",
      "1262                       7570                IBNNETEC-F   \n",
      "\n",
      "     Code type d'unité de tr. Objectifs Date de début  Date de fin  \\\n",
      "0                          L5        IB    1951-01-01          NaN   \n",
      "1253                       L6        IB    1951-01-01          NaN   \n",
      "1254                       L6        IB    1951-01-01          NaN   \n",
      "1255                       L6        IB    1951-01-01          NaN   \n",
      "1256                       L6        IB    1951-01-01          NaN   \n",
      "1257                       L6        IB    1951-01-01          NaN   \n",
      "1258                       L6        IB    1951-01-01          NaN   \n",
      "1259                       L6        IB    1951-01-01          NaN   \n",
      "1260                       L6        IB    1951-01-01          NaN   \n",
      "1261                       L6        IB    1951-01-01          NaN   \n",
      "1262                       L6        IB    1951-01-01          NaN   \n",
      "\n",
      "                                       Description Code unité de tr. mère  \\\n",
      "0                    DIRECTION TECHNIQUE ET PROJET                   7319   \n",
      "1253             DIRECTION INDUSTRIELLE ET PROJETS                   7316   \n",
      "1254            DEPARTEMENT DEVELOPPEMENT LOGICIEL                   7561   \n",
      "1255                    DEPARTEMENT SONDES UT & ET                   7561   \n",
      "1256  DEPARTEMENT METHODES CONTROLES VOLUMETRIQUES                   7570   \n",
      "1257    DEPARTEMENT METHODES CONTROLES SURFACIQUES                   7570   \n",
      "1258              DEPARTEMENT SYSTEMES INDUSTRIELS                   7561   \n",
      "1259                      DEPARTEMENT PROCEDES END                   7561   \n",
      "1260           DEPARTEMENT DEVELOPPEMENT OUTILLAGE                   7561   \n",
      "1261               DEPARTEMENT SYSTEMES NUCLEAIRES                   7561   \n",
      "1262                        DIRECTION NETEC France                   7316   \n",
      "\n",
      "     Code type d'unité de tr..1 Date de début rattachement  ...  \\\n",
      "0                            L5                 1951-01-01  ...   \n",
      "1253                         L4                 2019-03-25  ...   \n",
      "1254                         L6                 1951-01-01  ...   \n",
      "1255                         L6                 1951-01-01  ...   \n",
      "1256                         L6                 1951-01-01  ...   \n",
      "1257                         L6                 1951-01-01  ...   \n",
      "1258                         L6                 1951-01-01  ...   \n",
      "1259                         L6                 1951-01-01  ...   \n",
      "1260                         L6                 1951-01-01  ...   \n",
      "1261                         L6                 1951-01-01  ...   \n",
      "1262                         L4                 2019-03-25  ...   \n",
      "\n",
      "      Prénom Manager  Matricule RH      Nom RH  Date de début RH  Prénom RH  \\\n",
      "0            OLIVIER       38696.0  CHAYRIGUES        2020-01-01  CATHERINE   \n",
      "1253         OLIVIER           NaN         NaN               NaT        NaN   \n",
      "1254   JEAN-PHILIPPE       38696.0  CHAYRIGUES        2020-01-01  CATHERINE   \n",
      "1255         ETIENNE       38696.0  CHAYRIGUES        2020-01-01  CATHERINE   \n",
      "1256          PASCAL       38696.0  CHAYRIGUES        2020-01-01  CATHERINE   \n",
      "1257        MATTHIEU       38696.0  CHAYRIGUES        2020-01-01  CATHERINE   \n",
      "1258            YANN       38696.0  CHAYRIGUES        2020-01-01  CATHERINE   \n",
      "1259          THOMAS       38696.0  CHAYRIGUES        2020-01-01  CATHERINE   \n",
      "1260            YANN       38696.0  CHAYRIGUES        2020-01-01  CATHERINE   \n",
      "1261          GERALD       38696.0  CHAYRIGUES        2020-01-01  CATHERINE   \n",
      "1262         OLIVIER           NaN         NaN               NaT        NaN   \n",
      "\n",
      "     Level fille Level mère  Anomalie niveau RH Manquant Manager Manquant  \n",
      "0              5          5                1         NaN              NaN  \n",
      "1253           6          4                1         1.0              NaN  \n",
      "1254           6          6                1         NaN              NaN  \n",
      "1255           6          6                1         NaN              NaN  \n",
      "1256           6          6                1         NaN              NaN  \n",
      "1257           6          6                1         NaN              NaN  \n",
      "1258           6          6                1         NaN              NaN  \n",
      "1259           6          6                1         NaN              NaN  \n",
      "1260           6          6                1         NaN              NaN  \n",
      "1261           6          6                1         NaN              NaN  \n",
      "1262           6          4                1         1.0              NaN  \n",
      "\n",
      "[11 rows x 26 columns]\n"
     ]
    }
   ],
   "source": [
    "print(anomalie_niveau)"
   ]
  },
  {
   "cell_type": "code",
   "execution_count": 30,
   "metadata": {},
   "outputs": [
    {
     "name": "stdout",
     "output_type": "stream",
     "text": [
      "Incohérence dans le référentiel\n"
     ]
    },
    {
     "ename": "AssertionError",
     "evalue": "None",
     "output_type": "error",
     "traceback": [
      "\u001b[1;31m---------------------------------------------------------------------------\u001b[0m",
      "\u001b[1;31mAssertionError\u001b[0m                            Traceback (most recent call last)",
      "\u001b[1;32m<ipython-input-30-b85ee0fc9f0f>\u001b[0m in \u001b[0;36m<module>\u001b[1;34m\u001b[0m\n\u001b[0;32m      5\u001b[0m         \u001b[0manomalie_RH\u001b[0m\u001b[1;33m.\u001b[0m\u001b[0mto_excel\u001b[0m\u001b[1;33m(\u001b[0m\u001b[0mwriter\u001b[0m\u001b[1;33m,\u001b[0m \u001b[0msheet_name\u001b[0m\u001b[1;33m=\u001b[0m\u001b[1;34m'Anomalies_RH'\u001b[0m\u001b[1;33m,\u001b[0m \u001b[0mindex\u001b[0m\u001b[1;33m=\u001b[0m\u001b[1;32mFalse\u001b[0m\u001b[1;33m)\u001b[0m\u001b[1;33m\u001b[0m\u001b[1;33m\u001b[0m\u001b[0m\n\u001b[0;32m      6\u001b[0m         \u001b[0manomalie_Manager\u001b[0m\u001b[1;33m.\u001b[0m\u001b[0mto_excel\u001b[0m\u001b[1;33m(\u001b[0m\u001b[0mwriter\u001b[0m\u001b[1;33m,\u001b[0m \u001b[0msheet_name\u001b[0m\u001b[1;33m=\u001b[0m\u001b[1;34m'Anomalie_Manager'\u001b[0m\u001b[1;33m,\u001b[0m \u001b[0mindex\u001b[0m\u001b[1;33m=\u001b[0m\u001b[1;32mFalse\u001b[0m\u001b[1;33m)\u001b[0m\u001b[1;33m\u001b[0m\u001b[1;33m\u001b[0m\u001b[0m\n\u001b[1;32m----> 7\u001b[1;33m \u001b[1;32massert\u001b[0m \u001b[0mlen\u001b[0m\u001b[1;33m(\u001b[0m\u001b[0manomalie_niveau\u001b[0m\u001b[1;33m)\u001b[0m\u001b[1;33m==\u001b[0m\u001b[1;36m0\u001b[0m \u001b[1;32mand\u001b[0m \u001b[0mlen\u001b[0m\u001b[1;33m(\u001b[0m\u001b[0manomalie_RH\u001b[0m\u001b[1;33m)\u001b[0m\u001b[1;33m==\u001b[0m\u001b[1;36m0\u001b[0m \u001b[1;32mand\u001b[0m \u001b[0mlen\u001b[0m\u001b[1;33m(\u001b[0m\u001b[0manomalie_Manager\u001b[0m\u001b[1;33m)\u001b[0m\u001b[1;33m==\u001b[0m\u001b[1;36m0\u001b[0m  \u001b[1;33m,\u001b[0m \u001b[0mprint\u001b[0m\u001b[1;33m(\u001b[0m\u001b[1;34m\"Incohérence dans le référentiel\"\u001b[0m\u001b[1;33m)\u001b[0m\u001b[1;33m\u001b[0m\u001b[1;33m\u001b[0m\u001b[0m\n\u001b[0m",
      "\u001b[1;31mAssertionError\u001b[0m: None"
     ]
    }
   ],
   "source": [
    "if len(anomalie_niveau)>0 or len(anomalie_RH)>0 or len(anomalie_Manager)>0 :\n",
    "    anomalie_niveau.to_excel(r'C:\\Users\\sgasmi\\Desktop\\Export Python\\Anomalie UO.xlsx', index=False)\n",
    "    with pd.ExcelWriter(r'C:\\Users\\sgasmi\\Desktop\\Export Python\\Anomalie UO.xlsx') as writer:  \n",
    "        anomalie_niveau.to_excel(writer, sheet_name='Anomalies_niveau', index=False)\n",
    "        anomalie_RH.to_excel(writer, sheet_name='Anomalies_RH', index=False)\n",
    "        anomalie_Manager.to_excel(writer, sheet_name='Anomalie_Manager', index=False)\n",
    "assert len(anomalie_niveau)==0 and len(anomalie_RH)==0 and len(anomalie_Manager)==0  , print(\"Incohérence dans le référentiel\")"
   ]
  },
  {
   "cell_type": "code",
   "execution_count": 5,
   "metadata": {},
   "outputs": [],
   "source": [
    "ref = ref.loc[ref[\"Code type d'unité de tr.\"]!=\"00\"] # Suppression du niveau 0\n",
    "ref.reset_index(drop=True, inplace=True)"
   ]
  },
  {
   "cell_type": "code",
   "execution_count": 6,
   "metadata": {},
   "outputs": [],
   "source": [
    "col = [\"1\",\"2\",\"3\",\"4\",\"5\",\"6\",\"7\",\"8\"]\n",
    "result = pd.DataFrame(columns=col)"
   ]
  },
  {
   "cell_type": "code",
   "execution_count": 7,
   "metadata": {},
   "outputs": [
    {
     "name": "stdout",
     "output_type": "stream",
     "text": [
      "Empty DataFrame\n",
      "Columns: [Code de l'unité de travail, Nom de l'unité de travail, Code type d'unité de tr., Objectifs, Date de début, Date de fin, Description, Code unité de tr. mère, Code type d'unité de tr..1, Date de début rattachement, Date de fin rattachement, Code externe UT, Code de l'unité de travail.1, Matricule Manager, Nom Manager, Date de début Manager, Prénom Manager, Matricule RH, Nom RH, Date de début RH, Prénom RH, Level fille, Level mère, Anomalie niveau, RH Manquant, Manager Manquant]\n",
      "Index: []\n",
      "\n",
      "[0 rows x 26 columns]\n"
     ]
    }
   ],
   "source": [
    "print(ref.loc[ref[\"Code de l'unité de travail\"]==\"ROOT\"])"
   ]
  },
  {
   "cell_type": "code",
   "execution_count": 8,
   "metadata": {},
   "outputs": [
    {
     "name": "stdout",
     "output_type": "stream",
     "text": [
      "IBNDIP-F\n"
     ]
    },
    {
     "ename": "IndexError",
     "evalue": "single positional indexer is out-of-bounds",
     "output_type": "error",
     "traceback": [
      "\u001b[1;31m---------------------------------------------------------------------------\u001b[0m",
      "\u001b[1;31mIndexError\u001b[0m                                Traceback (most recent call last)",
      "\u001b[1;32m<ipython-input-8-c4b95a180c27>\u001b[0m in \u001b[0;36m<module>\u001b[1;34m\u001b[0m\n\u001b[0;32m     15\u001b[0m         \u001b[0mcol_cible\u001b[0m\u001b[1;33m=\u001b[0m \u001b[0mstr\u001b[0m\u001b[1;33m(\u001b[0m\u001b[0mint\u001b[0m\u001b[1;33m(\u001b[0m\u001b[0mcol_cible\u001b[0m\u001b[1;33m)\u001b[0m\u001b[1;33m-\u001b[0m\u001b[1;36m1\u001b[0m\u001b[1;33m)\u001b[0m\u001b[1;33m\u001b[0m\u001b[1;33m\u001b[0m\u001b[0m\n\u001b[0;32m     16\u001b[0m         \u001b[0mresult\u001b[0m\u001b[1;33m.\u001b[0m\u001b[0mat\u001b[0m\u001b[1;33m[\u001b[0m\u001b[0mi\u001b[0m\u001b[1;33m,\u001b[0m \u001b[0mcol_cible\u001b[0m\u001b[1;33m]\u001b[0m \u001b[1;33m=\u001b[0m \u001b[0mnuo\u001b[0m\u001b[1;33m\u001b[0m\u001b[1;33m\u001b[0m\u001b[0m\n\u001b[1;32m---> 17\u001b[1;33m         \u001b[0mcmere\u001b[0m \u001b[1;33m=\u001b[0m \u001b[0mref\u001b[0m\u001b[1;33m.\u001b[0m\u001b[0mloc\u001b[0m\u001b[1;33m[\u001b[0m\u001b[0mref\u001b[0m\u001b[1;33m[\u001b[0m\u001b[1;34m\"Code de l'unité de travail\"\u001b[0m\u001b[1;33m]\u001b[0m\u001b[1;33m==\u001b[0m\u001b[0mcmere\u001b[0m\u001b[1;33m,\u001b[0m\u001b[1;34m\"Code unité de tr. mère\"\u001b[0m\u001b[1;33m]\u001b[0m\u001b[1;33m.\u001b[0m\u001b[0miloc\u001b[0m\u001b[1;33m[\u001b[0m\u001b[1;36m0\u001b[0m\u001b[1;33m]\u001b[0m\u001b[1;33m\u001b[0m\u001b[1;33m\u001b[0m\u001b[0m\n\u001b[0m\u001b[0;32m     18\u001b[0m \u001b[1;33m\u001b[0m\u001b[0m\n\u001b[0;32m     19\u001b[0m \u001b[1;33m\u001b[0m\u001b[0m\n",
      "\u001b[1;32m~\\Miniconda3\\lib\\site-packages\\pandas\\core\\indexing.py\u001b[0m in \u001b[0;36m__getitem__\u001b[1;34m(self, key)\u001b[0m\n\u001b[0;32m    877\u001b[0m \u001b[1;33m\u001b[0m\u001b[0m\n\u001b[0;32m    878\u001b[0m             \u001b[0mmaybe_callable\u001b[0m \u001b[1;33m=\u001b[0m \u001b[0mcom\u001b[0m\u001b[1;33m.\u001b[0m\u001b[0mapply_if_callable\u001b[0m\u001b[1;33m(\u001b[0m\u001b[0mkey\u001b[0m\u001b[1;33m,\u001b[0m \u001b[0mself\u001b[0m\u001b[1;33m.\u001b[0m\u001b[0mobj\u001b[0m\u001b[1;33m)\u001b[0m\u001b[1;33m\u001b[0m\u001b[1;33m\u001b[0m\u001b[0m\n\u001b[1;32m--> 879\u001b[1;33m             \u001b[1;32mreturn\u001b[0m \u001b[0mself\u001b[0m\u001b[1;33m.\u001b[0m\u001b[0m_getitem_axis\u001b[0m\u001b[1;33m(\u001b[0m\u001b[0mmaybe_callable\u001b[0m\u001b[1;33m,\u001b[0m \u001b[0maxis\u001b[0m\u001b[1;33m=\u001b[0m\u001b[0maxis\u001b[0m\u001b[1;33m)\u001b[0m\u001b[1;33m\u001b[0m\u001b[1;33m\u001b[0m\u001b[0m\n\u001b[0m\u001b[0;32m    880\u001b[0m \u001b[1;33m\u001b[0m\u001b[0m\n\u001b[0;32m    881\u001b[0m     \u001b[1;32mdef\u001b[0m \u001b[0m_is_scalar_access\u001b[0m\u001b[1;33m(\u001b[0m\u001b[0mself\u001b[0m\u001b[1;33m,\u001b[0m \u001b[0mkey\u001b[0m\u001b[1;33m:\u001b[0m \u001b[0mTuple\u001b[0m\u001b[1;33m)\u001b[0m\u001b[1;33m:\u001b[0m\u001b[1;33m\u001b[0m\u001b[1;33m\u001b[0m\u001b[0m\n",
      "\u001b[1;32m~\\Miniconda3\\lib\\site-packages\\pandas\\core\\indexing.py\u001b[0m in \u001b[0;36m_getitem_axis\u001b[1;34m(self, key, axis)\u001b[0m\n\u001b[0;32m   1494\u001b[0m \u001b[1;33m\u001b[0m\u001b[0m\n\u001b[0;32m   1495\u001b[0m             \u001b[1;31m# validate the location\u001b[0m\u001b[1;33m\u001b[0m\u001b[1;33m\u001b[0m\u001b[1;33m\u001b[0m\u001b[0m\n\u001b[1;32m-> 1496\u001b[1;33m             \u001b[0mself\u001b[0m\u001b[1;33m.\u001b[0m\u001b[0m_validate_integer\u001b[0m\u001b[1;33m(\u001b[0m\u001b[0mkey\u001b[0m\u001b[1;33m,\u001b[0m \u001b[0maxis\u001b[0m\u001b[1;33m)\u001b[0m\u001b[1;33m\u001b[0m\u001b[1;33m\u001b[0m\u001b[0m\n\u001b[0m\u001b[0;32m   1497\u001b[0m \u001b[1;33m\u001b[0m\u001b[0m\n\u001b[0;32m   1498\u001b[0m             \u001b[1;32mreturn\u001b[0m \u001b[0mself\u001b[0m\u001b[1;33m.\u001b[0m\u001b[0mobj\u001b[0m\u001b[1;33m.\u001b[0m\u001b[0m_ixs\u001b[0m\u001b[1;33m(\u001b[0m\u001b[0mkey\u001b[0m\u001b[1;33m,\u001b[0m \u001b[0maxis\u001b[0m\u001b[1;33m=\u001b[0m\u001b[0maxis\u001b[0m\u001b[1;33m)\u001b[0m\u001b[1;33m\u001b[0m\u001b[1;33m\u001b[0m\u001b[0m\n",
      "\u001b[1;32m~\\Miniconda3\\lib\\site-packages\\pandas\\core\\indexing.py\u001b[0m in \u001b[0;36m_validate_integer\u001b[1;34m(self, key, axis)\u001b[0m\n\u001b[0;32m   1435\u001b[0m         \u001b[0mlen_axis\u001b[0m \u001b[1;33m=\u001b[0m \u001b[0mlen\u001b[0m\u001b[1;33m(\u001b[0m\u001b[0mself\u001b[0m\u001b[1;33m.\u001b[0m\u001b[0mobj\u001b[0m\u001b[1;33m.\u001b[0m\u001b[0m_get_axis\u001b[0m\u001b[1;33m(\u001b[0m\u001b[0maxis\u001b[0m\u001b[1;33m)\u001b[0m\u001b[1;33m)\u001b[0m\u001b[1;33m\u001b[0m\u001b[1;33m\u001b[0m\u001b[0m\n\u001b[0;32m   1436\u001b[0m         \u001b[1;32mif\u001b[0m \u001b[0mkey\u001b[0m \u001b[1;33m>=\u001b[0m \u001b[0mlen_axis\u001b[0m \u001b[1;32mor\u001b[0m \u001b[0mkey\u001b[0m \u001b[1;33m<\u001b[0m \u001b[1;33m-\u001b[0m\u001b[0mlen_axis\u001b[0m\u001b[1;33m:\u001b[0m\u001b[1;33m\u001b[0m\u001b[1;33m\u001b[0m\u001b[0m\n\u001b[1;32m-> 1437\u001b[1;33m             \u001b[1;32mraise\u001b[0m \u001b[0mIndexError\u001b[0m\u001b[1;33m(\u001b[0m\u001b[1;34m\"single positional indexer is out-of-bounds\"\u001b[0m\u001b[1;33m)\u001b[0m\u001b[1;33m\u001b[0m\u001b[1;33m\u001b[0m\u001b[0m\n\u001b[0m\u001b[0;32m   1438\u001b[0m \u001b[1;33m\u001b[0m\u001b[0m\n\u001b[0;32m   1439\u001b[0m     \u001b[1;31m# -------------------------------------------------------------------\u001b[0m\u001b[1;33m\u001b[0m\u001b[1;33m\u001b[0m\u001b[1;33m\u001b[0m\u001b[0m\n",
      "\u001b[1;31mIndexError\u001b[0m: single positional indexer is out-of-bounds"
     ]
    }
   ],
   "source": [
    "for i, val in enumerate(ref.iterrows()):\n",
    "    col_cible = ref.at[i, \"Code type d'unité de tr.\"][1]\n",
    "    # Alimentation de la première colonne\n",
    "    result.at[i, col_cible] = ref.at[i,\"Nom de l'unité de travail\"]\n",
    "    #Alimentation des autres colonnes\n",
    "    cmere = \"\"\n",
    "\n",
    "    while int(col_cible)>1: \n",
    "        if cmere== \"\":\n",
    "            cmere=ref.at[i,\"Code unité de tr. mère\"]\n",
    "        try:\n",
    "            nuo = ref.loc[ref[\"Code de l'unité de travail\"]==cmere,\"Nom de l'unité de travail\"].iloc[0]\n",
    "        except:\n",
    "            print(ref.at[i,\"Nom de l'unité de travail\"])\n",
    "        col_cible= str(int(col_cible)-1)\n",
    "        result.at[i, col_cible] = nuo\n",
    "        cmere = ref.loc[ref[\"Code de l'unité de travail\"]==cmere,\"Code unité de tr. mère\"].iloc[0]\n",
    "        \n",
    "     \n",
    "        #result.at[i, col_cible-1] = ref.loc[ref[\"Nom de l'unité de travail\"]==ref.at[i,\"Code unité de tr. mère\"]]\n",
    "result = result.merge(ref[[\"Code de l'unité de travail\",\"Nom de l'unité de travail\",\"Code type d'unité de tr.\", \"Description\"]], left_index=True, right_index=True)"
   ]
  },
  {
   "cell_type": "code",
   "execution_count": null,
   "metadata": {},
   "outputs": [],
   "source": [
    "# Réorganisation des colonnes\n",
    "\n",
    "col = result.columns\n",
    "l1 = list(col[-3:])\n",
    "l2 = list(list(col[:-3]))\n",
    "col = l1 + l2\n",
    "\n",
    "result = result[col]\n",
    "print(result.columns)\n",
    "result.columns=[\"Nom de l'unité de travail\",\"Code type d'unité de tr.\", \"Description\",\n",
    "       \"L1\", \"L2\", \"L3\", \"L4\", \"L5\", \"L6\", \"L7\", \"L8\", \"Code de l'unité de travail\", ]\n",
    "\n",
    "result = result[[\"Code de l'unité de travail\",\"Nom de l'unité de travail\", \"Code type d'unité de tr.\", \"Description\",\n",
    "       \"L1\", \"L2\", \"L3\", \"L4\", \"L5\", \"L6\", \"L7\", \"L8\"]]\n",
    "#print(list(col[-2:] + list(col[:-2]))"
   ]
  },
  {
   "cell_type": "markdown",
   "metadata": {},
   "source": [
    "### Ajout de l'UO mère"
   ]
  },
  {
   "cell_type": "code",
   "execution_count": null,
   "metadata": {},
   "outputs": [],
   "source": [
    "mere = ref[[\"Code de l'unité de travail\", \"Code unité de tr. mère\"]]\n",
    "result = result.merge(mere, on=\"Code de l'unité de travail\", how=\"left\")\n",
    "mere = ref[[\"Code de l'unité de travail\", \"Nom de l'unité de travail\"]]\n",
    "result = result.merge(mere, left_on=\"Code unité de tr. mère\", right_on=\"Code de l'unité de travail\", how=\"left\")\n",
    "result = result.drop(columns=[\"Code unité de tr. mère\", \"Code de l'unité de travail_y\"], axis=1)\n",
    "result = result.rename(columns={\"Nom de l'unité de travail_y\": \"UO mère\", \"Code de l'unité de travail_x\":\"Code de l'unité de travail\", \"Nom de l'unité de travail_x\": \"Nom de l'unité de travail\"})\n",
    "result.loc[result[\"UO mère\"].isna()==True, \"UO mère\"] = \"ROOT\""
   ]
  },
  {
   "cell_type": "code",
   "execution_count": null,
   "metadata": {},
   "outputs": [],
   "source": [
    "result.to_excel(r'C:\\Users\\sgasmi\\Desktop\\Export Python\\UO_Org.xlsx', index=False)"
   ]
  }
 ],
 "metadata": {
  "kernelspec": {
   "display_name": "Python 3",
   "language": "python",
   "name": "python3"
  },
  "language_info": {
   "codemirror_mode": {
    "name": "ipython",
    "version": 3
   },
   "file_extension": ".py",
   "mimetype": "text/x-python",
   "name": "python",
   "nbconvert_exporter": "python",
   "pygments_lexer": "ipython3",
   "version": "3.8.3"
  }
 },
 "nbformat": 4,
 "nbformat_minor": 4
}
