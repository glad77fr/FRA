{
 "cells": [
  {
   "cell_type": "code",
   "execution_count": 8,
   "metadata": {},
   "outputs": [],
   "source": [
    "import pandas as pd"
   ]
  },
  {
   "cell_type": "code",
   "execution_count": 9,
   "metadata": {},
   "outputs": [],
   "source": [
    "old = pd.read_excel(r\"C:\\Users\\sgasmi\\Desktop\\Extractions\\Query_old.xlsx\")\n",
    "new = pd.read_excel(r\"C:\\Users\\sgasmi\\Desktop\\Extractions\\Query_new.xlsx\")"
   ]
  },
  {
   "cell_type": "code",
   "execution_count": 10,
   "metadata": {},
   "outputs": [],
   "source": [
    "old[\"Compare\"] = old[\"Code de l'unité de travail\"] + old[\"Code type d'unité de tr.\"]\n",
    "new[\"Compare\"] = new[\"Code de l'unité de travail\"] + new[\"Code type d'unité de tr.\"]"
   ]
  },
  {
   "cell_type": "code",
   "execution_count": 12,
   "metadata": {},
   "outputs": [],
   "source": [
    "ecart=old.loc[old[\"Compare\"].isin(new[\"Compare\"])==False]"
   ]
  },
  {
   "cell_type": "code",
   "execution_count": 17,
   "metadata": {},
   "outputs": [
    {
     "data": {
      "text/plain": [
       "Code type d'unité de tr.\n",
       "L2      3\n",
       "L3     22\n",
       "L4     76\n",
       "L5    138\n",
       "L6    141\n",
       "L7     27\n",
       "Name: Code type d'unité de tr., dtype: int64"
      ]
     },
     "execution_count": 17,
     "metadata": {},
     "output_type": "execute_result"
    }
   ],
   "source": [
    "ecart.groupby([\"Code type d'unité de tr.\"])[\"Code type d'unité de tr.\"].count()"
   ]
  },
  {
   "cell_type": "code",
   "execution_count": 18,
   "metadata": {},
   "outputs": [
    {
     "data": {
      "text/plain": [
       "407"
      ]
     },
     "execution_count": 18,
     "metadata": {},
     "output_type": "execute_result"
    }
   ],
   "source": [
    "len(ecart)"
   ]
  },
  {
   "cell_type": "code",
   "execution_count": null,
   "metadata": {},
   "outputs": [],
   "source": []
  }
 ],
 "metadata": {
  "kernelspec": {
   "display_name": "Python 3",
   "language": "python",
   "name": "python3"
  },
  "language_info": {
   "codemirror_mode": {
    "name": "ipython",
    "version": 3
   },
   "file_extension": ".py",
   "mimetype": "text/x-python",
   "name": "python",
   "nbconvert_exporter": "python",
   "pygments_lexer": "ipython3",
   "version": "3.8.3"
  }
 },
 "nbformat": 4,
 "nbformat_minor": 4
}
