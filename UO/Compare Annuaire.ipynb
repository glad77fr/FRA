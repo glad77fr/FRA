{
 "cells": [
  {
   "cell_type": "code",
   "execution_count": 37,
   "metadata": {},
   "outputs": [],
   "source": [
    "import pandas as pd"
   ]
  },
  {
   "cell_type": "markdown",
   "metadata": {},
   "source": [
    "## Chargement des données"
   ]
  },
  {
   "cell_type": "code",
   "execution_count": 38,
   "metadata": {},
   "outputs": [],
   "source": [
    "UO_Annuaire = pd.read_csv(r'C:\\Users\\sgasmi\\Desktop\\Extractions\\organizationNodes-20210316.csv', sep=\";\")\n",
    "UO_PN = pd.read_excel(r\"C:\\Users\\sgasmi\\Desktop\\Export Python\\Referentiel UO.xlsx\")"
   ]
  },
  {
   "cell_type": "markdown",
   "metadata": {},
   "source": [
    "## Préparation des données"
   ]
  },
  {
   "cell_type": "markdown",
   "metadata": {},
   "source": [
    "### Extraction des UO ayant pour parent final FRA"
   ]
  },
  {
   "cell_type": "code",
   "execution_count": 39,
   "metadata": {},
   "outputs": [],
   "source": [
    "uid_fra=\"297A37C12A56CA16C37D63\""
   ]
  },
  {
   "cell_type": "code",
   "execution_count": 40,
   "metadata": {},
   "outputs": [],
   "source": [
    "# Niveau 1\n",
    "UO_Annuaire.loc[(UO_Annuaire[\"cn\"]==\"FRA\")  & (UO_Annuaire[\"arevalevelnumber\"]==1) , \"FRA\"]=1\n",
    "\n",
    "# Niveau 2\n",
    "UO_Annuaire.loc[UO_Annuaire[\"owner\"]==uid_fra, \"FRA\"]=1\n",
    "parent_lv2 = UO_Annuaire.loc[(UO_Annuaire[\"FRA\"]==1) & (UO_Annuaire[\"owner\"].isna()==False),\"uid\"]\n",
    "\n",
    "# Niveau 3\n",
    "UO_Annuaire.loc[UO_Annuaire[\"owner\"].isin(parent_lv2)==True, \"FRA\"]=1\n",
    "parent_lv3 =UO_Annuaire.loc[(UO_Annuaire[\"FRA\"]==1) & (UO_Annuaire[\"owner\"].isna()==False),\"uid\"]\n",
    "\n",
    "#Niveau 4\n",
    "UO_Annuaire.loc[UO_Annuaire[\"owner\"].isin(parent_lv3)==True, \"FRA\"]=1\n",
    "\n",
    "parent_lv4 =UO_Annuaire.loc[(UO_Annuaire[\"FRA\"]==1) & (UO_Annuaire[\"owner\"].isna()==False),\"uid\"]\n",
    "\n",
    "#Niveau 5\n",
    "UO_Annuaire.loc[UO_Annuaire[\"owner\"].isin(parent_lv4)==True, \"FRA\"]=1\n"
   ]
  },
  {
   "cell_type": "code",
   "execution_count": 41,
   "metadata": {},
   "outputs": [],
   "source": [
    "UO_Annuaire = UO_Annuaire.loc[UO_Annuaire[\"FRA\"]==1]"
   ]
  },
  {
   "cell_type": "markdown",
   "metadata": {},
   "source": [
    "### Ajout de l'UO mère dans UO_Annuaire"
   ]
  },
  {
   "cell_type": "code",
   "execution_count": 42,
   "metadata": {},
   "outputs": [],
   "source": [
    "mother= UO_Annuaire[['uid', 'cn']]\n",
    "UO_Annuaire = UO_Annuaire.merge(mother, left_on=\"owner\", right_on=\"uid\", how='left')"
   ]
  },
  {
   "cell_type": "code",
   "execution_count": 43,
   "metadata": {},
   "outputs": [],
   "source": [
    "UO_Annuaire[\"arevalevelnumber\"] = UO_Annuaire[\"arevalevelnumber\"].apply(lambda x: \"L\"+str(x))"
   ]
  },
  {
   "cell_type": "code",
   "execution_count": 44,
   "metadata": {},
   "outputs": [],
   "source": [
    "UO_Annuaire = UO_Annuaire.rename({\"cn_y\":\"Label_mother\", \"cn_x\": \"Label\", \"owner_x\": \"uid_mother\", \"uid_x\":\"uid\", \"uid_y\":\"uid_mother\"}, axis=1)"
   ]
  },
  {
   "cell_type": "code",
   "execution_count": 45,
   "metadata": {},
   "outputs": [],
   "source": [
    "UO_PN.loc[UO_PN[\"UO mère\"]==\"FRAMATOME\",\"UO mère\"]=\"FRA\""
   ]
  },
  {
   "cell_type": "code",
   "execution_count": 46,
   "metadata": {},
   "outputs": [],
   "source": [
    "UO_PN.loc[UO_PN[\"Nom de l'unité organisationnelle\"]==\"FRAMATOME\"]=\"FRA\"\n",
    "UO_PN.loc[UO_PN[\"Nom de l'unité organisationnelle\"]==\"FRA\", \"Niveau\"]=\"L1\""
   ]
  },
  {
   "cell_type": "markdown",
   "metadata": {},
   "source": [
    "### Suppression des niveau 6,7,8 dans PN"
   ]
  },
  {
   "cell_type": "code",
   "execution_count": 47,
   "metadata": {},
   "outputs": [],
   "source": [
    "UO_PN = UO_PN.loc[UO_PN[\"Niveau\"].isin([\"L6\", \"L7\", \"L8\"])==False]"
   ]
  },
  {
   "cell_type": "markdown",
   "metadata": {},
   "source": [
    "## UO à Créer"
   ]
  },
  {
   "cell_type": "code",
   "execution_count": 48,
   "metadata": {},
   "outputs": [],
   "source": [
    "UO_to_add = UO_PN.loc[UO_PN[\"Nom de l'unité organisationnelle\"].isin(UO_Annuaire[\"Label\"])==False]"
   ]
  },
  {
   "cell_type": "code",
   "execution_count": 49,
   "metadata": {},
   "outputs": [],
   "source": [
    "UO_to_add = UO_to_add[[\"Nom de l'unité organisationnelle\", \"Niveau\", \"Description\", \"UO mère\"]]"
   ]
  },
  {
   "cell_type": "code",
   "execution_count": 50,
   "metadata": {},
   "outputs": [],
   "source": [
    "UO_to_add = UO_to_add.sort_values(\"Nom de l'unité organisationnelle\")"
   ]
  },
  {
   "cell_type": "markdown",
   "metadata": {},
   "source": [
    "## Recherche des UO à supprimer"
   ]
  },
  {
   "cell_type": "code",
   "execution_count": 51,
   "metadata": {},
   "outputs": [],
   "source": [
    "UO_to_delete = UO_Annuaire.loc[UO_Annuaire[\"Label\"].isin(UO_PN[\"Nom de l'unité organisationnelle\"])==False]"
   ]
  },
  {
   "cell_type": "code",
   "execution_count": 52,
   "metadata": {},
   "outputs": [],
   "source": [
    "UO_to_delete = UO_to_delete[[\"uid\", \"Label\", \"arevalevelnumber\"]]"
   ]
  },
  {
   "cell_type": "code",
   "execution_count": 53,
   "metadata": {},
   "outputs": [],
   "source": [
    "UO_to_delete = UO_to_delete.sort_values(\"arevalevelnumber\")"
   ]
  },
  {
   "cell_type": "markdown",
   "metadata": {},
   "source": [
    "## UO à modifier "
   ]
  },
  {
   "cell_type": "code",
   "execution_count": 54,
   "metadata": {},
   "outputs": [],
   "source": [
    "UO_Annuaire = UO_Annuaire.merge(UO_PN[[\"Nom de l'unité organisationnelle\", \"Niveau\", \"UO mère\"]], left_on=\"Label\", right_on=\"Nom de l'unité organisationnelle\", how=\"left\")"
   ]
  },
  {
   "cell_type": "code",
   "execution_count": 55,
   "metadata": {},
   "outputs": [
    {
     "data": {
      "text/plain": [
       "Index(['arevalevelnumber', 'Label', 'uid', 'owner', 'labelFR', 'labelEN',\n",
       "       'manager', 'FRA', 'uid_mother', 'Label_mother',\n",
       "       'Nom de l'unité organisationnelle', 'Niveau', 'UO mère'],\n",
       "      dtype='object')"
      ]
     },
     "execution_count": 55,
     "metadata": {},
     "output_type": "execute_result"
    }
   ],
   "source": [
    "UO_Annuaire.columns"
   ]
  },
  {
   "cell_type": "code",
   "execution_count": 56,
   "metadata": {},
   "outputs": [],
   "source": [
    "UO_Annuaire = UO_Annuaire.rename({\"arevalevelnumber\":\"Level_Annuaire\", \"Label_mother\":\"Mère_Annuaire\",\"Nom de l'unité organisationnelle\": \"PN_Label\", \"Niveau\": \"PN_Level\", \"UO mère\":\"PN_UO_mère\"}, axis=1)"
   ]
  },
  {
   "cell_type": "code",
   "execution_count": 57,
   "metadata": {},
   "outputs": [],
   "source": [
    "UO_Annuaire[\"Ecart Level\"] = UO_Annuaire.apply(lambda x: 1 if (x[\"Label\"]==x[\"PN_Label\"]) and (x[\"Level_Annuaire\"] != x[\"PN_Level\"]) else 0, axis=1)"
   ]
  },
  {
   "cell_type": "code",
   "execution_count": 58,
   "metadata": {},
   "outputs": [],
   "source": [
    "UO_Annuaire[\"Ecart mère\"] = UO_Annuaire.apply(lambda x: 1 if (x[\"Label\"]==x[\"PN_Label\"]) and (x[\"Mère_Annuaire\"] != x[\"PN_UO_mère\"]) else 0, axis=1)"
   ]
  },
  {
   "cell_type": "code",
   "execution_count": 59,
   "metadata": {},
   "outputs": [],
   "source": [
    "Ecart = UO_Annuaire.loc[(UO_Annuaire[\"Ecart Level\"]==1) | (UO_Annuaire[\"Ecart mère\"]==1)]"
   ]
  },
  {
   "cell_type": "code",
   "execution_count": 60,
   "metadata": {},
   "outputs": [],
   "source": [
    "Ecart = Ecart[[\"uid\", \"Label\", \"Ecart Level\", \"Ecart mère\", \"Level_Annuaire\", \"PN_Level\", \"Mère_Annuaire\", \"PN_UO_mère\"]]"
   ]
  },
  {
   "cell_type": "code",
   "execution_count": 61,
   "metadata": {},
   "outputs": [],
   "source": [
    "Ecart[\"PN_Level_mère\"] = Ecart.apply(lambda x: \"L\" + str(int(x[\"PN_Level\"][1])-1),axis=1)\n",
    "Ecart[\"PN_Level_mère\"] = Ecart[\"PN_Level_mère\"].apply(lambda x: \"L1\" if x==\"L0\" else x)"
   ]
  },
  {
   "cell_type": "code",
   "execution_count": 62,
   "metadata": {},
   "outputs": [],
   "source": [
    "mother= UO_Annuaire[['uid', 'Label', 'Level_Annuaire']]"
   ]
  },
  {
   "cell_type": "code",
   "execution_count": 63,
   "metadata": {},
   "outputs": [],
   "source": [
    "Ecart = Ecart.merge(mother, right_on=[\"Label\", \"Level_Annuaire\"] , left_on=[\"PN_UO_mère\",\"PN_Level_mère\"] , how=\"left\")"
   ]
  },
  {
   "cell_type": "code",
   "execution_count": 64,
   "metadata": {},
   "outputs": [],
   "source": [
    "Ecart = Ecart.drop([\"Label_y\", \"Level_Annuaire_y\"], axis=1)"
   ]
  },
  {
   "cell_type": "code",
   "execution_count": 65,
   "metadata": {},
   "outputs": [],
   "source": [
    "Ecart = Ecart.rename( {\"Level_Annuaire_x\":\"Level_Annuaire\"}, axis=1)"
   ]
  },
  {
   "cell_type": "code",
   "execution_count": 66,
   "metadata": {},
   "outputs": [],
   "source": [
    "Ecart = Ecart.rename({'uid_x':'uid', 'uid_y': \"PN_UO_mère à ajouter\",\"Label_x\":\"Label\"}, axis=1)\n",
    "Ecart = Ecart[[\"uid\", \"Label\", \"Ecart Level\", \"Ecart mère\", \"Level_Annuaire\", \"PN_Level\", \"Mère_Annuaire\", \"PN_UO_mère\", \"PN_UO_mère à ajouter\", \"PN_Level_mère\"]]\n",
    "Ecart = Ecart.sort_values(\"PN_Level\")"
   ]
  },
  {
   "cell_type": "markdown",
   "metadata": {},
   "source": [
    "## Recherche Niveau différent"
   ]
  },
  {
   "cell_type": "markdown",
   "metadata": {},
   "source": [
    "## Export"
   ]
  },
  {
   "cell_type": "code",
   "execution_count": 67,
   "metadata": {},
   "outputs": [],
   "source": [
    "with pd.ExcelWriter(r'C:\\Users\\sgasmi\\Desktop\\Export Python\\Update UO annuaire.xlsx') as writer:\n",
    "    if len(UO_to_add)>0:\n",
    "        UO_to_add.to_excel(writer, sheet_name='UO à ajouter', index=False)\n",
    "    if len(UO_to_delete)>0:    \n",
    "        UO_to_delete.to_excel(writer, sheet_name='UO à supprimer', index=False)\n",
    "    if len(Ecart)>0:\n",
    "        Ecart.to_excel(writer, sheet_name='Modification à effectuer', index=False)   "
   ]
  },
  {
   "cell_type": "code",
   "execution_count": null,
   "metadata": {},
   "outputs": [],
   "source": []
  }
 ],
 "metadata": {
  "kernelspec": {
   "display_name": "Python 3",
   "language": "python",
   "name": "python3"
  },
  "language_info": {
   "codemirror_mode": {
    "name": "ipython",
    "version": 3
   },
   "file_extension": ".py",
   "mimetype": "text/x-python",
   "name": "python",
   "nbconvert_exporter": "python",
   "pygments_lexer": "ipython3",
   "version": "3.8.3"
  }
 },
 "nbformat": 4,
 "nbformat_minor": 4
}
