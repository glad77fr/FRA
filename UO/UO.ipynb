{
 "cells": [
  {
   "cell_type": "code",
   "execution_count": 1,
   "metadata": {},
   "outputs": [],
   "source": [
    "import pandas as pd"
   ]
  },
  {
   "cell_type": "code",
   "execution_count": 2,
   "metadata": {},
   "outputs": [],
   "source": [
    "ref = pd.read_excel(r\"C:\\Users\\sgasmi\\Desktop\\Extractions\\UO_PN.xlsx\") # UO\n",
    "eff = pd.read_excel(r\"C:\\Users\\sgasmi\\Desktop\\Extractions\\Effectif.xlsx\") # Effectif"
   ]
  },
  {
   "cell_type": "code",
   "execution_count": 3,
   "metadata": {},
   "outputs": [],
   "source": [
    "## Modification du fichier effectif\n",
    "eff = eff[[\"Matricule\",\"Nom\", \"Prénom\",\"BU\",\"UT\"]]"
   ]
  },
  {
   "cell_type": "code",
   "execution_count": 4,
   "metadata": {},
   "outputs": [],
   "source": [
    "ref[\"Level fille\"] = ref[\"Code type d'unité de tr.\"].apply(lambda x: x[1:])\n",
    "ref[\"Level mère\"] = ref.iloc[:, 8]\n",
    "ref[\"Level mère\"] = ref[\"Level mère\"].fillna(\"00\")\n",
    "ref[\"Level mère\"] = ref[\"Level mère\"].apply(lambda x: x[1:])\n",
    "ref[\"Level mère\"] = ref[\"Level mère\"].astype(\"int64\")\n",
    "ref[\"Level fille\"] = ref[\"Level fille\"].astype(\"int64\")\n",
    "\n",
    "def check_level(level_fille, level_mere):\n",
    "    if level_fille>0:\n",
    "        if (level_fille-1) != level_mere:\n",
    "            return 1\n",
    "        else:\n",
    "            return 0\n",
    "    else:\n",
    "        return 0\n",
    "\n",
    "ref[\"Anomalie niveau\"] = ref.apply(lambda x: check_level(x[\"Level fille\"],x[\"Level mère\"]), axis=1)\n",
    "ref.loc[ref[\"Matricule RH\"].isna()==True, \"RH Manquant\"] = 1\n",
    "ref.loc[ref[\"Matricule Manager\"].isna()==True, \"Manager Manquant\"] = 1\n",
    "anomalie_niveau = ref.loc[(ref[\"Anomalie niveau\"]==1) & (ref[\"Nom de l'unité de travail\"] != \"Racine\")]\n",
    "anomalie_RH = ref.loc[ref[\"RH Manquant\"]==1]\n",
    "anomalie_Manager = ref.loc[ref[\"Manager Manquant\"]==1]"
   ]
  },
  {
   "cell_type": "code",
   "execution_count": 5,
   "metadata": {},
   "outputs": [],
   "source": [
    "if len(anomalie_niveau)>0 or len(anomalie_RH)>0 or len(anomalie_Manager)>0 :\n",
    "    anomalie_niveau.to_excel(r'C:\\Users\\sgasmi\\Desktop\\Export Python\\Anomalie UO.xlsx', index=False)\n",
    "    with pd.ExcelWriter(r'C:\\Users\\sgasmi\\Desktop\\Export Python\\Anomalie UO.xlsx') as writer:  \n",
    "        anomalie_niveau.to_excel(writer, sheet_name='Anomalies_niveau', index=False)\n",
    "        anomalie_RH.to_excel(writer, sheet_name='Anomalies_RH', index=False)\n",
    "        anomalie_Manager.to_excel(writer, sheet_name='Anomalie_Manager', index=False)\n",
    "assert len(anomalie_niveau)==0 , print(\"Incohérence dans le référentiel\")"
   ]
  },
  {
   "cell_type": "code",
   "execution_count": 6,
   "metadata": {},
   "outputs": [],
   "source": [
    "ref = ref.loc[ref[\"Code type d'unité de tr.\"]!=\"00\"] # Suppression du niveau 0\n",
    "ref.reset_index(drop=True, inplace=True)"
   ]
  },
  {
   "cell_type": "code",
   "execution_count": 7,
   "metadata": {},
   "outputs": [],
   "source": [
    "col = [\"1\",\"2\",\"3\",\"4\",\"5\",\"6\",\"7\",\"8\"]\n",
    "result = pd.DataFrame(columns=col)"
   ]
  },
  {
   "cell_type": "code",
   "execution_count": 8,
   "metadata": {},
   "outputs": [
    {
     "name": "stdout",
     "output_type": "stream",
     "text": [
      "Empty DataFrame\n",
      "Columns: [Code de l'unité de travail, Nom de l'unité de travail, Code type d'unité de tr., Objectifs, Date de début, Date de fin, Description, Code unité de tr. mère, Code type d'unité de tr..1, Date de début rattachement, Date de fin rattachement, Code externe UT, Code de l'unité de travail.1, Matricule Manager, Nom Manager, Date de début Manager, Prénom Manager, Matricule RH, Nom RH, Date de début RH, Prénom RH, Level fille, Level mère, Anomalie niveau, RH Manquant, Manager Manquant]\n",
      "Index: []\n",
      "\n",
      "[0 rows x 26 columns]\n"
     ]
    }
   ],
   "source": [
    "print(ref.loc[ref[\"Code de l'unité de travail\"]==\"ROOT\"])"
   ]
  },
  {
   "cell_type": "code",
   "execution_count": 9,
   "metadata": {},
   "outputs": [],
   "source": [
    "for i, val in enumerate(ref.iterrows()):\n",
    "    col_cible = ref.at[i, \"Code type d'unité de tr.\"][1]\n",
    "    # Alimentation de la première colonne\n",
    "    result.at[i, col_cible] = ref.at[i,\"Nom de l'unité de travail\"]\n",
    "    #Alimentation des autres colonnes\n",
    "    cmere = \"\"\n",
    "\n",
    "    while int(col_cible)>1: \n",
    "        if cmere== \"\":\n",
    "            cmere=ref.at[i,\"Code unité de tr. mère\"]\n",
    "        try:\n",
    "            nuo = ref.loc[ref[\"Code de l'unité de travail\"]==cmere,\"Nom de l'unité de travail\"].iloc[0]\n",
    "        except:\n",
    "            print(ref.at[i,\"Nom de l'unité de travail\"])\n",
    "        col_cible= str(int(col_cible)-1)\n",
    "        result.at[i, col_cible] = nuo\n",
    "        cmere = ref.loc[ref[\"Code de l'unité de travail\"]==cmere,\"Code unité de tr. mère\"].iloc[0]\n",
    "        \n",
    "     \n",
    "        #result.at[i, col_cible-1] = ref.loc[ref[\"Nom de l'unité de travail\"]==ref.at[i,\"Code unité de tr. mère\"]]\n",
    "result = result.merge(ref[[\"Code de l'unité de travail\",\"Nom de l'unité de travail\",\"Code type d'unité de tr.\", \"Description\"]], left_index=True, right_index=True)"
   ]
  },
  {
   "cell_type": "code",
   "execution_count": 10,
   "metadata": {},
   "outputs": [],
   "source": [
    "# Réorganisation des colonnes\n",
    "\n",
    "col = result.columns\n",
    "l1 = list(col[-3:])\n",
    "l2 = list(list(col[:-3]))\n",
    "col = l1 + l2\n",
    "\n",
    "result = result[col]\n",
    "result.columns=[\"Nom de l'unité de travail\",\"Code type d'unité de tr.\", \"Description\",\n",
    "       \"L1\", \"L2\", \"L3\", \"L4\", \"L5\", \"L6\", \"L7\", \"L8\", \"Code de l'unité de travail\", ]\n",
    "\n",
    "result = result[[\"Code de l'unité de travail\",\"Nom de l'unité de travail\", \"Code type d'unité de tr.\", \"Description\",\n",
    "       \"L1\", \"L2\", \"L3\", \"L4\", \"L5\", \"L6\", \"L7\", \"L8\"]]"
   ]
  },
  {
   "cell_type": "markdown",
   "metadata": {},
   "source": [
    "### Ajout de l'UO mère"
   ]
  },
  {
   "cell_type": "code",
   "execution_count": 11,
   "metadata": {},
   "outputs": [],
   "source": [
    "mere = ref[[\"Code de l'unité de travail\", \"Code unité de tr. mère\"]]\n",
    "result = result.merge(mere, on=\"Code de l'unité de travail\", how=\"left\")\n",
    "mere = ref[[\"Code de l'unité de travail\", \"Nom de l'unité de travail\"]]\n",
    "result = result.merge(mere, left_on=\"Code unité de tr. mère\", right_on=\"Code de l'unité de travail\", how=\"left\")\n",
    "result = result.drop(columns=[\"Code unité de tr. mère\", \"Code de l'unité de travail_y\"], axis=1)\n",
    "result = result.rename(columns={\"Nom de l'unité de travail_y\": \"UO mère\", \"Code de l'unité de travail_x\":\"Code de l'unité de travail\", \"Nom de l'unité de travail_x\": \"Nom de l'unité de travail\"})\n",
    "result.loc[result[\"UO mère\"].isna()==True, \"UO mère\"] = \"ROOT\"\n",
    "result = result.sort_values(\"Code type d'unité de tr.\")"
   ]
  },
  {
   "cell_type": "code",
   "execution_count": 12,
   "metadata": {},
   "outputs": [],
   "source": [
    "with pd.ExcelWriter(r'C:\\Users\\sgasmi\\Desktop\\Export Python\\Referentiel UO.xlsx') as writer:\n",
    "    result.to_excel(writer, sheet_name='Référentiel UO', index=False)\n",
    "    eff.to_excel(writer, sheet_name='Affectation des salariés', index=False)"
   ]
  },
  {
   "cell_type": "code",
   "execution_count": null,
   "metadata": {},
   "outputs": [],
   "source": []
  }
 ],
 "metadata": {
  "kernelspec": {
   "display_name": "Python 3",
   "language": "python",
   "name": "python3"
  },
  "language_info": {
   "codemirror_mode": {
    "name": "ipython",
    "version": 3
   },
   "file_extension": ".py",
   "mimetype": "text/x-python",
   "name": "python",
   "nbconvert_exporter": "python",
   "pygments_lexer": "ipython3",
   "version": "3.8.3"
  }
 },
 "nbformat": 4,
 "nbformat_minor": 4
}
