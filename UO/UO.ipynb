{
 "cells": [
  {
   "cell_type": "code",
   "execution_count": 306,
   "metadata": {},
   "outputs": [],
   "source": [
    "import pandas as pd\n",
    "%run C:\\Users\\sgasmi\\Notebooks\\Column_autosize.ipynb"
   ]
  },
  {
   "cell_type": "code",
   "execution_count": 307,
   "metadata": {},
   "outputs": [],
   "source": [
    "ref = pd.read_excel(r\"C:\\Users\\sgasmi\\Desktop\\Extractions\\Structure_UO.xlsx\") # UO\n",
    "eff = pd.read_excel(r\"C:\\Users\\sgasmi\\Desktop\\Extractions\\Effectif_Data_Quality.xlsx\") # Effectif\n",
    "ref_to_add = ref.copy()"
   ]
  },
  {
   "cell_type": "code",
   "execution_count": 308,
   "metadata": {},
   "outputs": [],
   "source": [
    "## Modification du fichier effectif\n",
    "eff = eff[[\"Matricule\",\"Nom\", \"Prénom\",\"BU\",\"Code UT\",\"UO\", \"Nom de l'ent. juridique\", \"Matricule Manager Direct\",\"Nom Manager Direct\", \"Prénom Manager Direct\", \"Matricule responsable UO\", \"Nom responsable UO\", \"Prénom responsabe UO\", \"Matricule RRH Direct\", \"Nom RRH Direct\", \"Prénom RRH Direct\", \"Matricule RRH d'UO\", \"Prénom RRH d'UO\", \"Nom RRH d'UO\"]]"
   ]
  },
  {
   "cell_type": "code",
   "execution_count": 309,
   "metadata": {},
   "outputs": [],
   "source": [
    "ref[\"Level fille\"] = ref[\"Code type d'unité de tr.\"].apply(lambda x: x[1:])\n",
    "ref[\"Level mère\"] = ref.iloc[:, 8]\n",
    "ref[\"Level mère\"] = ref[\"Level mère\"].fillna(\"00\")\n",
    "ref[\"Level mère\"] = ref[\"Level mère\"].apply(lambda x: x[1:])\n",
    "ref[\"Level mère\"] = ref[\"Level mère\"].astype(\"int64\")\n",
    "ref[\"Level fille\"] = ref[\"Level fille\"].astype(\"int64\")\n",
    "\n",
    "def check_level(level_fille, level_mere):\n",
    "    if level_fille>0:\n",
    "        if (level_fille-1) != level_mere:\n",
    "            return 1\n",
    "        else:\n",
    "            return 0\n",
    "    else:\n",
    "        return 0\n",
    "\n",
    "ref[\"Anomalie niveau\"] = ref.apply(lambda x: check_level(x[\"Level fille\"],x[\"Level mère\"]), axis=1)\n",
    "ref.loc[ref[\"Matricule RH\"].isna()==True, \"RH Manquant\"] = 1\n",
    "ref.loc[ref[\"Matricule Manager\"].isna()==True, \"Manager Manquant\"] = 1\n",
    "anomalie_niveau = ref.loc[(ref[\"Anomalie niveau\"]==1) & (ref[\"Nom de l'unité de travail\"] != \"Racine\")]\n",
    "anomalie_RH = ref.loc[ref[\"RH Manquant\"]==1]\n",
    "anomalie_Manager = ref.loc[ref[\"Manager Manquant\"]==1]"
   ]
  },
  {
   "cell_type": "code",
   "execution_count": 310,
   "metadata": {},
   "outputs": [],
   "source": [
    "if len(anomalie_niveau)>0 or len(anomalie_RH)>0 or len(anomalie_Manager)>0 :\n",
    "    anomalie_niveau.to_excel(r'C:\\Users\\sgasmi\\Desktop\\Export Python\\Anomalie UO.xlsx', index=False)\n",
    "    with pd.ExcelWriter(r'C:\\Users\\sgasmi\\Desktop\\Export Python\\Anomalie UO.xlsx') as writer:\n",
    "        if len(anomalie_niveau) != 0:\n",
    "            anomalie_niveau.to_excel(writer, sheet_name='Anomalies_niveau', index=False)\n",
    "        anomalie_RH.to_excel(writer, sheet_name='Anomalies_RH', index=False)\n",
    "        anomalie_Manager.to_excel(writer, sheet_name='Anomalie_Manager', index=False)\n",
    "assert len(anomalie_niveau)==0 , print(\"Incohérence dans le référentiel\")"
   ]
  },
  {
   "cell_type": "code",
   "execution_count": 311,
   "metadata": {},
   "outputs": [],
   "source": [
    "ref = ref.loc[ref[\"Code type d'unité de tr.\"]!=\"00\"] # Suppression du niveau 0\n",
    "ref.reset_index(drop=True, inplace=True)"
   ]
  },
  {
   "cell_type": "code",
   "execution_count": 312,
   "metadata": {},
   "outputs": [],
   "source": [
    "col = [\"1\",\"2\",\"3\",\"4\",\"5\",\"6\",\"7\",\"8\"]\n",
    "result = pd.DataFrame(columns=col)"
   ]
  },
  {
   "cell_type": "code",
   "execution_count": 313,
   "metadata": {},
   "outputs": [
    {
     "name": "stdout",
     "output_type": "stream",
     "text": [
      "Empty DataFrame\n",
      "Columns: [Code de l'unité de travail, Nom de l'unité de travail, Code type d'unité de tr., Objectifs, Date de début, Date de fin, Description, Code unité de tr. mère, Code type d'unité de tr..1, Date de début rattachement, Date de fin rattachement, Code externe UT, Code de l'unité de travail.1, Matricule Manager, Nom Manager, Date de début Manager, Prénom Manager, Matricule RH, Nom RH, Date de début RH, Prénom RH, Level fille, Level mère, Anomalie niveau, RH Manquant, Manager Manquant]\n",
      "Index: []\n",
      "\n",
      "[0 rows x 26 columns]\n"
     ]
    }
   ],
   "source": [
    "print(ref.loc[ref[\"Code de l'unité de travail\"]==\"ROOT\"])"
   ]
  },
  {
   "cell_type": "code",
   "execution_count": 314,
   "metadata": {},
   "outputs": [],
   "source": [
    "for i, val in enumerate(ref.iterrows()):\n",
    "    col_cible = ref.at[i, \"Code type d'unité de tr.\"][1]\n",
    "    # Alimentation de la première colonne\n",
    "    result.at[i, col_cible] = ref.at[i,\"Nom de l'unité de travail\"]\n",
    "    #Alimentation des autres colonnes\n",
    "    cmere = \"\"\n",
    "\n",
    "    while int(col_cible)>1: \n",
    "        if cmere== \"\":\n",
    "            cmere=ref.at[i,\"Code unité de tr. mère\"]\n",
    "        try:\n",
    "            nuo = ref.loc[ref[\"Code de l'unité de travail\"]==cmere,\"Nom de l'unité de travail\"].iloc[0]\n",
    "        except:\n",
    "            print(ref.at[i,\"Nom de l'unité de travail\"])\n",
    "        col_cible= str(int(col_cible)-1)\n",
    "        result.at[i, col_cible] = nuo\n",
    "        cmere = ref.loc[ref[\"Code de l'unité de travail\"]==cmere,\"Code unité de tr. mère\"].iloc[0]\n",
    "        \n",
    "    #result.at[i, col_cible-1] = ref.loc[ref[\"Nom de l'unité de travail\"]==ref.at[i,\"Code unité de tr. mère\"]]\n",
    "result = result.merge(ref[[\"Code de l'unité de travail\",\"Nom de l'unité de travail\",\"Code type d'unité de tr.\", \"Description\"]], left_index=True, right_index=True)"
   ]
  },
  {
   "cell_type": "code",
   "execution_count": 315,
   "metadata": {},
   "outputs": [],
   "source": [
    "# Réorganisation des colonnes\n",
    "col = result.columns\n",
    "l1 = list(col[-3:])\n",
    "l2 = list(list(col[:-3]))\n",
    "col = l1 + l2\n",
    "\n",
    "result = result[col]\n",
    "result.columns=[\"Nom de l'unité de travail\",\"Code type d'unité de tr.\", \"Description\",\n",
    "       \"L1\", \"L2\", \"L3\", \"L4\", \"L5\", \"L6\", \"L7\", \"L8\", \"Code de l'unité de travail\", ]\n",
    "\n",
    "result = result[[\"Code de l'unité de travail\",\"Nom de l'unité de travail\", \"Code type d'unité de tr.\", \"Description\",\n",
    "       \"L1\", \"L2\", \"L3\", \"L4\", \"L5\", \"L6\", \"L7\", \"L8\"]]"
   ]
  },
  {
   "cell_type": "code",
   "execution_count": 316,
   "metadata": {},
   "outputs": [],
   "source": [
    "# Ajout de la notion BU\n",
    "result.loc[result[\"L2\"].str.startswith(\"OL3\")==True, \"BU\"] = \"OL3\"\n",
    "#result.loc[(result[\"L2\"].isin([\"HR\", \"QP\", \"DGP\", \"ISDT\", \"3SEP\", \"RD\", \"OPX\", \"OPR\"])) |(result[\"L2\"].isna()==True), \"BU\"] = \"FRA-CORP\"\n",
    "result[\"BU\"] = result.apply(lambda x: x[\"L2\"] if str(x[\"BU\"])==\"nan\" else x[\"BU\"], axis=1)\n",
    "#result[\"BU\"] = result.apply(lambda x: x[\"L2\"] if x[\"BU\"]==\"\" else \"COCO\", axis=1)"
   ]
  },
  {
   "cell_type": "markdown",
   "metadata": {},
   "source": [
    "### Ajout de l'UO mère"
   ]
  },
  {
   "cell_type": "code",
   "execution_count": 317,
   "metadata": {},
   "outputs": [],
   "source": [
    "mere = ref[[\"Code de l'unité de travail\", \"Code unité de tr. mère\"]]\n",
    "result = result.merge(mere, on=\"Code de l'unité de travail\", how=\"left\")\n",
    "mere = ref[[\"Code de l'unité de travail\", \"Nom de l'unité de travail\"]]\n",
    "result = result.merge(mere, left_on=\"Code unité de tr. mère\", right_on=\"Code de l'unité de travail\", how=\"left\")\n",
    "#result = result.drop(columns=[\"Code unité de tr. mère\", \"Code de l'unité de travail_y\"], axis=1)\n",
    "result = result.drop(columns=[ \"Code de l'unité de travail_y\"], axis=1)\n",
    "result = result.rename(columns={\"Nom de l'unité de travail_y\": \"UO mère\", \"Code de l'unité de travail_x\":\"Code de l'unité de travail\", \"Nom de l'unité de travail_x\": \"Nom de l'unité de travail\"})\n",
    "result.loc[result[\"UO mère\"].isna()==True, \"UO mère\"] = \"ROOT\"\n",
    "result = result.sort_values(\"Code type d'unité de tr.\")"
   ]
  },
  {
   "cell_type": "code",
   "execution_count": 318,
   "metadata": {},
   "outputs": [
    {
     "data": {
      "text/plain": [
       "(1227, 15)"
      ]
     },
     "execution_count": 318,
     "metadata": {},
     "output_type": "execute_result"
    }
   ],
   "source": [
    "result.shape"
   ]
  },
  {
   "cell_type": "code",
   "execution_count": 319,
   "metadata": {},
   "outputs": [],
   "source": [
    "result = result.rename(columns={\"Code de l'unité de travail\":\"Code de l'unité organisationnelle\", \"Nom de l'unité de travail\" : \"Nom de l'unité organisationnelle\", \"Code type d'unité de tr.\" : \"Niveau\"})"
   ]
  },
  {
   "cell_type": "code",
   "execution_count": 320,
   "metadata": {},
   "outputs": [],
   "source": [
    "result =result.merge(ref_to_add[[\"Code de l'unité de travail\", \"Matricule Manager\", \"Nom Manager\", \"Prénom Manager\", \"Matricule RH\", \"Nom RH\", \"Prénom RH\"]], how=\"left\", left_on=[\"Code de l'unité organisationnelle\"], right_on=\"Code de l'unité de travail\")\n",
    "result = result.rename(columns={\"Matricule RH\": \"Matricule RRH\", \"Nom RH\": \"Nom RRH\", \"Prénom RH\": \"Prénom RRH\"})"
   ]
  },
  {
   "cell_type": "code",
   "execution_count": 321,
   "metadata": {},
   "outputs": [],
   "source": [
    "eff = eff.sort_values([\"BU\"])"
   ]
  },
  {
   "cell_type": "code",
   "execution_count": 322,
   "metadata": {},
   "outputs": [
    {
     "data": {
      "text/plain": [
       "array([nan, 'FL', '3SEP', 'ICSP', 'OSCP', 'DPIT', 'IB', 'SD', 'SCM',\n",
       "       'PCM', 'OPQ', 'HR', 'DG', 'DTI', 'OL3', 'OPR'], dtype=object)"
      ]
     },
     "execution_count": 322,
     "metadata": {},
     "output_type": "execute_result"
    }
   ],
   "source": [
    "result[\"BU\"].unique()"
   ]
  },
  {
   "cell_type": "code",
   "execution_count": 323,
   "metadata": {},
   "outputs": [],
   "source": [
    "with pd.ExcelWriter(r'C:\\Users\\sgasmi\\Desktop\\Export Python\\Referentiel UO.xlsx') as writer:\n",
    "    result.to_excel(writer, sheet_name='Référentiel UO', index=False)\n",
    "    eff.to_excel(writer, sheet_name='Affectation des salariés', index=False)\n",
    "    for BU in list(result[\"BU\"].unique()):\n",
    "        if str(BU) != \"nan\":\n",
    "            result.loc[result[\"BU\"]==BU].to_excel(writer, sheet_name=BU, index=False)"
   ]
  },
  {
   "cell_type": "markdown",
   "metadata": {},
   "source": [
    "## Ajout du nombre de salariés"
   ]
  },
  {
   "cell_type": "code",
   "execution_count": 324,
   "metadata": {},
   "outputs": [],
   "source": [
    "df_nb_salarie = eff.groupby([\"UO\"])[\"Matricule\"].count().to_frame(name = 'Nb salarié(s)').reset_index()\n",
    "result = result.merge(df_nb_salarie, left_on=[\"Nom de l'unité organisationnelle\"], right_on=[\"UO\"], how='left')\n",
    "result = result.drop([\"UO\"], axis=1)\n",
    "result.loc[result[\"Nb salarié(s)\"].isna()==True, \"Nb salarié(s)\"] = 0"
   ]
  },
  {
   "cell_type": "code",
   "execution_count": 325,
   "metadata": {},
   "outputs": [],
   "source": [
    "list_df = []\n",
    "sheet_names =[]\n",
    "list_df.append(result)\n",
    "list_df.append(eff)\n",
    "sheet_names.append(\"Référentiel UO\")\n",
    "sheet_names.append('Affectation des salariés')\n",
    "\n",
    "for BU in list(result[\"BU\"].unique()):\n",
    "    if str(BU) != \"nan\":\n",
    "        list_df.append(result.loc[result[\"BU\"]==BU])\n",
    "        sheet_names.append(str(BU))"
   ]
  },
  {
   "cell_type": "code",
   "execution_count": 326,
   "metadata": {},
   "outputs": [],
   "source": [
    "resize_column(list_df, sheet_names, r'C:\\Users\\sgasmi\\Desktop\\Export Python\\Referentiel UO.xlsx' )"
   ]
  },
  {
   "cell_type": "code",
   "execution_count": 327,
   "metadata": {},
   "outputs": [],
   "source": [
    "# Création du référentiel pour la dataviz"
   ]
  },
  {
   "cell_type": "code",
   "execution_count": 328,
   "metadata": {},
   "outputs": [],
   "source": [
    "result[\"Detail\"] = result.apply(lambda x: \"Resp: \" + str(x[\"Prénom Manager\"]) + \" \" + str(x[\"Nom Manager\"]), axis=1)\n",
    "result[\"RRH\"] = result.apply(lambda x : \"RRH : \" + str(x[\"Prénom RRH\"]) + \" \" + str(x[\"Nom RRH\"]), axis=1)"
   ]
  },
  {
   "cell_type": "code",
   "execution_count": 329,
   "metadata": {},
   "outputs": [],
   "source": [
    "result.loc[result[\"UO mère\"]==\"ROOT\", \"Code unité de tr. mère\"] = 10000\n",
    "result.loc[result[\"Nom de l'unité organisationnelle\"]==\"FRAMATOME\", \"Nom de l'unité organisationnelle\"] = \"FRA\"\n",
    "new_row = {\"Code de l'unité organisationnelle\":'10000', \"Nom de l'unité organisationnelle\":\"FRAMATOME\", \"Description\":\"FRAMATOME\"}\n",
    "\n",
    "#append row to the dataframe\n",
    "result = result.append(new_row, ignore_index=True)\n",
    "list_df = []\n",
    "sheet_names =[]\n",
    "list_df.append(result)\n",
    "list_df.append(eff)\n",
    "sheet_names.append(\"Référentiel UO\")\n",
    "sheet_names.append('Affectation des salariés')\n",
    "\n",
    "for BU in list(result[\"BU\"].unique()):\n",
    "    if str(BU) != \"nan\":\n",
    "        new_res= result.copy()\n",
    "        new_res.loc[new_res[\"Niveau\"]==\"L2\", \"Code unité de tr. mère\"] = \"\"\n",
    "        list_df.append(new_res.loc[new_res[\"BU\"]==BU])\n",
    "        sheet_names.append(str(BU))\n",
    "\n",
    "resize_column(list_df, sheet_names, r'C:\\Users\\sgasmi\\Desktop\\Export Python\\Referentiel UO PBI.xlsx' )"
   ]
  }
 ],
 "metadata": {
  "kernelspec": {
   "display_name": "Python 3",
   "language": "python",
   "name": "python3"
  },
  "language_info": {
   "codemirror_mode": {
    "name": "ipython",
    "version": 3
   },
   "file_extension": ".py",
   "mimetype": "text/x-python",
   "name": "python",
   "nbconvert_exporter": "python",
   "pygments_lexer": "ipython3",
   "version": "3.8.3"
  }
 },
 "nbformat": 4,
 "nbformat_minor": 4
}
