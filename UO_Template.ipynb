{
 "cells": [
  {
   "cell_type": "code",
   "execution_count": 42,
   "metadata": {},
   "outputs": [],
   "source": [
    "import pandas as pd\n",
    "from openpyxl import load_workbook\n",
    "from openpyxl import Workbook\n",
    "import openpyxl\n",
    "from openpyxl.worksheet.datavalidation import DataValidation\n",
    "import datetime as dt"
   ]
  },
  {
   "cell_type": "markdown",
   "metadata": {},
   "source": [
    "## Chargement des fichiers source"
   ]
  },
  {
   "cell_type": "code",
   "execution_count": 43,
   "metadata": {},
   "outputs": [],
   "source": [
    "UO_ref = pd.read_excel(r\"C:\\Users\\sgasmi\\Desktop\\Export Python\\Referentiel UO.xlsx\", sheet_name=\"Référentiel UO\")\n",
    "UO_aff = pd.read_excel(r\"C:\\Users\\sgasmi\\Desktop\\Export Python\\Referentiel UO.xlsx\", sheet_name=\"Affectation des salariés\")\n",
    "sal = pd.read_excel(r\"C:\\Users\\sgasmi\\Desktop\\Extractions\\Effectif_Data_Quality.xlsx\", converters={'Matricule':str})\n",
    "loc_excel =r\"C:\\Users\\sgasmi\\Desktop\\Template\\Template UO.xlsx\""
   ]
  },
  {
   "cell_type": "markdown",
   "metadata": {},
   "source": [
    "### Transformation des fichiers source"
   ]
  },
  {
   "cell_type": "code",
   "execution_count": 44,
   "metadata": {},
   "outputs": [],
   "source": [
    "UO_aff[\"Salarié\"] = UO_aff.apply(lambda x : x[\"Nom\"] + \" \" + x[\"Prénom\"] + \" (\" + str(x[\"Matricule\"]) + \")\", axis=1)"
   ]
  },
  {
   "cell_type": "code",
   "execution_count": 45,
   "metadata": {},
   "outputs": [],
   "source": [
    "cols = [\"Salarié\", 'Matricule', 'Nom', 'Prénom', 'BU', 'Code UT', 'UO',\n",
    "       \"Nom de l'ent. juridique\", 'Matricule Manager Direct',\n",
    "       'Nom Manager Direct', 'Prénom Manager Direct',\n",
    "       'Matricule responsable UO', 'Nom responsable UO',\n",
    "       'Prénom responsabe UO', 'Matricule RRH Direct', 'Nom RRH Direct',\n",
    "       'Prénom RRH Direct', \"Matricule RRH d'UO\", \"Prénom RRH d'UO\",\n",
    "       \"Nom RRH d'UO\"]\n",
    "UO_aff = UO_aff[cols]"
   ]
  },
  {
   "cell_type": "code",
   "execution_count": 46,
   "metadata": {},
   "outputs": [],
   "source": [
    "UO_aff = UO_aff.sort_values([\"Salarié\"])"
   ]
  },
  {
   "cell_type": "code",
   "execution_count": 47,
   "metadata": {},
   "outputs": [],
   "source": [
    "UO_ref = UO_ref[[\"Nom de l'unité organisationnelle\",\"Code de l'unité organisationnelle\",\n",
    "       'Niveau', 'Description', 'L1', 'L2', 'L3', 'L4', 'L5', 'L6', 'L7', 'L8',\n",
    "       'BU', 'Code unité de tr. mère', 'UO mère', \"Code de l'unité de travail\",\n",
    "       'Matricule Manager', 'Nom Manager', 'Prénom Manager', 'Matricule RRH',\n",
    "       'Nom RRH', 'Prénom RRH','Nb salarié(s)', 'Nb enfants', 'Manager vide',\n",
    "       'RRH vide', 'Date mise à jour']]"
   ]
  },
  {
   "cell_type": "code",
   "execution_count": 48,
   "metadata": {},
   "outputs": [],
   "source": [
    "UO_ref = UO_ref.sort_values([\"Nom de l'unité organisationnelle\"])"
   ]
  },
  {
   "cell_type": "code",
   "execution_count": 49,
   "metadata": {},
   "outputs": [],
   "source": [
    "sal = sal[sal[\"Code Contrat\"].isin([\"STA2\", \"STA1\"])==False].reset_index(drop=True)\n",
    "sal = sal[[\"Nom\", \"Prénom\",\"Matricule\"]]\n",
    "sal[\"Salarié\"] = sal.apply(lambda x: x[\"Nom\"] + \" \" + x[\"Prénom\"] + \" (\" + str(x[\"Matricule\"]) + \")\", axis=1)\n",
    "sal = sal[['Salarié', 'Nom', 'Prénom', 'Matricule']]\n",
    "sal = sal.sort_values([\"Salarié\"])"
   ]
  },
  {
   "cell_type": "markdown",
   "metadata": {},
   "source": [
    "## Ajout des onglets actualisés dans le template"
   ]
  },
  {
   "cell_type": "code",
   "execution_count": 50,
   "metadata": {},
   "outputs": [],
   "source": [
    "wb = load_workbook(filename = loc_excel)"
   ]
  },
  {
   "cell_type": "code",
   "execution_count": 51,
   "metadata": {},
   "outputs": [],
   "source": [
    "sheet_to_delete = [\"UO\", \"Affectation salariés\", \"Liste salariés\"]\n",
    "\n",
    "for sheet in sheet_to_delete:\n",
    "    wb.remove(wb[sheet])\n",
    "  \n",
    "wb.save(loc_excel)"
   ]
  },
  {
   "cell_type": "code",
   "execution_count": 52,
   "metadata": {},
   "outputs": [],
   "source": [
    "with pd.ExcelWriter(loc_excel, engine='openpyxl') as writer:\n",
    "    writer.book = wb\n",
    "    writer.sheets = {\n",
    "        worksheet.title: worksheet\n",
    "        for worksheet in wb.worksheets\n",
    "    }\n",
    "    UO_ref.to_excel(writer, sheet_name = 'UO', index=False)\n",
    "    UO_aff.to_excel(writer, sheet_name = 'Affectation salariés', index=False)\n",
    "    sal.to_excel(writer, sheet_name = 'Liste salariés', index=False)\n",
    "    writer.save()"
   ]
  },
  {
   "cell_type": "markdown",
   "metadata": {},
   "source": [
    "### Ajout date de version"
   ]
  },
  {
   "cell_type": "code",
   "execution_count": 53,
   "metadata": {},
   "outputs": [],
   "source": [
    "today = dt.date.today()\n",
    "date_jour = today.strftime('%d %m %Y')\n",
    "date_jour = date_jour.replace(\" \", \"/\")"
   ]
  },
  {
   "cell_type": "code",
   "execution_count": 54,
   "metadata": {},
   "outputs": [],
   "source": [
    "sheet_UO = wb[\"UO\"]\n",
    "sheet_UO.sheet_state = 'hidden'\n",
    "sheet_aff = wb[\"Affectation salariés\"]\n",
    "sheet_aff.sheet_state = 'hidden'\n",
    "sheet_sal = wb[\"Liste salariés\"]\n",
    "sheet_sal.sheet_state = 'hidden'"
   ]
  },
  {
   "cell_type": "code",
   "execution_count": 55,
   "metadata": {},
   "outputs": [],
   "source": [
    "sheet = wb['Documentation']"
   ]
  },
  {
   "cell_type": "code",
   "execution_count": 56,
   "metadata": {},
   "outputs": [],
   "source": [
    "sheet[\"A1\"] = \"Version du \" + str(date_jour)\n",
    "wb.save(loc_excel)\n",
    "wb.close()"
   ]
  }
 ],
 "metadata": {
  "kernelspec": {
   "display_name": "Python 3",
   "language": "python",
   "name": "python3"
  },
  "language_info": {
   "codemirror_mode": {
    "name": "ipython",
    "version": 3
   },
   "file_extension": ".py",
   "mimetype": "text/x-python",
   "name": "python",
   "nbconvert_exporter": "python",
   "pygments_lexer": "ipython3",
   "version": "3.8.3"
  }
 },
 "nbformat": 4,
 "nbformat_minor": 4
}
