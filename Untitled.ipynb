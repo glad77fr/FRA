{
 "cells": [
  {
   "cell_type": "code",
   "execution_count": 47,
   "metadata": {},
   "outputs": [],
   "source": [
    "import pandas as pd\n",
    "from docx import Document\n",
    "import os.path"
   ]
  },
  {
   "cell_type": "code",
   "execution_count": null,
   "metadata": {},
   "outputs": [],
   "source": []
  },
  {
   "cell_type": "markdown",
   "metadata": {},
   "source": [
    "## Chargement des données"
   ]
  },
  {
   "cell_type": "code",
   "execution_count": 48,
   "metadata": {},
   "outputs": [],
   "source": [
    "augm = pd.read_excel(r\"C:\\Users\\sgasmi\\Desktop\\Dev\\Com&Ben\\Notification des Augmentations\\Bordereau pour Notifications_IBF fichier test.xlsx\")\n",
    "w_folder = r\"C:\\Users\\sgasmi\\Desktop\\Dev\\Com&Ben\\Notification des Augmentations\\Template\""
   ]
  },
  {
   "cell_type": "markdown",
   "metadata": {},
   "source": [
    "## Ouverture d'un fichier"
   ]
  },
  {
   "cell_type": "code",
   "execution_count": 54,
   "metadata": {},
   "outputs": [],
   "source": [
    "rootdir = 'C:\\\\Users\\\\sgasmi\\\\Desktop\\\\Dev\\\\Com&Ben\\\\Notification des Augmentations\\\\Template\\\\'\n",
    "doc = docx.Document(os.path.join(rootdir, \"SR 2020-Notification-IC-STANDARD.docx\"))"
   ]
  },
  {
   "cell_type": "code",
   "execution_count": null,
   "metadata": {},
   "outputs": [],
   "source": []
  }
 ],
 "metadata": {
  "kernelspec": {
   "display_name": "Python 3",
   "language": "python",
   "name": "python3"
  },
  "language_info": {
   "codemirror_mode": {
    "name": "ipython",
    "version": 3
   },
   "file_extension": ".py",
   "mimetype": "text/x-python",
   "name": "python",
   "nbconvert_exporter": "python",
   "pygments_lexer": "ipython3",
   "version": "3.8.3"
  }
 },
 "nbformat": 4,
 "nbformat_minor": 4
}
