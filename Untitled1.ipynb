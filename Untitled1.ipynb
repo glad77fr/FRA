{
 "cells": [
  {
   "cell_type": "code",
   "execution_count": 61,
   "metadata": {},
   "outputs": [],
   "source": [
    "from docxtpl import DocxTemplate"
   ]
  },
  {
   "cell_type": "code",
   "execution_count": 62,
   "metadata": {},
   "outputs": [],
   "source": [
    "context={\"VAL1/comment\":\"dk&dkkd\"}\n",
    "folder_world = r\"C:\\Users\\sgasmi\\Desktop\\Test.docx\"\n",
    "dest= r\"C:\\Users\\sgasmi\\Desktop\\Test2.docx\""
   ]
  },
  {
   "cell_type": "code",
   "execution_count": 63,
   "metadata": {},
   "outputs": [
    {
     "name": "stdout",
     "output_type": "stream",
     "text": [
      "Device: 14.2\n"
     ]
    }
   ],
   "source": [
    "import jinja2\n",
    "\n",
    "values = {'V/comment': 'Device: 14.2',  'post_package_information[1]/comment': 'Device: 14.2-2'}\n",
    "mssg= \"{{values1['V/comment']}}\"\n",
    "x = jinja2.Template(mssg).render(values1=values)\n",
    "\n",
    "print(x)\n"
   ]
  },
  {
   "cell_type": "code",
   "execution_count": 65,
   "metadata": {},
   "outputs": [],
   "source": [
    "context=\"kdkd&kdk\"\n",
    "doc = DocxTemplate(folder_world)\n",
    "doc.render({'context1':context})\n",
    "doc.save(dest)"
   ]
  },
  {
   "cell_type": "code",
   "execution_count": null,
   "metadata": {},
   "outputs": [],
   "source": []
  }
 ],
 "metadata": {
  "kernelspec": {
   "display_name": "Python 3",
   "language": "python",
   "name": "python3"
  },
  "language_info": {
   "codemirror_mode": {
    "name": "ipython",
    "version": 3
   },
   "file_extension": ".py",
   "mimetype": "text/x-python",
   "name": "python",
   "nbconvert_exporter": "python",
   "pygments_lexer": "ipython3",
   "version": "3.8.3"
  }
 },
 "nbformat": 4,
 "nbformat_minor": 4
}
