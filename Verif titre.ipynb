{
 "cells": [
  {
   "cell_type": "code",
   "execution_count": 55,
   "metadata": {},
   "outputs": [],
   "source": [
    "import pandas as pd\n",
    "import matplotlib.pyplot as plt\n",
    "import datetime as dt\n",
    "%run ./Column_autosize.ipynb\n",
    "import win32com.client as win32\n",
    "from jinja2 import Template\n",
    "import sqlite3\n",
    "import datetime"
   ]
  },
  {
   "cell_type": "code",
   "execution_count": 56,
   "metadata": {},
   "outputs": [],
   "source": [
    "fafr = pd.read_excel(r\"C:\\Users\\sgasmi\\Desktop\\Extractions\\Effectif_Data_Quality.xlsx\", converters={'Matricule':str}) # effectif présent\n",
    "titre_sej = pd.read_excel(r\"C:\\Users\\sgasmi\\Desktop\\Extractions\\Titreséjour.xlsx\")\n",
    "nationality = pd.read_excel(r\"C:\\Users\\sgasmi\\Desktop\\Extractions\\Table_Nationalité.xlsx\")"
   ]
  },
  {
   "cell_type": "markdown",
   "metadata": {},
   "source": [
    "### Identification des salariés etrangers"
   ]
  },
  {
   "cell_type": "code",
   "execution_count": 57,
   "metadata": {},
   "outputs": [],
   "source": [
    "UE = [\"DE\",\"BE\",\"BG\",\"HR\",\"DK\",\"ES\",\"FR\",\"GR\",\"NL\",\"IE\",\"IT\",\"LU\",\"MC\",\"NC\",\"PT\",\"CZ\",\"RO\",\"GB\",\"RS\",\"SE\",\"CH\",\"CY\",\"FI\",\"HU\",\"LV\",\"LT\",\"SI\"]\n",
    "nationality_active = nationality.loc[nationality[\"Date de fin\"].isna()==True]\n",
    "nationality_fr = nationality_active.loc[nationality_active[\"Pays\"]==\"FR\", \"Ressource\"]\n",
    "nationality_fr = nationality_fr.unique()\n",
    "strangers = nationality_active.loc[(nationality_active[\"Ressource\"].isin(nationality_fr)==False) & (nationality_active[\"Pays\"].isin(UE)==False), \"Ressource\"].unique()"
   ]
  },
  {
   "cell_type": "markdown",
   "metadata": {},
   "source": [
    "### Recherche des etrangers sans titres de séjour"
   ]
  },
  {
   "cell_type": "code",
   "execution_count": 58,
   "metadata": {},
   "outputs": [
    {
     "name": "stderr",
     "output_type": "stream",
     "text": [
      "<ipython-input-58-0e8b6ee5a2d6>:4: SettingWithCopyWarning: \n",
      "A value is trying to be set on a copy of a slice from a DataFrame.\n",
      "Try using .loc[row_indexer,col_indexer] = value instead\n",
      "\n",
      "See the caveats in the documentation: https://pandas.pydata.org/pandas-docs/stable/user_guide/indexing.html#returning-a-view-versus-a-copy\n",
      "  salarie_notitre[\"Anomalie\"] = \"Salarié sans titre de séjour\"\n"
     ]
    },
    {
     "data": {
      "text/plain": [
       "(85, 64)"
      ]
     },
     "execution_count": 58,
     "metadata": {},
     "output_type": "execute_result"
    }
   ],
   "source": [
    "salarie_titre = titre_sej[\"Ressource\"].unique()\n",
    "sans_titre = [sal for sal in strangers if sal not in salarie_titre] # Salariés etrangers n'ayant pas de titre dans PN\n",
    "salarie_notitre = fafr.loc[fafr[\"Matricule\"].astype(\"int64\").isin(sans_titre)==True]\n",
    "salarie_notitre[\"Anomalie\"] = \"Salarié sans titre de séjour\"\n",
    "salarie_notitre.shape"
   ]
  },
  {
   "cell_type": "markdown",
   "metadata": {},
   "source": [
    "### Recherche des salariés etrangers ayant un titre expiré"
   ]
  },
  {
   "cell_type": "code",
   "execution_count": 59,
   "metadata": {},
   "outputs": [],
   "source": [
    "etrangers_titre = [ sal for sal in strangers if sal not in sans_titre] # Exclusion parmis les etrangers des salariés sans titres\n",
    "etrangers_titre = [sal for sal in etrangers_titre if sal in list(fafr[\"Matricule\"].astype(\"int64\")) ] # On conserve que les salariés présents\n",
    "titre_etr = titre_sej.loc[titre_sej[\"Ressource\"].isin(etrangers_titre)==True].copy()\n",
    "titre_etr[\"today\"] = datetime.datetime.today().date()\n",
    "titre_etr.columns = ['Matricule', 'Date_de_début', 'Date_de_fin', 'Nº_de_carte_étranger','today']\n",
    "titre_etr.loc[titre_etr[\"Date_de_fin\"].isna()==True, \"Date_de_fin\"] = datetime.datetime(2050, 1, 1)"
   ]
  },
  {
   "cell_type": "code",
   "execution_count": 60,
   "metadata": {},
   "outputs": [
    {
     "data": {
      "text/plain": [
       "(138, 64)"
      ]
     },
     "execution_count": 60,
     "metadata": {},
     "output_type": "execute_result"
    }
   ],
   "source": [
    "# Création d'une base de données in memory\n",
    "conn = sqlite3.connect(':memory:')\n",
    "\n",
    "# Ajout de info_comp comme table de la base de données\n",
    "titre_etr.to_sql('titre_etr', conn, index=False)\n",
    "req = \"Select Matricule, Date_de_début, Date_de_fin, today from titre_etr where today between Date_de_début and Date_de_fin \"\n",
    "\n",
    "# Exécution de la requête et stokage du résultat dans un DataFrame\n",
    "df = pd.read_sql_query(req, conn)\n",
    "salarie_off_titre = [sal for sal in titre_etr[\"Matricule\"] if sal not in list(df[\"Matricule\"])]\n",
    "salarie_exp_titre = fafr.loc[fafr[\"Matricule\"].astype(\"int64\").isin(salarie_off_titre)].copy()\n",
    "salarie_exp_titre[\"Anomalie\"] = \"Titre de séjour expiré\"\n",
    "salarie_notitre = salarie_notitre.append(salarie_exp_titre)\n",
    "salarie_notitre.shape"
   ]
  },
  {
   "cell_type": "markdown",
   "metadata": {},
   "source": [
    "### Recherche des salariés sans date de fin"
   ]
  },
  {
   "cell_type": "code",
   "execution_count": 61,
   "metadata": {},
   "outputs": [],
   "source": [
    "sal_nodate = titre_etr.loc[titre_etr[\"Date_de_fin\"]==datetime.datetime(2050, 1, 1)]\n",
    "res_nodate = fafr.loc[fafr[\"Matricule\"].astype(\"int64\").isin(list(sal_nodate[\"Matricule\"]))].copy()\n",
    "res_nodate[\"Anomalie\"] = \"Date de fin du titre de séjour absente\"\n",
    "salarie_notitre = salarie_notitre.append(res_nodate)"
   ]
  },
  {
   "cell_type": "code",
   "execution_count": 62,
   "metadata": {},
   "outputs": [],
   "source": [
    "salarie_notitre.columns = [col.replace(\" \", \"_\") for col in salarie_notitre.columns]"
   ]
  },
  {
   "cell_type": "code",
   "execution_count": 64,
   "metadata": {},
   "outputs": [],
   "source": [
    "salarie_notitre = salarie_notitre[[\"Matricule\", \"Nom\", \"Prénom\", \"Nom_RRH_Direct\", \"Prénom_RRH_Direct\"]]"
   ]
  },
  {
   "cell_type": "code",
   "execution_count": 65,
   "metadata": {},
   "outputs": [
    {
     "data": {
      "text/html": [
       "<div>\n",
       "<style scoped>\n",
       "    .dataframe tbody tr th:only-of-type {\n",
       "        vertical-align: middle;\n",
       "    }\n",
       "\n",
       "    .dataframe tbody tr th {\n",
       "        vertical-align: top;\n",
       "    }\n",
       "\n",
       "    .dataframe thead th {\n",
       "        text-align: right;\n",
       "    }\n",
       "</style>\n",
       "<table border=\"1\" class=\"dataframe\">\n",
       "  <thead>\n",
       "    <tr style=\"text-align: right;\">\n",
       "      <th></th>\n",
       "      <th>Matricule</th>\n",
       "      <th>Nom</th>\n",
       "      <th>Prénom</th>\n",
       "      <th>Nom_RRH_Direct</th>\n",
       "      <th>Prénom_RRH_Direct</th>\n",
       "    </tr>\n",
       "  </thead>\n",
       "  <tbody>\n",
       "    <tr>\n",
       "      <th>328</th>\n",
       "      <td>12287</td>\n",
       "      <td>YILMAZ</td>\n",
       "      <td>ETEM</td>\n",
       "      <td>PERRIN</td>\n",
       "      <td>OLIVIA</td>\n",
       "    </tr>\n",
       "    <tr>\n",
       "      <th>905</th>\n",
       "      <td>30563</td>\n",
       "      <td>YELLES CHAOUCHE</td>\n",
       "      <td>MANIL</td>\n",
       "      <td>LOMBARDI</td>\n",
       "      <td>BRUNO</td>\n",
       "    </tr>\n",
       "    <tr>\n",
       "      <th>991</th>\n",
       "      <td>31564</td>\n",
       "      <td>SYLLA</td>\n",
       "      <td>ADAMA IBRAHIMA</td>\n",
       "      <td>JEMRICH</td>\n",
       "      <td>MARYSE</td>\n",
       "    </tr>\n",
       "    <tr>\n",
       "      <th>1003</th>\n",
       "      <td>32022</td>\n",
       "      <td>MAKAMONA MBUMBA</td>\n",
       "      <td>CESAR</td>\n",
       "      <td>DENIS</td>\n",
       "      <td>JEAN-CHRISTOPHE</td>\n",
       "    </tr>\n",
       "    <tr>\n",
       "      <th>1041</th>\n",
       "      <td>32704</td>\n",
       "      <td>JUNYSBEKOVA</td>\n",
       "      <td>AIGERIM</td>\n",
       "      <td>BESSAA</td>\n",
       "      <td>JASMINE</td>\n",
       "    </tr>\n",
       "    <tr>\n",
       "      <th>...</th>\n",
       "      <td>...</td>\n",
       "      <td>...</td>\n",
       "      <td>...</td>\n",
       "      <td>...</td>\n",
       "      <td>...</td>\n",
       "    </tr>\n",
       "    <tr>\n",
       "      <th>2608</th>\n",
       "      <td>419404</td>\n",
       "      <td>KHECHAB</td>\n",
       "      <td>OUMAIMA</td>\n",
       "      <td>SATTA</td>\n",
       "      <td>LAURA</td>\n",
       "    </tr>\n",
       "    <tr>\n",
       "      <th>4404</th>\n",
       "      <td>415651</td>\n",
       "      <td>OMPOUENGUI OGANDAGA</td>\n",
       "      <td>CHRIS ALPHEN</td>\n",
       "      <td>PALLEY</td>\n",
       "      <td>NICOLAS</td>\n",
       "    </tr>\n",
       "    <tr>\n",
       "      <th>6714</th>\n",
       "      <td>418072</td>\n",
       "      <td>JARI</td>\n",
       "      <td>MERIEM</td>\n",
       "      <td>JEMRICH</td>\n",
       "      <td>MARYSE</td>\n",
       "    </tr>\n",
       "    <tr>\n",
       "      <th>7379</th>\n",
       "      <td>414833</td>\n",
       "      <td>MEGZARI</td>\n",
       "      <td>ABDELHAK</td>\n",
       "      <td>BRAHMI</td>\n",
       "      <td>SAFIA</td>\n",
       "    </tr>\n",
       "    <tr>\n",
       "      <th>8750</th>\n",
       "      <td>418285</td>\n",
       "      <td>BRAHIMI</td>\n",
       "      <td>AMANI</td>\n",
       "      <td>JEMRICH</td>\n",
       "      <td>MARYSE</td>\n",
       "    </tr>\n",
       "  </tbody>\n",
       "</table>\n",
       "<p>143 rows × 5 columns</p>\n",
       "</div>"
      ],
      "text/plain": [
       "     Matricule                  Nom          Prénom Nom_RRH_Direct  \\\n",
       "328      12287               YILMAZ            ETEM         PERRIN   \n",
       "905      30563      YELLES CHAOUCHE           MANIL       LOMBARDI   \n",
       "991      31564                SYLLA  ADAMA IBRAHIMA        JEMRICH   \n",
       "1003     32022      MAKAMONA MBUMBA           CESAR          DENIS   \n",
       "1041     32704          JUNYSBEKOVA         AIGERIM         BESSAA   \n",
       "...        ...                  ...             ...            ...   \n",
       "2608    419404              KHECHAB         OUMAIMA          SATTA   \n",
       "4404    415651  OMPOUENGUI OGANDAGA    CHRIS ALPHEN         PALLEY   \n",
       "6714    418072                 JARI          MERIEM        JEMRICH   \n",
       "7379    414833              MEGZARI        ABDELHAK         BRAHMI   \n",
       "8750    418285              BRAHIMI           AMANI        JEMRICH   \n",
       "\n",
       "     Prénom_RRH_Direct  \n",
       "328             OLIVIA  \n",
       "905              BRUNO  \n",
       "991             MARYSE  \n",
       "1003   JEAN-CHRISTOPHE  \n",
       "1041           JASMINE  \n",
       "...                ...  \n",
       "2608             LAURA  \n",
       "4404           NICOLAS  \n",
       "6714            MARYSE  \n",
       "7379             SAFIA  \n",
       "8750            MARYSE  \n",
       "\n",
       "[143 rows x 5 columns]"
      ]
     },
     "execution_count": 65,
     "metadata": {},
     "output_type": "execute_result"
    }
   ],
   "source": [
    "salarie_notitre"
   ]
  }
 ],
 "metadata": {
  "kernelspec": {
   "display_name": "Python 3",
   "language": "python",
   "name": "python3"
  },
  "language_info": {
   "codemirror_mode": {
    "name": "ipython",
    "version": 3
   },
   "file_extension": ".py",
   "mimetype": "text/x-python",
   "name": "python",
   "nbconvert_exporter": "python",
   "pygments_lexer": "ipython3",
   "version": "3.8.3"
  }
 },
 "nbformat": 4,
 "nbformat_minor": 4
}
